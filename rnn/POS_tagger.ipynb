{
  "cells": [
    {
      "cell_type": "markdown",
      "metadata": {
        "id": "view-in-github",
        "colab_type": "text"
      },
      "source": [
        "<a href=\"https://colab.research.google.com/github/AnuragSingla911/PythonStudy/blob/master/rnn/POS_tagger.ipynb\" target=\"_parent\"><img src=\"https://colab.research.google.com/assets/colab-badge.svg\" alt=\"Open In Colab\"/></a>"
      ]
    },
    {
      "cell_type": "markdown",
      "metadata": {
        "id": "6BPbegmQt7V_"
      },
      "source": [
        "# POS Tagging - An Overview"
      ]
    },
    {
      "cell_type": "markdown",
      "metadata": {
        "id": "L9wM31wCt7WA"
      },
      "source": [
        "The process of classifying words into their __parts of speech__ and labeling them accordingly is known as **part-of-speech tagging**, or simply **POS-tagging**.\n",
        "\n",
        "The NLTK library has a number of corpora which contains word and its POS tag. The following table provide information about each tag:\n",
        "\n",
        "![POS tags](./jupyter resources/pos_tagging.png)"
      ]
    },
    {
      "cell_type": "markdown",
      "metadata": {
        "id": "MkvXiJ0Kt7WB"
      },
      "source": [
        "# Notebook layout\n",
        "1. Preprocess data\n",
        "2. Vanilla RNN\n",
        "3. Word Embeddings\n",
        "4. LSTM\n",
        "5. GRU\n",
        "6. Bidirectional LSTM\n",
        "7. Model Evaluation"
      ]
    },
    {
      "cell_type": "code",
      "execution_count": 4,
      "metadata": {
        "id": "7uE49l5Ct7WB"
      },
      "outputs": [],
      "source": [
        "# import necessary libraries\n",
        "import warnings\n",
        "warnings.filterwarnings(\"ignore\")\n",
        "\n",
        "import numpy as np\n",
        "\n",
        "from matplotlib import pyplot as plt\n",
        "\n",
        "from nltk.corpus import brown\n",
        "from nltk.corpus import treebank\n",
        "from nltk.corpus import conll2000\n",
        "\n",
        "import seaborn as sns\n",
        "\n",
        "from gensim.models import KeyedVectors\n",
        "\n",
        "from tensorflow.keras.preprocessing.sequence import pad_sequences\n",
        "from tensorflow.keras.utils import to_categorical\n",
        "from tensorflow.keras import Sequential, Input, Model\n",
        "from tensorflow.keras.layers import Embedding, Dense, TimeDistributed, LSTM, GRU, Bidirectional, SimpleRNN, RNN\n",
        "from tensorflow.keras.preprocessing.text import Tokenizer\n",
        "\n",
        "from sklearn.model_selection import train_test_split\n",
        "from sklearn.utils import shuffle"
      ]
    },
    {
      "cell_type": "markdown",
      "metadata": {
        "id": "6XYaEhbBt7WB"
      },
      "source": [
        "# 1. Preprocess data"
      ]
    },
    {
      "cell_type": "markdown",
      "metadata": {
        "id": "W_nql6Jzt7WC"
      },
      "source": [
        "## Load data"
      ]
    },
    {
      "cell_type": "code",
      "execution_count": 5,
      "metadata": {
        "id": "ZQ1e3zovt7WC",
        "colab": {
          "base_uri": "https://localhost:8080/"
        },
        "outputId": "586a9d52-c5b4-49a1-b78d-0f64f1ed213c"
      },
      "outputs": [
        {
          "output_type": "stream",
          "name": "stderr",
          "text": [
            "[nltk_data] Downloading package treebank to /root/nltk_data...\n",
            "[nltk_data]   Unzipping corpora/treebank.zip.\n",
            "[nltk_data] Downloading package brown to /root/nltk_data...\n",
            "[nltk_data]   Unzipping corpora/brown.zip.\n",
            "[nltk_data] Downloading package conll2000 to /root/nltk_data...\n",
            "[nltk_data]   Unzipping corpora/conll2000.zip.\n",
            "[nltk_data] Downloading package universal_tagset to /root/nltk_data...\n",
            "[nltk_data]   Unzipping taggers/universal_tagset.zip.\n"
          ]
        }
      ],
      "source": [
        "import nltk\n",
        "nltk.download('treebank')\n",
        "nltk.download('brown')\n",
        "nltk.download('conll2000')\n",
        "nltk.download('universal_tagset')\n",
        "\n",
        "# load POS tagged corpora from NLTK\n",
        "treebank_corpus = treebank.tagged_sents(tagset='universal')\n",
        "brown_corpus = brown.tagged_sents(tagset='universal')\n",
        "conll_corpus = conll2000.tagged_sents(tagset='universal')\n",
        "tagged_sentences = treebank_corpus + brown_corpus + conll_corpus"
      ]
    },
    {
      "cell_type": "code",
      "execution_count": 6,
      "metadata": {
        "id": "Ub1rsIz5t7WC",
        "colab": {
          "base_uri": "https://localhost:8080/"
        },
        "outputId": "f3c542c3-f188-47d3-9a6d-a065d80ce0d2"
      },
      "outputs": [
        {
          "output_type": "execute_result",
          "data": {
            "text/plain": [
              "[('``', '.'),\n",
              " ('We', 'PRON'),\n",
              " ('have', 'VERB'),\n",
              " ('no', 'DET'),\n",
              " ('useful', 'ADJ'),\n",
              " ('information', 'NOUN'),\n",
              " ('on', 'ADP'),\n",
              " ('whether', 'ADP'),\n",
              " ('users', 'NOUN'),\n",
              " ('are', 'VERB'),\n",
              " ('at', 'ADP'),\n",
              " ('risk', 'NOUN'),\n",
              " (',', '.'),\n",
              " (\"''\", '.'),\n",
              " ('said', 'VERB'),\n",
              " ('*T*-1', 'X'),\n",
              " ('James', 'NOUN'),\n",
              " ('A.', 'NOUN'),\n",
              " ('Talcott', 'NOUN'),\n",
              " ('of', 'ADP'),\n",
              " ('Boston', 'NOUN'),\n",
              " (\"'s\", 'PRT'),\n",
              " ('Dana-Farber', 'NOUN'),\n",
              " ('Cancer', 'NOUN'),\n",
              " ('Institute', 'NOUN'),\n",
              " ('.', '.')]"
            ]
          },
          "metadata": {},
          "execution_count": 6
        }
      ],
      "source": [
        "# let's look at the data\n",
        "tagged_sentences[11]"
      ]
    },
    {
      "cell_type": "markdown",
      "metadata": {
        "id": "tJGBqpLFt7WC"
      },
      "source": [
        "## Divide data in words (X) and tags (Y)"
      ]
    },
    {
      "cell_type": "markdown",
      "metadata": {
        "id": "Vm_GXqJht7WC"
      },
      "source": [
        "Since this is a **many-to-many** problem, each data point will be a different sentence of the corpora.\n",
        "\n",
        "Each data point will have multiple words in the **input sequence**. This is what we will refer to as **X**.\n",
        "\n",
        "Each word will have its correpsonding tag in the **output sequence**. This what we will refer to as **Y**.\n",
        "\n",
        "Sample dataset:\n",
        "\n",
        "|                    X                        |                 Y                |\n",
        "|---------------------------------------------|----------------------------------|\n",
        "|   Mr. Vinken is chairman of Elsevier        |   NOUN NOUN VERB NOUN ADP NOUN   |\n",
        "|     We have no useful information           |      PRON VERB DET ADJ NOUN      |"
      ]
    },
    {
      "cell_type": "code",
      "execution_count": 7,
      "metadata": {
        "id": "_ch0Gx01t7WC"
      },
      "outputs": [],
      "source": [
        "X = [] # store input sequence\n",
        "Y = [] # store output sequence\n",
        "\n",
        "for sentence in tagged_sentences:\n",
        "    X_sentence = []\n",
        "    Y_sentence = []\n",
        "    for entity in sentence:\n",
        "        X_sentence.append(entity[0])  # entity[0] contains the word\n",
        "        Y_sentence.append(entity[1])  # entity[1] contains corresponding tag\n",
        "\n",
        "    X.append(X_sentence)\n",
        "    Y.append(Y_sentence)"
      ]
    },
    {
      "cell_type": "code",
      "execution_count": 8,
      "metadata": {
        "id": "RQ1enXpvt7WC"
      },
      "outputs": [],
      "source": [
        "num_words = len(set([word.lower() for sentence in X for word in sentence]))\n",
        "num_tags   = len(set([word.lower() for sentence in Y for word in sentence]))"
      ]
    },
    {
      "cell_type": "code",
      "execution_count": 9,
      "metadata": {
        "id": "sovpOG16t7WD",
        "colab": {
          "base_uri": "https://localhost:8080/"
        },
        "outputId": "4fefb83b-2226-4184-ddef-85f21f3f8be4"
      },
      "outputs": [
        {
          "output_type": "stream",
          "name": "stdout",
          "text": [
            "Total number of tagged sentences: 72202\n",
            "Vocabulary size: 59448\n",
            "Total number of tags: 12\n"
          ]
        }
      ],
      "source": [
        "print(\"Total number of tagged sentences: {}\".format(len(X)))\n",
        "print(\"Vocabulary size: {}\".format(num_words))\n",
        "print(\"Total number of tags: {}\".format(num_tags))"
      ]
    },
    {
      "cell_type": "code",
      "execution_count": 10,
      "metadata": {
        "id": "3auEp0drt7WD",
        "colab": {
          "base_uri": "https://localhost:8080/"
        },
        "outputId": "2ee6da1b-9f8d-4c98-fda8-fdc7d4068b85"
      },
      "outputs": [
        {
          "output_type": "stream",
          "name": "stdout",
          "text": [
            "sample X:  ['Pierre', 'Vinken', ',', '61', 'years', 'old', ',', 'will', 'join', 'the', 'board', 'as', 'a', 'nonexecutive', 'director', 'Nov.', '29', '.'] \n",
            "\n",
            "sample Y:  ['NOUN', 'NOUN', '.', 'NUM', 'NOUN', 'ADJ', '.', 'VERB', 'VERB', 'DET', 'NOUN', 'ADP', 'DET', 'ADJ', 'NOUN', 'NOUN', 'NUM', '.'] \n",
            "\n"
          ]
        }
      ],
      "source": [
        "# let's look at first data point\n",
        "# this is one data point that will be fed to the RNN\n",
        "print('sample X: ', X[0], '\\n')\n",
        "print('sample Y: ', Y[0], '\\n')"
      ]
    },
    {
      "cell_type": "code",
      "execution_count": 11,
      "metadata": {
        "id": "E1DznV7Qt7WD",
        "colab": {
          "base_uri": "https://localhost:8080/"
        },
        "outputId": "fa6de69c-a79a-465a-877e-ce9d72a10376"
      },
      "outputs": [
        {
          "output_type": "stream",
          "name": "stdout",
          "text": [
            "Length of first input sequence  : 18\n",
            "Length of first output sequence : 18\n"
          ]
        }
      ],
      "source": [
        "# In this many-to-many problem, the length of each input and output sequence must be the same.\n",
        "# Since each word is tagged, it's important to make sure that the length of input sequence equals the output sequence\n",
        "print(\"Length of first input sequence  : {}\".format(len(X[0])))\n",
        "print(\"Length of first output sequence : {}\".format(len(Y[0])))"
      ]
    },
    {
      "cell_type": "markdown",
      "metadata": {
        "id": "aNaLhX2ut7WD"
      },
      "source": [
        "## Vectorise X and Y"
      ]
    },
    {
      "cell_type": "markdown",
      "metadata": {
        "id": "dtLQ6n1Ct7WD"
      },
      "source": [
        "#### Encode X and Y to integer values\n",
        "\n",
        "We'll use the Tokenizer() function from Keras library to encode text sequence to integer sequence"
      ]
    },
    {
      "cell_type": "code",
      "execution_count": 12,
      "metadata": {
        "id": "IKvxYNSCt7WD"
      },
      "outputs": [],
      "source": [
        "# encode X\n",
        "\n",
        "word_tokenizer = Tokenizer()                      # instantiate tokeniser\n",
        "word_tokenizer.fit_on_texts(X)                    # fit tokeniser on data\n",
        "X_encoded = word_tokenizer.texts_to_sequences(X)  # use the tokeniser to encode input sequence"
      ]
    },
    {
      "cell_type": "code",
      "execution_count": 13,
      "metadata": {
        "id": "5tFl2zH5t7WD"
      },
      "outputs": [],
      "source": [
        "# encode Y\n",
        "\n",
        "tag_tokenizer = Tokenizer()\n",
        "tag_tokenizer.fit_on_texts(Y)\n",
        "Y_encoded = tag_tokenizer.texts_to_sequences(Y)"
      ]
    },
    {
      "cell_type": "code",
      "execution_count": 14,
      "metadata": {
        "id": "-94Tx-Vot7WD",
        "colab": {
          "base_uri": "https://localhost:8080/"
        },
        "outputId": "e864092d-fe4a-464b-abb9-87e4cd66bbc1"
      },
      "outputs": [
        {
          "output_type": "stream",
          "name": "stdout",
          "text": [
            "** Raw data point ** \n",
            " ---------------------------------------------------------------------------------------------------- \n",
            "\n",
            "X:  ['Pierre', 'Vinken', ',', '61', 'years', 'old', ',', 'will', 'join', 'the', 'board', 'as', 'a', 'nonexecutive', 'director', 'Nov.', '29', '.'] \n",
            "\n",
            "Y:  ['NOUN', 'NOUN', '.', 'NUM', 'NOUN', 'ADJ', '.', 'VERB', 'VERB', 'DET', 'NOUN', 'ADP', 'DET', 'ADJ', 'NOUN', 'NOUN', 'NUM', '.'] \n",
            "\n",
            "\n",
            "** Encoded data point ** \n",
            " ---------------------------------------------------------------------------------------------------- \n",
            "\n",
            "X:  [6423, 24231, 2, 7652, 102, 170, 2, 47, 1898, 1, 269, 17, 7, 13230, 619, 1711, 2761, 3] \n",
            "\n",
            "Y:  [1, 1, 3, 11, 1, 6, 3, 2, 2, 5, 1, 4, 5, 6, 1, 1, 11, 3] \n",
            "\n"
          ]
        }
      ],
      "source": [
        "# look at first encoded data point\n",
        "\n",
        "print(\"** Raw data point **\", \"\\n\", \"-\"*100, \"\\n\")\n",
        "print('X: ', X[0], '\\n')\n",
        "print('Y: ', Y[0], '\\n')\n",
        "print()\n",
        "print(\"** Encoded data point **\", \"\\n\", \"-\"*100, \"\\n\")\n",
        "print('X: ', X_encoded[0], '\\n')\n",
        "print('Y: ', Y_encoded[0], '\\n')"
      ]
    },
    {
      "cell_type": "code",
      "execution_count": 15,
      "metadata": {
        "id": "3yuyhTlot7WE",
        "colab": {
          "base_uri": "https://localhost:8080/"
        },
        "outputId": "11597e74-ce02-4db2-8b81-b24be316254f"
      },
      "outputs": [
        {
          "output_type": "stream",
          "name": "stdout",
          "text": [
            "0 sentences have disparate input-output lengths.\n"
          ]
        }
      ],
      "source": [
        "# make sure that each sequence of input and output is same length\n",
        "\n",
        "different_length = [1 if len(input) != len(output) else 0 for input, output in zip(X_encoded, Y_encoded)]\n",
        "print(\"{} sentences have disparate input-output lengths.\".format(sum(different_length)))"
      ]
    },
    {
      "cell_type": "markdown",
      "metadata": {
        "id": "CYtKSVL6t7WE"
      },
      "source": [
        "## Pad sequences"
      ]
    },
    {
      "cell_type": "markdown",
      "metadata": {
        "id": "YLGSZPNGt7WE"
      },
      "source": [
        "The next step after encoding the data is to **define the sequence lengths**. As of now, the sentences present in the data are of various lengths. We need to either pad short sentences or truncate long sentences to a fixed length. This fixed length, however, is a **hyperparameter**."
      ]
    },
    {
      "cell_type": "code",
      "execution_count": 16,
      "metadata": {
        "id": "RyPBiOcmt7WE",
        "colab": {
          "base_uri": "https://localhost:8080/"
        },
        "outputId": "ff190c63-d48f-4f76-e727-f9eb5a8850e3"
      },
      "outputs": [
        {
          "output_type": "stream",
          "name": "stdout",
          "text": [
            "Length of longest sentence: 271\n"
          ]
        }
      ],
      "source": [
        "# check length of longest sentence\n",
        "lengths = [len(seq) for seq in X_encoded]\n",
        "print(\"Length of longest sentence: {}\".format(max(lengths)))"
      ]
    },
    {
      "cell_type": "code",
      "execution_count": 17,
      "metadata": {
        "id": "7lZhoF7Zt7WE",
        "colab": {
          "base_uri": "https://localhost:8080/",
          "height": 411
        },
        "outputId": "a4757ea0-4e1a-4643-c8f5-9bb850e645b9"
      },
      "outputs": [
        {
          "output_type": "display_data",
          "data": {
            "text/plain": [
              "<Figure size 640x480 with 1 Axes>"
            ],
            "image/png": "[encoded data removed]"
          },
          "metadata": {}
        }
      ],
      "source": [
        "sns.boxplot(lengths)\n",
        "plt.show()"
      ]
    },
    {
      "cell_type": "code",
      "execution_count": 18,
      "metadata": {
        "id": "TI75f44Bt7WE"
      },
      "outputs": [],
      "source": [
        "# Pad each sequence to MAX_SEQ_LENGTH using KERAS' pad_sequences() function.\n",
        "# Sentences longer than MAX_SEQ_LENGTH are truncated.\n",
        "# Sentences shorter than MAX_SEQ_LENGTH are padded with zeroes.\n",
        "\n",
        "# Truncation and padding can either be 'pre' or 'post'.\n",
        "# For padding we are using 'pre' padding type, that is, add zeroes on the left side.\n",
        "# For truncation, we are using 'post', that is, truncate a sentence from right side.\n",
        "\n",
        "MAX_SEQ_LENGTH = 100  # sequences greater than 100 in length will be truncated\n",
        "\n",
        "X_padded = pad_sequences(X_encoded, maxlen=MAX_SEQ_LENGTH, padding=\"pre\", truncating=\"post\")\n",
        "Y_padded = pad_sequences(Y_encoded, maxlen=MAX_SEQ_LENGTH, padding=\"pre\", truncating=\"post\")"
      ]
    },
    {
      "cell_type": "code",
      "execution_count": 19,
      "metadata": {
        "scrolled": true,
        "id": "PEQsphNot7WE",
        "colab": {
          "base_uri": "https://localhost:8080/"
        },
        "outputId": "ad9bf975-1f14-4020-82ff-c39d78ac633b"
      },
      "outputs": [
        {
          "output_type": "stream",
          "name": "stdout",
          "text": [
            "[    0     0     0     0     0     0     0     0     0     0     0     0\n",
            "     0     0     0     0     0     0     0     0     0     0     0     0\n",
            "     0     0     0     0     0     0     0     0     0     0     0     0\n",
            "     0     0     0     0     0     0     0     0     0     0     0     0\n",
            "     0     0     0     0     0     0     0     0     0     0     0     0\n",
            "     0     0     0     0     0     0     0     0     0     0     0     0\n",
            "     0     0     0     0     0     0     0     0     0     0  6423 24231\n",
            "     2  7652   102   170     2    47  1898     1   269    17     7 13230\n",
            "   619  1711  2761     3] \n",
            "\n",
            "\n",
            "\n",
            "[ 0  0  0  0  0  0  0  0  0  0  0  0  0  0  0  0  0  0  0  0  0  0  0  0\n",
            "  0  0  0  0  0  0  0  0  0  0  0  0  0  0  0  0  0  0  0  0  0  0  0  0\n",
            "  0  0  0  0  0  0  0  0  0  0  0  0  0  0  0  0  0  0  0  0  0  0  0  0\n",
            "  0  0  0  0  0  0  0  0  0  0  1  1  3 11  1  6  3  2  2  5  1  4  5  6\n",
            "  1  1 11  3]\n"
          ]
        }
      ],
      "source": [
        "# print the first sequence\n",
        "print(X_padded[0], \"\\n\"*3)\n",
        "print(Y_padded[0])"
      ]
    },
    {
      "cell_type": "markdown",
      "metadata": {
        "collapsed": true,
        "id": "v9Nvse52t7WE"
      },
      "source": [
        "RNN will learn the zero to zero mapping while training. So we don't need to worry about the padded zeroes. Please note that zero is not reserved for any word or tag, it's only reserved for padding."
      ]
    },
    {
      "cell_type": "code",
      "execution_count": 20,
      "metadata": {
        "id": "8nwEO8Lgt7WE"
      },
      "outputs": [],
      "source": [
        "# assign padded sequences to X and Y\n",
        "X, Y = X_padded, Y_padded"
      ]
    },
    {
      "cell_type": "markdown",
      "metadata": {
        "id": "_0UJg6lxt7WE"
      },
      "source": [
        "## Word embeddings"
      ]
    },
    {
      "cell_type": "markdown",
      "metadata": {
        "id": "yu5Xvl7ft7WE"
      },
      "source": [
        "Currently, each word and each tag is encoded as an integer.\n",
        "\n",
        "We'll use a more sophisticated technique to represent the input words (X) using what's known as **word embeddings**.\n",
        "\n",
        "However, to represent each tag in Y, we'll simply use **one-hot encoding** scheme since there are only 13 tags in the dataset and the LSTM will have no problems in learning its own representation of these tags."
      ]
    },
    {
      "cell_type": "markdown",
      "metadata": {
        "id": "q_KLnqF4t7WE"
      },
      "source": [
        "To use word embeddings, you can go for either of the following models:\n",
        "1. word2vec model: https://code.google.com/archive/p/word2vec/\n",
        "2. GloVe model : https://nlp.stanford.edu/projects/glove/\n",
        "\n",
        "We're using the word2vec model for no particular reason. Both of these are very efficient in representing words. You can try both and see which one works better.\n",
        "\n",
        "Dimensions of a word embedding is: (VOCABULARY_SIZE, EMBEDDING_DIMENSION)"
      ]
    },
    {
      "cell_type": "markdown",
      "metadata": {
        "id": "n8vxsYEmt7WF"
      },
      "source": [
        "### Use word embeddings for input sequences (X)"
      ]
    },
    {
      "cell_type": "code",
      "execution_count": 21,
      "metadata": {
        "id": "meR7GxZFt7WF"
      },
      "outputs": [],
      "source": [
        "# word2vec download link (Size ~ 1.5GB): https://drive.google.com/file/d/0B7XkCwpI5KDYNlNUTTlSS21pQmM/edit\n",
        "\n",
        "# path = 'word-embeddings/GoogleNews-vectors-negative300.bin.gz'\n",
        "\n",
        "# # load word2vec using the following function present in the gensim library\n",
        "# word2vec = KeyedVectors.load_word2vec_format(path, binary=True)"
      ]
    },
    {
      "cell_type": "code",
      "execution_count": 22,
      "metadata": {
        "id": "w8VSQBvVt7WF"
      },
      "outputs": [],
      "source": [
        "# word2vec effectiveness\n",
        "# word2vec.most_similar(positive = [\"King\", \"Woman\"], negative = [\"Man\"])"
      ]
    },
    {
      "cell_type": "code",
      "execution_count": 23,
      "metadata": {
        "id": "H8Wv4KbJt7WF"
      },
      "outputs": [],
      "source": [
        "# assign word vectors from word2vec model\n",
        "\n",
        "EMBEDDING_SIZE  = 300  # each word in word2vec model is represented using a 300 dimensional vector\n",
        "VOCABULARY_SIZE = len(word_tokenizer.word_index) + 1\n",
        "\n",
        "# # create an empty embedding matix\n",
        "# embedding_weights = np.zeros((VOCABULARY_SIZE, EMBEDDING_SIZE))\n",
        "\n",
        "# # create a word to index dictionary mapping\n",
        "# word2id = word_tokenizer.word_index\n",
        "\n",
        "# # copy vectors from word2vec model to the words present in corpus\n",
        "# for word, index in word2id.items():\n",
        "#     try:\n",
        "#         embedding_weights[index, :] = word2vec[word]\n",
        "#     except KeyError:\n",
        "#         pass"
      ]
    },
    {
      "cell_type": "code",
      "execution_count": 24,
      "metadata": {
        "id": "wZjZkG4Qt7WF"
      },
      "outputs": [],
      "source": [
        "# check embedding dimension\n",
        "# print(\"Embeddings shape: {}\".format(embedding_weights.shape))"
      ]
    },
    {
      "cell_type": "code",
      "execution_count": 25,
      "metadata": {
        "id": "A00hPtvZt7WF"
      },
      "outputs": [],
      "source": [
        "# let's look at an embedding of a word\n",
        "# embedding_weights[word_tokenizer.word_index['joy']]"
      ]
    },
    {
      "cell_type": "markdown",
      "metadata": {
        "id": "351_Zc4qt7WF"
      },
      "source": [
        "### Use one-hot encoding for output sequences (Y)"
      ]
    },
    {
      "cell_type": "code",
      "execution_count": 26,
      "metadata": {
        "id": "Gf6drh7Zt7WS"
      },
      "outputs": [],
      "source": [
        "# use Keras' to_categorical function to one-hot encode Y\n",
        "Y = to_categorical(Y)"
      ]
    },
    {
      "cell_type": "code",
      "execution_count": 27,
      "metadata": {
        "id": "Sxbeluent7WS",
        "colab": {
          "base_uri": "https://localhost:8080/"
        },
        "outputId": "caeedb71-c2b4-40ae-b7a8-d0515e0a9f92"
      },
      "outputs": [
        {
          "output_type": "stream",
          "name": "stdout",
          "text": [
            "(72202, 100, 13)\n"
          ]
        }
      ],
      "source": [
        "# print Y of the first output sequqnce\n",
        "print(Y.shape)"
      ]
    },
    {
      "cell_type": "markdown",
      "metadata": {
        "id": "ITucuKdqt7WS"
      },
      "source": [
        "## Split data in training, validation and tesing sets"
      ]
    },
    {
      "cell_type": "code",
      "execution_count": 28,
      "metadata": {
        "id": "rNn-k7n3t7WT"
      },
      "outputs": [],
      "source": [
        "# split entire data into training and testing sets\n",
        "TEST_SIZE = 0.15\n",
        "X_train, X_test, Y_train, Y_test = train_test_split(X, Y, test_size=TEST_SIZE, random_state=4)"
      ]
    },
    {
      "cell_type": "code",
      "execution_count": 29,
      "metadata": {
        "id": "-KAjMjdAt7WT"
      },
      "outputs": [],
      "source": [
        "# split training data into training and validation sets\n",
        "VALID_SIZE = 0.15\n",
        "X_train, X_validation, Y_train, Y_validation = train_test_split(X_train, Y_train, test_size=VALID_SIZE, random_state=4)"
      ]
    },
    {
      "cell_type": "code",
      "execution_count": 30,
      "metadata": {
        "id": "OWoOEDWdt7WT",
        "colab": {
          "base_uri": "https://localhost:8080/"
        },
        "outputId": "51ab44af-0a03-4d81-dba4-8ac8c57dc6b3"
      },
      "outputs": [
        {
          "output_type": "stream",
          "name": "stdout",
          "text": [
            "TRAINING DATA\n",
            "Shape of input sequences: (52165, 100)\n",
            "Shape of output sequences: (52165, 100, 13)\n",
            "--------------------------------------------------\n",
            "VALIDATION DATA\n",
            "Shape of input sequences: (9206, 100)\n",
            "Shape of output sequences: (9206, 100, 13)\n",
            "--------------------------------------------------\n",
            "TESTING DATA\n",
            "Shape of input sequences: (10831, 100)\n",
            "Shape of output sequences: (10831, 100, 13)\n"
          ]
        }
      ],
      "source": [
        "# print number of samples in each set\n",
        "print(\"TRAINING DATA\")\n",
        "print('Shape of input sequences: {}'.format(X_train.shape))\n",
        "print('Shape of output sequences: {}'.format(Y_train.shape))\n",
        "print(\"-\"*50)\n",
        "print(\"VALIDATION DATA\")\n",
        "print('Shape of input sequences: {}'.format(X_validation.shape))\n",
        "print('Shape of output sequences: {}'.format(Y_validation.shape))\n",
        "print(\"-\"*50)\n",
        "print(\"TESTING DATA\")\n",
        "print('Shape of input sequences: {}'.format(X_test.shape))\n",
        "print('Shape of output sequences: {}'.format(Y_test.shape))"
      ]
    },
    {
      "cell_type": "markdown",
      "metadata": {
        "id": "rcgv9Cylt7WU"
      },
      "source": [
        "Before using RNN, we must make sure the dimensions of the data are what an RNN expects. In general, an RNN expects the following shape\n",
        "\n",
        "Shape of X:\n",
        "(#samples, #timesteps, #features)\n",
        "\n",
        "Shape of Y:\n",
        "(#samples, #timesteps, #features)\n",
        "\n",
        "![RNN tensor shape](./jupyter resources/rnn_tensor.png)\n",
        "\n",
        "Now, there can be various variations in the shape that you use to feed an RNN depending on the type of architecture. Since the problem we're working on has a many-to-many architecture, the input and the output both include number of timesteps which is nothing but the sequence length. But notice that the tensor X doesn't have the third dimension, that is, number of features. That's because we're going to use word embeddings before feeding in the data to an RNN, and hence there is no need to explicitly mention the third dimension. That's because when you use the Embedding() layer in Keras, you the training data will automatically be converted to (#samples, #timesteps, #features) where #features will be the embedding dimention (and note that the Embedding layer is always the very first layer of an RNN). While using the embedding layer we only need to reshape the data to (#samples, #timesteps) which is what we have done. However, note that you'll need to shape it to (#samples, #timesteps, #features) in case you don't use the Embedding() layer in Keras."
      ]
    },
    {
      "cell_type": "markdown",
      "metadata": {
        "id": "2KFi9loKt7WU"
      },
      "source": [
        "# 2. Vanilla RNN"
      ]
    },
    {
      "cell_type": "markdown",
      "metadata": {
        "id": "WHw-tC2St7WU"
      },
      "source": [
        "### Uninitialised fixed embeddings\n",
        "First let's try running a vanilla RNN. For this RNN we won't use the pre-trained word embeddings. We'll use randomly inititalised embeddings. Moreover, we won't update the embeddings weights."
      ]
    },
    {
      "cell_type": "code",
      "execution_count": 31,
      "metadata": {
        "id": "oJQSGrhXt7WU"
      },
      "outputs": [],
      "source": [
        "# total number of tags\n",
        "NUM_CLASSES = Y.shape[2]"
      ]
    },
    {
      "cell_type": "code",
      "execution_count": 32,
      "metadata": {
        "id": "ZKpQUlMQt7WU"
      },
      "outputs": [],
      "source": [
        "# create architecture\n",
        "\n",
        "rnn_model = Sequential()\n",
        "\n",
        "# create embedding layer - usually the first layer in text problems\n",
        "rnn_model.add(Embedding(input_dim     =  VOCABULARY_SIZE,         # vocabulary size - number of unique words in data\n",
        "                        output_dim    =  EMBEDDING_SIZE,          # length of vector with which each word is represented\n",
        "                        input_length  =  MAX_SEQ_LENGTH,          # length of input sequence\n",
        "                        trainable     =  False                    # False - don't update the embeddings\n",
        "))\n",
        "\n",
        "# add an RNN layer which contains 64 RNN cells\n",
        "rnn_model.add(SimpleRNN(64,\n",
        "              return_sequences=True  # True - return whole sequence; False - return single output of the end of the sequence\n",
        "))\n",
        "\n",
        "# add time distributed (output at each sequence) layer\n",
        "rnn_model.add(TimeDistributed(Dense(NUM_CLASSES, activation='softmax')))"
      ]
    },
    {
      "cell_type": "markdown",
      "metadata": {
        "id": "RuKic1l6t7WU"
      },
      "source": [
        "## Compile model"
      ]
    },
    {
      "cell_type": "code",
      "execution_count": 33,
      "metadata": {
        "id": "QOvEqWDIt7WU"
      },
      "outputs": [],
      "source": [
        "rnn_model.compile(loss      =  'categorical_crossentropy',\n",
        "                  optimizer =  'adam',\n",
        "                  metrics   =  ['acc'])"
      ]
    },
    {
      "cell_type": "code",
      "execution_count": 34,
      "metadata": {
        "id": "NIpuP_1st7WU",
        "colab": {
          "base_uri": "https://localhost:8080/"
        },
        "outputId": "c80609f3-eff4-432d-c688-9e903d7d9383"
      },
      "outputs": [
        {
          "output_type": "stream",
          "name": "stdout",
          "text": [
            "Model: \"sequential\"\n",
            "_________________________________________________________________\n",
            " Layer (type)                Output Shape              Param #   \n",
            "=================================================================\n",
            " embedding (Embedding)       (None, 100, 300)          17834700  \n",
            "                                                                 \n",
            " simple_rnn (SimpleRNN)      (None, 100, 64)           23360     \n",
            "                                                                 \n",
            " time_distributed (TimeDist  (None, 100, 13)           845       \n",
            " ributed)                                                        \n",
            "                                                                 \n",
            "=================================================================\n",
            "Total params: 17858905 (68.13 MB)\n",
            "Trainable params: 24205 (94.55 KB)\n",
            "Non-trainable params: 17834700 (68.03 MB)\n",
            "_________________________________________________________________\n"
          ]
        }
      ],
      "source": [
        "# check summary of the model\n",
        "rnn_model.summary()"
      ]
    },
    {
      "cell_type": "markdown",
      "metadata": {
        "id": "pbWi9v7Gt7WV"
      },
      "source": [
        "## Fit model"
      ]
    },
    {
      "cell_type": "code",
      "execution_count": 35,
      "metadata": {
        "id": "Vlr7zLs2t7WV",
        "colab": {
          "base_uri": "https://localhost:8080/"
        },
        "outputId": "25fb4f83-8d27-4db8-b278-ecf5d586d388"
      },
      "outputs": [
        {
          "output_type": "stream",
          "name": "stdout",
          "text": [
            "Epoch 1/10\n",
            "408/408 [==============================] - 39s 84ms/step - loss: 0.5085 - acc: 0.8552 - val_loss: 0.3499 - val_acc: 0.8966\n",
            "Epoch 2/10\n",
            "408/408 [==============================] - 32s 79ms/step - loss: 0.2910 - acc: 0.9118 - val_loss: 0.2453 - val_acc: 0.9252\n",
            "Epoch 3/10\n",
            "408/408 [==============================] - 31s 76ms/step - loss: 0.2224 - acc: 0.9312 - val_loss: 0.2009 - val_acc: 0.9366\n",
            "Epoch 4/10\n",
            "408/408 [==============================] - 32s 78ms/step - loss: 0.1889 - acc: 0.9397 - val_loss: 0.1751 - val_acc: 0.9437\n",
            "Epoch 5/10\n",
            "408/408 [==============================] - 32s 77ms/step - loss: 0.1674 - acc: 0.9463 - val_loss: 0.1576 - val_acc: 0.9494\n",
            "Epoch 6/10\n",
            "408/408 [==============================] - 32s 79ms/step - loss: 0.1528 - acc: 0.9506 - val_loss: 0.1458 - val_acc: 0.9522\n",
            "Epoch 7/10\n",
            "408/408 [==============================] - 31s 76ms/step - loss: 0.1427 - acc: 0.9533 - val_loss: 0.1375 - val_acc: 0.9546\n",
            "Epoch 8/10\n",
            "408/408 [==============================] - 30s 74ms/step - loss: 0.1356 - acc: 0.9553 - val_loss: 0.1315 - val_acc: 0.9563\n",
            "Epoch 9/10\n",
            "408/408 [==============================] - 36s 88ms/step - loss: 0.1306 - acc: 0.9567 - val_loss: 0.1273 - val_acc: 0.9576\n",
            "Epoch 10/10\n",
            "408/408 [==============================] - 31s 75ms/step - loss: 0.1269 - acc: 0.9576 - val_loss: 0.1246 - val_acc: 0.9583\n"
          ]
        }
      ],
      "source": [
        "rnn_training = rnn_model.fit(X_train, Y_train, batch_size=128, epochs=10, validation_data=(X_validation, Y_validation))"
      ]
    },
    {
      "cell_type": "code",
      "execution_count": 36,
      "metadata": {
        "scrolled": true,
        "id": "v892gjWNt7WV",
        "colab": {
          "base_uri": "https://localhost:8080/",
          "height": 472
        },
        "outputId": "417548f6-8d2a-487a-b85c-fddef6c7feae"
      },
      "outputs": [
        {
          "output_type": "display_data",
          "data": {
            "text/plain": [
              "<Figure size 640x480 with 1 Axes>"
            ],
            "image/png": "[encoded data removed]"
          },
          "metadata": {}
        }
      ],
      "source": [
        "# visualise training history\n",
        "plt.plot(rnn_training.history['acc'])\n",
        "plt.plot(rnn_training.history['val_acc'])\n",
        "plt.title('model accuracy')\n",
        "plt.ylabel('accuracy')\n",
        "plt.xlabel('epoch')\n",
        "plt.legend(['train', 'test'], loc=\"lower right\")\n",
        "plt.show()"
      ]
    },
    {
      "cell_type": "markdown",
      "metadata": {
        "id": "birCg40zt7WV"
      },
      "source": [
        "### Uninitialised trainable embeddings"
      ]
    },
    {
      "cell_type": "code",
      "execution_count": 37,
      "metadata": {
        "id": "g3Qiunqat7WV"
      },
      "outputs": [],
      "source": [
        "# create architecture\n",
        "\n",
        "rnn_model = Sequential()\n",
        "\n",
        "# create embedding layer - usually the first layer in text problems\n",
        "rnn_model.add(Embedding(input_dim     =  VOCABULARY_SIZE,         # vocabulary size - number of unique words in data\n",
        "                        output_dim    =  EMBEDDING_SIZE,          # length of vector with which each word is represented\n",
        "                        input_length  =  MAX_SEQ_LENGTH,          # length of input sequence\n",
        "                        trainable     =  True                     # True - update the embeddings while training\n",
        "))\n",
        "\n",
        "# add an RNN layer which contains 64 RNN cells\n",
        "rnn_model.add(SimpleRNN(64,\n",
        "              return_sequences=True  # True - return whole sequence; False - return single output of the end of the sequence\n",
        "))\n",
        "\n",
        "# add time distributed (output at each sequence) layer\n",
        "rnn_model.add(TimeDistributed(Dense(NUM_CLASSES, activation='softmax')))"
      ]
    },
    {
      "cell_type": "markdown",
      "metadata": {
        "id": "NPriVX4nt7WV"
      },
      "source": [
        "## Compile model"
      ]
    },
    {
      "cell_type": "code",
      "execution_count": 38,
      "metadata": {
        "id": "G7s_eFCit7WV"
      },
      "outputs": [],
      "source": [
        "rnn_model.compile(loss      =  'categorical_crossentropy',\n",
        "                  optimizer =  'adam',\n",
        "                  metrics   =  ['acc'])"
      ]
    },
    {
      "cell_type": "code",
      "execution_count": 39,
      "metadata": {
        "scrolled": true,
        "id": "mcybAo2Yt7WV",
        "colab": {
          "base_uri": "https://localhost:8080/"
        },
        "outputId": "e665b958-3f34-407d-ae3f-8ac93fdab46d"
      },
      "outputs": [
        {
          "output_type": "stream",
          "name": "stdout",
          "text": [
            "Model: \"sequential_1\"\n",
            "_________________________________________________________________\n",
            " Layer (type)                Output Shape              Param #   \n",
            "=================================================================\n",
            " embedding_1 (Embedding)     (None, 100, 300)          17834700  \n",
            "                                                                 \n",
            " simple_rnn_1 (SimpleRNN)    (None, 100, 64)           23360     \n",
            "                                                                 \n",
            " time_distributed_1 (TimeDi  (None, 100, 13)           845       \n",
            " stributed)                                                      \n",
            "                                                                 \n",
            "=================================================================\n",
            "Total params: 17858905 (68.13 MB)\n",
            "Trainable params: 17858905 (68.13 MB)\n",
            "Non-trainable params: 0 (0.00 Byte)\n",
            "_________________________________________________________________\n"
          ]
        }
      ],
      "source": [
        "# check summary of the model\n",
        "rnn_model.summary()"
      ]
    },
    {
      "cell_type": "markdown",
      "metadata": {
        "id": "r4cxXfh6t7WV"
      },
      "source": [
        "## Fit model"
      ]
    },
    {
      "cell_type": "code",
      "execution_count": 40,
      "metadata": {
        "id": "HVYd90kst7WV",
        "colab": {
          "base_uri": "https://localhost:8080/"
        },
        "outputId": "4dace21f-5924-4330-b29a-3de9d6ca9b1e"
      },
      "outputs": [
        {
          "metadata": {
            "tags": null
          },
          "name": "stdout",
          "output_type": "stream",
          "text": [
            "Epoch 1/10\n",
            "408/408 [==============================] - 72s 173ms/step - loss: 0.2098 - acc: 0.9508 - val_loss: 0.0421 - val_acc: 0.9875\n",
            "Epoch 2/10\n",
            "408/408 [==============================] - 46s 112ms/step - loss: 0.0300 - acc: 0.9903 - val_loss: 0.0298 - val_acc: 0.9897\n",
            "Epoch 3/10\n",
            "408/408 [==============================] - 43s 106ms/step - loss: 0.0208 - acc: 0.9927 - val_loss: 0.0276 - val_acc: 0.9903\n",
            "Epoch 4/10\n",
            "408/408 [==============================] - 41s 100ms/step - loss: 0.0173 - acc: 0.9939 - val_loss: 0.0271 - val_acc: 0.9904\n",
            "Epoch 5/10\n",
            "408/408 [==============================] - 43s 105ms/step - loss: 0.0149 - acc: 0.9947 - val_loss: 0.0274 - val_acc: 0.9904\n",
            "Epoch 6/10\n",
            "408/408 [==============================] - 41s 100ms/step - loss: 0.0129 - acc: 0.9955 - val_loss: 0.0284 - val_acc: 0.9903\n",
            "Epoch 7/10\n",
            "408/408 [==============================] - 40s 99ms/step - loss: 0.0112 - acc: 0.9962 - val_loss: 0.0295 - val_acc: 0.9902\n",
            "Epoch 8/10\n",
            "408/408 [==============================] - 40s 98ms/step - loss: 0.0095 - acc: 0.9968 - val_loss: 0.0314 - val_acc: 0.9899\n",
            "Epoch 9/10\n",
            "408/408 [==============================] - 39s 96ms/step - loss: 0.0081 - acc: 0.9974 - val_loss: 0.0334 - val_acc: 0.9897\n",
            "Epoch 10/10\n",
            "408/408 [==============================] - 39s 95ms/step - loss: 0.0068 - acc: 0.9978 - val_loss: 0.0355 - val_acc: 0.9895\n"
          ]
        }
      ],
      "source": [
        "rnn_training = rnn_model.fit(X_train, Y_train, batch_size=128, epochs=10, validation_data=(X_validation, Y_validation))"
      ]
    },
    {
      "cell_type": "code",
      "execution_count": 41,
      "metadata": {
        "scrolled": true,
        "id": "DgtAP-5Zt7WV",
        "colab": {
          "base_uri": "https://localhost:8080/",
          "height": 472
        },
        "outputId": "bb21458f-250e-44c0-d73c-c69b27ecb675"
      },
      "outputs": [
        {
          "data": {
            "image/png": "[encoded data removed]",
            "text/plain": [
              "<Figure size 640x480 with 1 Axes>"
            ]
          },
          "metadata": {},
          "output_type": "display_data"
        }
      ],
      "source": [
        "# visualise training history\n",
        "plt.plot(rnn_training.history['acc'])\n",
        "plt.plot(rnn_training.history['val_acc'])\n",
        "plt.title('model accuracy')\n",
        "plt.ylabel('accuracy')\n",
        "plt.xlabel('epoch')\n",
        "plt.legend(['train', 'test'], loc=\"lower right\")\n",
        "plt.show()"
      ]
    },
    {
      "cell_type": "markdown",
      "metadata": {
        "id": "pb4H803zt7WV"
      },
      "source": [
        "### Using pre-trained embedding weights"
      ]
    },
    {
      "cell_type": "code",
      "execution_count": 42,
      "metadata": {
        "id": "xrHR8Xxxt7WW",
        "colab": {
          "base_uri": "https://localhost:8080/",
          "height": 216
        },
        "outputId": "f38f946e-023f-47cd-918a-2c6616230fde"
      },
      "outputs": [
        {
          "ename": "NameError",
          "evalue": "name 'embedding_weights' is not defined",
          "output_type": "error",
          "traceback": [
            "\u001b[0;31m---------------------------------------------------------------------------\u001b[0m",
            "\u001b[0;31mNameError\u001b[0m                                 Traceback (most recent call last)",
            "\u001b[0;32m<ipython-input-42-d41b76533870>\u001b[0m in \u001b[0;36m<cell line: 6>\u001b[0;34m()\u001b[0m\n\u001b[1;32m      7\u001b[0m                         \u001b[0moutput_dim\u001b[0m    \u001b[0;34m=\u001b[0m  \u001b[0mEMBEDDING_SIZE\u001b[0m\u001b[0;34m,\u001b[0m          \u001b[0;31m# length of vector with which each word is represented\u001b[0m\u001b[0;34m\u001b[0m\u001b[0;34m\u001b[0m\u001b[0m\n\u001b[1;32m      8\u001b[0m                         \u001b[0minput_length\u001b[0m  \u001b[0;34m=\u001b[0m  \u001b[0mMAX_SEQ_LENGTH\u001b[0m\u001b[0;34m,\u001b[0m          \u001b[0;31m# length of input sequence\u001b[0m\u001b[0;34m\u001b[0m\u001b[0;34m\u001b[0m\u001b[0m\n\u001b[0;32m----> 9\u001b[0;31m                         \u001b[0mweights\u001b[0m       \u001b[0;34m=\u001b[0m \u001b[0;34m[\u001b[0m\u001b[0membedding_weights\u001b[0m\u001b[0;34m]\u001b[0m\u001b[0;34m,\u001b[0m      \u001b[0;31m# word embedding matrix\u001b[0m\u001b[0;34m\u001b[0m\u001b[0;34m\u001b[0m\u001b[0m\n\u001b[0m\u001b[1;32m     10\u001b[0m                         \u001b[0mtrainable\u001b[0m     \u001b[0;34m=\u001b[0m  \u001b[0;32mTrue\u001b[0m                     \u001b[0;31m# True - update the embeddings while training\u001b[0m\u001b[0;34m\u001b[0m\u001b[0;34m\u001b[0m\u001b[0m\n\u001b[1;32m     11\u001b[0m ))\n",
            "\u001b[0;31mNameError\u001b[0m: name 'embedding_weights' is not defined"
          ]
        }
      ],
      "source": [
        "# create architecture\n",
        "\n",
        "rnn_model = Sequential()\n",
        "\n",
        "# create embedding layer - usually the first layer in text problems\n",
        "rnn_model.add(Embedding(input_dim     =  VOCABULARY_SIZE,         # vocabulary size - number of unique words in data\n",
        "                        output_dim    =  EMBEDDING_SIZE,          # length of vector with which each word is represented\n",
        "                        input_length  =  MAX_SEQ_LENGTH,          # length of input sequence\n",
        "                        weights       = [embedding_weights],      # word embedding matrix\n",
        "                        trainable     =  True                     # True - update the embeddings while training\n",
        "))\n",
        "\n",
        "# add an RNN layer which contains 64 RNN cells\n",
        "rnn_model.add(SimpleRNN(64,\n",
        "              return_sequences=True  # True - return whole sequence; False - return single output of the end of the sequence\n",
        "))\n",
        "\n",
        "# add time distributed (output at each sequence) layer\n",
        "rnn_model.add(TimeDistributed(Dense(NUM_CLASSES, activation='softmax')))"
      ]
    },
    {
      "cell_type": "markdown",
      "metadata": {
        "id": "TRLgrI-Wt7WW"
      },
      "source": [
        "## Compile model"
      ]
    },
    {
      "cell_type": "code",
      "execution_count": null,
      "metadata": {
        "id": "f1qTwbtat7WW"
      },
      "outputs": [],
      "source": [
        "rnn_model.compile(loss      =  'categorical_crossentropy',\n",
        "                  optimizer =  'adam',\n",
        "                  metrics   =  ['acc'])"
      ]
    },
    {
      "cell_type": "code",
      "execution_count": null,
      "metadata": {
        "scrolled": true,
        "id": "6TTk8_Yvt7WW"
      },
      "outputs": [],
      "source": [
        "# check summary of the model\n",
        "rnn_model.summary()"
      ]
    },
    {
      "cell_type": "markdown",
      "metadata": {
        "id": "xoYfIxght7WW"
      },
      "source": [
        "## Fit model"
      ]
    },
    {
      "cell_type": "code",
      "execution_count": null,
      "metadata": {
        "id": "EbYru4Cmt7WW"
      },
      "outputs": [],
      "source": [
        "rnn_training = rnn_model.fit(X_train, Y_train, batch_size=128, epochs=10, validation_data=(X_validation, Y_validation))"
      ]
    },
    {
      "cell_type": "code",
      "execution_count": null,
      "metadata": {
        "scrolled": true,
        "id": "rdpj-Z_jt7WW"
      },
      "outputs": [],
      "source": [
        "# visualise training history\n",
        "plt.plot(rnn_training.history['acc'])\n",
        "plt.plot(rnn_training.history['val_acc'])\n",
        "plt.title('model accuracy')\n",
        "plt.ylabel('accuracy')\n",
        "plt.xlabel('epoch')\n",
        "plt.legend(['train', 'test'], loc=\"lower right\")\n",
        "plt.show()"
      ]
    },
    {
      "cell_type": "markdown",
      "metadata": {
        "id": "th2NAd-Pt7WW"
      },
      "source": [
        "# 2. LSTM"
      ]
    },
    {
      "cell_type": "markdown",
      "metadata": {
        "id": "mNT45wC4t7WW"
      },
      "source": [
        "We'll use pre-trained word embeddings in following models and allow them to be updated as well."
      ]
    },
    {
      "cell_type": "markdown",
      "metadata": {
        "id": "AfaPUTnwt7WW"
      },
      "source": [
        "## Create model architecture"
      ]
    },
    {
      "cell_type": "code",
      "execution_count": null,
      "metadata": {
        "id": "mUHPsgl6t7WW"
      },
      "outputs": [],
      "source": [
        "# create architecture\n",
        "\n",
        "lstm_model = Sequential()\n",
        "lstm_model.add(Embedding(input_dim     = VOCABULARY_SIZE,         # vocabulary size - number of unique words in data\n",
        "                         output_dim    = EMBEDDING_SIZE,          # length of vector with which each word is represented\n",
        "                         input_length  = MAX_SEQ_LENGTH,          # length of input sequence\n",
        "                         weights       = [embedding_weights],     # word embedding matrix\n",
        "                         trainable     = True                     # True - update embeddings_weight matrix\n",
        "))\n",
        "lstm_model.add(LSTM(64, return_sequences=True))\n",
        "lstm_model.add(TimeDistributed(Dense(NUM_CLASSES, activation='softmax')))"
      ]
    },
    {
      "cell_type": "markdown",
      "metadata": {
        "id": "smlf2GCet7WW"
      },
      "source": [
        "## Compile model"
      ]
    },
    {
      "cell_type": "code",
      "execution_count": null,
      "metadata": {
        "id": "ygnJLMA_t7WX"
      },
      "outputs": [],
      "source": [
        "lstm_model.compile(loss      =  'categorical_crossentropy',\n",
        "                   optimizer =  'adam',\n",
        "                   metrics   =  ['acc'])"
      ]
    },
    {
      "cell_type": "code",
      "execution_count": null,
      "metadata": {
        "id": "Ff1M_E3gt7WX"
      },
      "outputs": [],
      "source": [
        "# check summary of the model\n",
        "lstm_model.summary()"
      ]
    },
    {
      "cell_type": "markdown",
      "metadata": {
        "id": "Qif60j2It7WX"
      },
      "source": [
        "## Fit model"
      ]
    },
    {
      "cell_type": "code",
      "execution_count": null,
      "metadata": {
        "id": "oxyVZ8azt7WX"
      },
      "outputs": [],
      "source": [
        "lstm_training = lstm_model.fit(X_train, Y_train, batch_size=128, epochs=10, validation_data=(X_validation, Y_validation))"
      ]
    },
    {
      "cell_type": "code",
      "execution_count": null,
      "metadata": {
        "id": "7e7PR-_dt7WX"
      },
      "outputs": [],
      "source": [
        "# visualise training history\n",
        "plt.plot(lstm_training.history['acc'])\n",
        "plt.plot(lstm_training.history['val_acc'])\n",
        "plt.title('model accuracy')\n",
        "plt.ylabel('accuracy')\n",
        "plt.xlabel('epoch')\n",
        "plt.legend(['train', 'test'], loc=\"lower right\")\n",
        "plt.show()"
      ]
    },
    {
      "cell_type": "markdown",
      "metadata": {
        "collapsed": true,
        "id": "86tncHq2t7WX"
      },
      "source": [
        "# 2. GRU"
      ]
    },
    {
      "cell_type": "markdown",
      "metadata": {
        "id": "nFd131Uet7WX"
      },
      "source": [
        "## Create model architecture"
      ]
    },
    {
      "cell_type": "code",
      "execution_count": null,
      "metadata": {
        "id": "HD777Ohzt7WX"
      },
      "outputs": [],
      "source": [
        "# create architecture\n",
        "\n",
        "gru_model = Sequential()\n",
        "gru_model.add(Embedding(input_dim     = VOCABULARY_SIZE,\n",
        "                        output_dim    = EMBEDDING_SIZE,\n",
        "                        input_length  = MAX_SEQ_LENGTH,\n",
        "                        weights       = [embedding_weights],\n",
        "                        trainable     = True\n",
        "))\n",
        "gru_model.add(GRU(64, return_sequences=True))\n",
        "gru_model.add(TimeDistributed(Dense(NUM_CLASSES, activation='softmax')))"
      ]
    },
    {
      "cell_type": "markdown",
      "metadata": {
        "id": "DPPb2OISt7WX"
      },
      "source": [
        "## Compile model"
      ]
    },
    {
      "cell_type": "code",
      "execution_count": null,
      "metadata": {
        "id": "9ne3vWg0t7WX"
      },
      "outputs": [],
      "source": [
        "gru_model.compile(loss='categorical_crossentropy',\n",
        "              optimizer='adam',\n",
        "              metrics=['acc'])"
      ]
    },
    {
      "cell_type": "code",
      "execution_count": null,
      "metadata": {
        "id": "yxzKb96zt7WX"
      },
      "outputs": [],
      "source": [
        "# check summary of model\n",
        "gru_model.summary()"
      ]
    },
    {
      "cell_type": "markdown",
      "metadata": {
        "id": "PV5sOKH8t7WY"
      },
      "source": [
        "## Fit model"
      ]
    },
    {
      "cell_type": "code",
      "execution_count": null,
      "metadata": {
        "id": "SKzt2JQct7WY"
      },
      "outputs": [],
      "source": [
        "gru_training = gru_model.fit(X_train, Y_train, batch_size=128, epochs=10, validation_data=(X_validation, Y_validation))"
      ]
    },
    {
      "cell_type": "code",
      "execution_count": null,
      "metadata": {
        "id": "K8-vyEuNt7WY"
      },
      "outputs": [],
      "source": [
        "# visualise training history\n",
        "plt.plot(gru_training.history['acc'])\n",
        "plt.plot(gru_training.history['val_acc'])\n",
        "plt.title('model accuracy')\n",
        "plt.ylabel('accuracy')\n",
        "plt.xlabel('epoch')\n",
        "plt.legend(['train', 'test'], loc=\"lower right\")\n",
        "plt.show()"
      ]
    },
    {
      "cell_type": "markdown",
      "metadata": {
        "id": "EA1ioa5Et7WY"
      },
      "source": [
        "# 3. Bidirectional LSTM"
      ]
    },
    {
      "cell_type": "markdown",
      "metadata": {
        "id": "Ehim1QJxt7WY"
      },
      "source": [
        "## Create model architecture"
      ]
    },
    {
      "cell_type": "code",
      "execution_count": null,
      "metadata": {
        "id": "edR9LBzit7WY"
      },
      "outputs": [],
      "source": [
        "# create architecture\n",
        "\n",
        "bidirect_model = Sequential()\n",
        "bidirect_model.add(Embedding(input_dim     = VOCABULARY_SIZE,\n",
        "                             output_dim    = EMBEDDING_SIZE,\n",
        "                             input_length  = MAX_SEQ_LENGTH,\n",
        "                             weights       = [embedding_weights],\n",
        "                             trainable     = True\n",
        "))\n",
        "bidirect_model.add(Bidirectional(LSTM(64, return_sequences=True)))\n",
        "bidirect_model.add(TimeDistributed(Dense(NUM_CLASSES, activation='softmax')))"
      ]
    },
    {
      "cell_type": "markdown",
      "metadata": {
        "id": "HFc43lFft7WY"
      },
      "source": [
        "## Compile model"
      ]
    },
    {
      "cell_type": "code",
      "execution_count": null,
      "metadata": {
        "id": "tqk8mEAKt7WY"
      },
      "outputs": [],
      "source": [
        "bidirect_model.compile(loss='categorical_crossentropy',\n",
        "              optimizer='adam',\n",
        "              metrics=['acc'])"
      ]
    },
    {
      "cell_type": "code",
      "execution_count": null,
      "metadata": {
        "id": "QNSGrNCBt7WY"
      },
      "outputs": [],
      "source": [
        "# check summary of model\n",
        "bidirect_model.summary()"
      ]
    },
    {
      "cell_type": "markdown",
      "metadata": {
        "id": "LvY-8elMt7WY"
      },
      "source": [
        "## Fit model"
      ]
    },
    {
      "cell_type": "code",
      "execution_count": null,
      "metadata": {
        "id": "bhrSbmh4t7WY"
      },
      "outputs": [],
      "source": [
        "bidirect_training = bidirect_model.fit(X_train, Y_train, batch_size=128, epochs=10, validation_data=(X_validation, Y_validation))"
      ]
    },
    {
      "cell_type": "code",
      "execution_count": null,
      "metadata": {
        "id": "6OkCpeMtt7WY"
      },
      "outputs": [],
      "source": [
        "# visualise training history\n",
        "plt.plot(bidirect_training.history['acc'])\n",
        "plt.plot(bidirect_training.history['val_acc'])\n",
        "plt.title('model accuracy')\n",
        "plt.ylabel('accuracy')\n",
        "plt.xlabel('epoch')\n",
        "plt.legend(['train', 'test'], loc=\"lower right\")\n",
        "plt.show()"
      ]
    },
    {
      "cell_type": "markdown",
      "metadata": {
        "id": "LZ9dRz2Ot7WY"
      },
      "source": [
        "# 5. Model evaluation"
      ]
    },
    {
      "cell_type": "code",
      "execution_count": null,
      "metadata": {
        "id": "zsSB85Jft7WZ"
      },
      "outputs": [],
      "source": [
        "loss, accuracy = rnn_model.evaluate(X_test, Y_test, verbose = 1)\n",
        "print(\"Loss: {0},\\nAccuracy: {1}\".format(loss, accuracy))"
      ]
    },
    {
      "cell_type": "code",
      "execution_count": null,
      "metadata": {
        "id": "lSceK7Tdt7WZ"
      },
      "outputs": [],
      "source": [
        "loss, accuracy = lstm_model.evaluate(X_test, Y_test, verbose = 1)\n",
        "print(\"Loss: {0},\\nAccuracy: {1}\".format(loss, accuracy))"
      ]
    },
    {
      "cell_type": "code",
      "execution_count": null,
      "metadata": {
        "id": "rjrb2Ajkt7WZ"
      },
      "outputs": [],
      "source": [
        "loss, accuracy = gru_model.evaluate(X_test, Y_test, verbose = 1)\n",
        "print(\"Loss: {0},\\nAccuracy: {1}\".format(loss, accuracy))"
      ]
    },
    {
      "cell_type": "code",
      "execution_count": null,
      "metadata": {
        "id": "m5C1N4yNt7WZ"
      },
      "outputs": [],
      "source": [
        "loss, accuracy = bidirect_model.evaluate(X_test, Y_test, verbose = 1)\n",
        "print(\"Loss: {0},\\nAccuracy: {1}\".format(loss, accuracy))"
      ]
    },
    {
      "cell_type": "code",
      "execution_count": null,
      "metadata": {
        "id": "HAFIpxGet7WZ"
      },
      "outputs": [],
      "source": []
    }
  ],
  "metadata": {
    "kernelspec": {
      "display_name": "Python 3",
      "name": "python3"
    },
    "language_info": {
      "codemirror_mode": {
        "name": "ipython",
        "version": 3
      },
      "file_extension": ".py",
      "mimetype": "text/x-python",
      "name": "python",
      "nbconvert_exporter": "python",
      "pygments_lexer": "ipython3",
      "version": "3.7.3"
    },
    "colab": {
      "provenance": [],
      "gpuType": "T4",
      "include_colab_link": true
    },
    "accelerator": "GPU"
  },
  "nbformat": 4,
  "nbformat_minor": 0
}