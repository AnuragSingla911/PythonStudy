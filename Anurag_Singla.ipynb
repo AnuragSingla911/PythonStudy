{
 "cells": [
  {
   "cell_type": "markdown",
   "id": "51b58d77",
   "metadata": {},
   "source": [
    "# Lending Club Case Study"
   ]
  },
  {
   "cell_type": "code",
   "execution_count": 1084,
   "id": "415ce859",
   "metadata": {},
   "outputs": [],
   "source": [
    "# import essential libraries\n",
    "import numpy as np\n",
    "import pandas as pd\n",
    "import matplotlib.pyplot as plt\n",
    "import seaborn as sns\n"
   ]
  },
  {
   "cell_type": "markdown",
   "id": "f71e9d64",
   "metadata": {},
   "source": [
    "##### Reading provided CSV file using pandas library"
   ]
  },
  {
   "cell_type": "code",
   "execution_count": 1085,
   "id": "a2a8680c",
   "metadata": {},
   "outputs": [],
   "source": [
    "loan_df = pd.read_csv('loan.csv', low_memory=False)"
   ]
  },
  {
   "cell_type": "markdown",
   "id": "c50eac06",
   "metadata": {},
   "source": [
    "##### Lets have look on CSV data, columns and shape"
   ]
  },
  {
   "cell_type": "code",
   "execution_count": 1086,
   "id": "315709ac",
   "metadata": {},
   "outputs": [
    {
     "data": {
      "text/plain": [
       "(39717, 111)"
      ]
     },
     "execution_count": 1086,
     "metadata": {},
     "output_type": "execute_result"
    }
   ],
   "source": [
    "loan_df.shape"
   ]
  },
  {
   "cell_type": "code",
   "execution_count": 1087,
   "id": "9c2d7cf0",
   "metadata": {},
   "outputs": [
    {
     "name": "stdout",
     "output_type": "stream",
     "text": [
      "<class 'pandas.core.frame.DataFrame'>\n",
      "RangeIndex: 39717 entries, 0 to 39716\n",
      "Data columns (total 111 columns):\n",
      " #    Column                          Dtype  \n",
      "---   ------                          -----  \n",
      " 0    id                              int64  \n",
      " 1    member_id                       int64  \n",
      " 2    loan_amnt                       int64  \n",
      " 3    funded_amnt                     int64  \n",
      " 4    funded_amnt_inv                 float64\n",
      " 5    term                            object \n",
      " 6    int_rate                        object \n",
      " 7    installment                     float64\n",
      " 8    grade                           object \n",
      " 9    sub_grade                       object \n",
      " 10   emp_title                       object \n",
      " 11   emp_length                      object \n",
      " 12   home_ownership                  object \n",
      " 13   annual_inc                      float64\n",
      " 14   verification_status             object \n",
      " 15   issue_d                         object \n",
      " 16   loan_status                     object \n",
      " 17   pymnt_plan                      object \n",
      " 18   url                             object \n",
      " 19   desc                            object \n",
      " 20   purpose                         object \n",
      " 21   title                           object \n",
      " 22   zip_code                        object \n",
      " 23   addr_state                      object \n",
      " 24   dti                             float64\n",
      " 25   delinq_2yrs                     int64  \n",
      " 26   earliest_cr_line                object \n",
      " 27   inq_last_6mths                  int64  \n",
      " 28   mths_since_last_delinq          float64\n",
      " 29   mths_since_last_record          float64\n",
      " 30   open_acc                        int64  \n",
      " 31   pub_rec                         int64  \n",
      " 32   revol_bal                       int64  \n",
      " 33   revol_util                      object \n",
      " 34   total_acc                       int64  \n",
      " 35   initial_list_status             object \n",
      " 36   out_prncp                       float64\n",
      " 37   out_prncp_inv                   float64\n",
      " 38   total_pymnt                     float64\n",
      " 39   total_pymnt_inv                 float64\n",
      " 40   total_rec_prncp                 float64\n",
      " 41   total_rec_int                   float64\n",
      " 42   total_rec_late_fee              float64\n",
      " 43   recoveries                      float64\n",
      " 44   collection_recovery_fee         float64\n",
      " 45   last_pymnt_d                    object \n",
      " 46   last_pymnt_amnt                 float64\n",
      " 47   next_pymnt_d                    object \n",
      " 48   last_credit_pull_d              object \n",
      " 49   collections_12_mths_ex_med      float64\n",
      " 50   mths_since_last_major_derog     float64\n",
      " 51   policy_code                     int64  \n",
      " 52   application_type                object \n",
      " 53   annual_inc_joint                float64\n",
      " 54   dti_joint                       float64\n",
      " 55   verification_status_joint       float64\n",
      " 56   acc_now_delinq                  int64  \n",
      " 57   tot_coll_amt                    float64\n",
      " 58   tot_cur_bal                     float64\n",
      " 59   open_acc_6m                     float64\n",
      " 60   open_il_6m                      float64\n",
      " 61   open_il_12m                     float64\n",
      " 62   open_il_24m                     float64\n",
      " 63   mths_since_rcnt_il              float64\n",
      " 64   total_bal_il                    float64\n",
      " 65   il_util                         float64\n",
      " 66   open_rv_12m                     float64\n",
      " 67   open_rv_24m                     float64\n",
      " 68   max_bal_bc                      float64\n",
      " 69   all_util                        float64\n",
      " 70   total_rev_hi_lim                float64\n",
      " 71   inq_fi                          float64\n",
      " 72   total_cu_tl                     float64\n",
      " 73   inq_last_12m                    float64\n",
      " 74   acc_open_past_24mths            float64\n",
      " 75   avg_cur_bal                     float64\n",
      " 76   bc_open_to_buy                  float64\n",
      " 77   bc_util                         float64\n",
      " 78   chargeoff_within_12_mths        float64\n",
      " 79   delinq_amnt                     int64  \n",
      " 80   mo_sin_old_il_acct              float64\n",
      " 81   mo_sin_old_rev_tl_op            float64\n",
      " 82   mo_sin_rcnt_rev_tl_op           float64\n",
      " 83   mo_sin_rcnt_tl                  float64\n",
      " 84   mort_acc                        float64\n",
      " 85   mths_since_recent_bc            float64\n",
      " 86   mths_since_recent_bc_dlq        float64\n",
      " 87   mths_since_recent_inq           float64\n",
      " 88   mths_since_recent_revol_delinq  float64\n",
      " 89   num_accts_ever_120_pd           float64\n",
      " 90   num_actv_bc_tl                  float64\n",
      " 91   num_actv_rev_tl                 float64\n",
      " 92   num_bc_sats                     float64\n",
      " 93   num_bc_tl                       float64\n",
      " 94   num_il_tl                       float64\n",
      " 95   num_op_rev_tl                   float64\n",
      " 96   num_rev_accts                   float64\n",
      " 97   num_rev_tl_bal_gt_0             float64\n",
      " 98   num_sats                        float64\n",
      " 99   num_tl_120dpd_2m                float64\n",
      " 100  num_tl_30dpd                    float64\n",
      " 101  num_tl_90g_dpd_24m              float64\n",
      " 102  num_tl_op_past_12m              float64\n",
      " 103  pct_tl_nvr_dlq                  float64\n",
      " 104  percent_bc_gt_75                float64\n",
      " 105  pub_rec_bankruptcies            float64\n",
      " 106  tax_liens                       float64\n",
      " 107  tot_hi_cred_lim                 float64\n",
      " 108  total_bal_ex_mort               float64\n",
      " 109  total_bc_limit                  float64\n",
      " 110  total_il_high_credit_limit      float64\n",
      "dtypes: float64(74), int64(13), object(24)\n",
      "memory usage: 33.6+ MB\n"
     ]
    }
   ],
   "source": [
    "loan_df.info(True)"
   ]
  },
  {
   "cell_type": "markdown",
   "id": "1f04deb6",
   "metadata": {},
   "source": [
    "##### preview the dataset"
   ]
  },
  {
   "cell_type": "code",
   "execution_count": 1088,
   "id": "eef041ee",
   "metadata": {},
   "outputs": [
    {
     "data": {
      "text/html": [
       "<div>\n",
       "<style scoped>\n",
       "    .dataframe tbody tr th:only-of-type {\n",
       "        vertical-align: middle;\n",
       "    }\n",
       "\n",
       "    .dataframe tbody tr th {\n",
       "        vertical-align: top;\n",
       "    }\n",
       "\n",
       "    .dataframe thead th {\n",
       "        text-align: right;\n",
       "    }\n",
       "</style>\n",
       "<table border=\"1\" class=\"dataframe\">\n",
       "  <thead>\n",
       "    <tr style=\"text-align: right;\">\n",
       "      <th></th>\n",
       "      <th>id</th>\n",
       "      <th>member_id</th>\n",
       "      <th>loan_amnt</th>\n",
       "      <th>funded_amnt</th>\n",
       "      <th>funded_amnt_inv</th>\n",
       "      <th>term</th>\n",
       "      <th>int_rate</th>\n",
       "      <th>installment</th>\n",
       "      <th>grade</th>\n",
       "      <th>sub_grade</th>\n",
       "      <th>...</th>\n",
       "      <th>num_tl_90g_dpd_24m</th>\n",
       "      <th>num_tl_op_past_12m</th>\n",
       "      <th>pct_tl_nvr_dlq</th>\n",
       "      <th>percent_bc_gt_75</th>\n",
       "      <th>pub_rec_bankruptcies</th>\n",
       "      <th>tax_liens</th>\n",
       "      <th>tot_hi_cred_lim</th>\n",
       "      <th>total_bal_ex_mort</th>\n",
       "      <th>total_bc_limit</th>\n",
       "      <th>total_il_high_credit_limit</th>\n",
       "    </tr>\n",
       "  </thead>\n",
       "  <tbody>\n",
       "    <tr>\n",
       "      <th>0</th>\n",
       "      <td>1077501</td>\n",
       "      <td>1296599</td>\n",
       "      <td>5000</td>\n",
       "      <td>5000</td>\n",
       "      <td>4975.0</td>\n",
       "      <td>36 months</td>\n",
       "      <td>10.65%</td>\n",
       "      <td>162.87</td>\n",
       "      <td>B</td>\n",
       "      <td>B2</td>\n",
       "      <td>...</td>\n",
       "      <td>NaN</td>\n",
       "      <td>NaN</td>\n",
       "      <td>NaN</td>\n",
       "      <td>NaN</td>\n",
       "      <td>0.0</td>\n",
       "      <td>0.0</td>\n",
       "      <td>NaN</td>\n",
       "      <td>NaN</td>\n",
       "      <td>NaN</td>\n",
       "      <td>NaN</td>\n",
       "    </tr>\n",
       "    <tr>\n",
       "      <th>1</th>\n",
       "      <td>1077430</td>\n",
       "      <td>1314167</td>\n",
       "      <td>2500</td>\n",
       "      <td>2500</td>\n",
       "      <td>2500.0</td>\n",
       "      <td>60 months</td>\n",
       "      <td>15.27%</td>\n",
       "      <td>59.83</td>\n",
       "      <td>C</td>\n",
       "      <td>C4</td>\n",
       "      <td>...</td>\n",
       "      <td>NaN</td>\n",
       "      <td>NaN</td>\n",
       "      <td>NaN</td>\n",
       "      <td>NaN</td>\n",
       "      <td>0.0</td>\n",
       "      <td>0.0</td>\n",
       "      <td>NaN</td>\n",
       "      <td>NaN</td>\n",
       "      <td>NaN</td>\n",
       "      <td>NaN</td>\n",
       "    </tr>\n",
       "    <tr>\n",
       "      <th>2</th>\n",
       "      <td>1077175</td>\n",
       "      <td>1313524</td>\n",
       "      <td>2400</td>\n",
       "      <td>2400</td>\n",
       "      <td>2400.0</td>\n",
       "      <td>36 months</td>\n",
       "      <td>15.96%</td>\n",
       "      <td>84.33</td>\n",
       "      <td>C</td>\n",
       "      <td>C5</td>\n",
       "      <td>...</td>\n",
       "      <td>NaN</td>\n",
       "      <td>NaN</td>\n",
       "      <td>NaN</td>\n",
       "      <td>NaN</td>\n",
       "      <td>0.0</td>\n",
       "      <td>0.0</td>\n",
       "      <td>NaN</td>\n",
       "      <td>NaN</td>\n",
       "      <td>NaN</td>\n",
       "      <td>NaN</td>\n",
       "    </tr>\n",
       "    <tr>\n",
       "      <th>3</th>\n",
       "      <td>1076863</td>\n",
       "      <td>1277178</td>\n",
       "      <td>10000</td>\n",
       "      <td>10000</td>\n",
       "      <td>10000.0</td>\n",
       "      <td>36 months</td>\n",
       "      <td>13.49%</td>\n",
       "      <td>339.31</td>\n",
       "      <td>C</td>\n",
       "      <td>C1</td>\n",
       "      <td>...</td>\n",
       "      <td>NaN</td>\n",
       "      <td>NaN</td>\n",
       "      <td>NaN</td>\n",
       "      <td>NaN</td>\n",
       "      <td>0.0</td>\n",
       "      <td>0.0</td>\n",
       "      <td>NaN</td>\n",
       "      <td>NaN</td>\n",
       "      <td>NaN</td>\n",
       "      <td>NaN</td>\n",
       "    </tr>\n",
       "    <tr>\n",
       "      <th>4</th>\n",
       "      <td>1075358</td>\n",
       "      <td>1311748</td>\n",
       "      <td>3000</td>\n",
       "      <td>3000</td>\n",
       "      <td>3000.0</td>\n",
       "      <td>60 months</td>\n",
       "      <td>12.69%</td>\n",
       "      <td>67.79</td>\n",
       "      <td>B</td>\n",
       "      <td>B5</td>\n",
       "      <td>...</td>\n",
       "      <td>NaN</td>\n",
       "      <td>NaN</td>\n",
       "      <td>NaN</td>\n",
       "      <td>NaN</td>\n",
       "      <td>0.0</td>\n",
       "      <td>0.0</td>\n",
       "      <td>NaN</td>\n",
       "      <td>NaN</td>\n",
       "      <td>NaN</td>\n",
       "      <td>NaN</td>\n",
       "    </tr>\n",
       "  </tbody>\n",
       "</table>\n",
       "<p>5 rows × 111 columns</p>\n",
       "</div>"
      ],
      "text/plain": [
       "        id  member_id  loan_amnt  funded_amnt  funded_amnt_inv        term  \\\n",
       "0  1077501    1296599       5000         5000           4975.0   36 months   \n",
       "1  1077430    1314167       2500         2500           2500.0   60 months   \n",
       "2  1077175    1313524       2400         2400           2400.0   36 months   \n",
       "3  1076863    1277178      10000        10000          10000.0   36 months   \n",
       "4  1075358    1311748       3000         3000           3000.0   60 months   \n",
       "\n",
       "  int_rate  installment grade sub_grade  ... num_tl_90g_dpd_24m  \\\n",
       "0   10.65%       162.87     B        B2  ...                NaN   \n",
       "1   15.27%        59.83     C        C4  ...                NaN   \n",
       "2   15.96%        84.33     C        C5  ...                NaN   \n",
       "3   13.49%       339.31     C        C1  ...                NaN   \n",
       "4   12.69%        67.79     B        B5  ...                NaN   \n",
       "\n",
       "  num_tl_op_past_12m pct_tl_nvr_dlq  percent_bc_gt_75 pub_rec_bankruptcies  \\\n",
       "0                NaN            NaN               NaN                  0.0   \n",
       "1                NaN            NaN               NaN                  0.0   \n",
       "2                NaN            NaN               NaN                  0.0   \n",
       "3                NaN            NaN               NaN                  0.0   \n",
       "4                NaN            NaN               NaN                  0.0   \n",
       "\n",
       "  tax_liens tot_hi_cred_lim total_bal_ex_mort total_bc_limit  \\\n",
       "0       0.0             NaN               NaN            NaN   \n",
       "1       0.0             NaN               NaN            NaN   \n",
       "2       0.0             NaN               NaN            NaN   \n",
       "3       0.0             NaN               NaN            NaN   \n",
       "4       0.0             NaN               NaN            NaN   \n",
       "\n",
       "  total_il_high_credit_limit  \n",
       "0                        NaN  \n",
       "1                        NaN  \n",
       "2                        NaN  \n",
       "3                        NaN  \n",
       "4                        NaN  \n",
       "\n",
       "[5 rows x 111 columns]"
      ]
     },
     "execution_count": 1088,
     "metadata": {},
     "output_type": "execute_result"
    }
   ],
   "source": [
    "loan_df.head()"
   ]
  },
  {
   "cell_type": "code",
   "execution_count": 1089,
   "id": "fd724677",
   "metadata": {},
   "outputs": [
    {
     "data": {
      "text/html": [
       "<div>\n",
       "<style scoped>\n",
       "    .dataframe tbody tr th:only-of-type {\n",
       "        vertical-align: middle;\n",
       "    }\n",
       "\n",
       "    .dataframe tbody tr th {\n",
       "        vertical-align: top;\n",
       "    }\n",
       "\n",
       "    .dataframe thead th {\n",
       "        text-align: right;\n",
       "    }\n",
       "</style>\n",
       "<table border=\"1\" class=\"dataframe\">\n",
       "  <thead>\n",
       "    <tr style=\"text-align: right;\">\n",
       "      <th></th>\n",
       "      <th>id</th>\n",
       "      <th>member_id</th>\n",
       "      <th>loan_amnt</th>\n",
       "      <th>funded_amnt</th>\n",
       "      <th>funded_amnt_inv</th>\n",
       "      <th>installment</th>\n",
       "      <th>annual_inc</th>\n",
       "      <th>dti</th>\n",
       "      <th>delinq_2yrs</th>\n",
       "      <th>inq_last_6mths</th>\n",
       "      <th>...</th>\n",
       "      <th>num_tl_90g_dpd_24m</th>\n",
       "      <th>num_tl_op_past_12m</th>\n",
       "      <th>pct_tl_nvr_dlq</th>\n",
       "      <th>percent_bc_gt_75</th>\n",
       "      <th>pub_rec_bankruptcies</th>\n",
       "      <th>tax_liens</th>\n",
       "      <th>tot_hi_cred_lim</th>\n",
       "      <th>total_bal_ex_mort</th>\n",
       "      <th>total_bc_limit</th>\n",
       "      <th>total_il_high_credit_limit</th>\n",
       "    </tr>\n",
       "  </thead>\n",
       "  <tbody>\n",
       "    <tr>\n",
       "      <th>count</th>\n",
       "      <td>3.971700e+04</td>\n",
       "      <td>3.971700e+04</td>\n",
       "      <td>39717.000000</td>\n",
       "      <td>39717.000000</td>\n",
       "      <td>39717.000000</td>\n",
       "      <td>39717.000000</td>\n",
       "      <td>3.971700e+04</td>\n",
       "      <td>39717.000000</td>\n",
       "      <td>39717.000000</td>\n",
       "      <td>39717.000000</td>\n",
       "      <td>...</td>\n",
       "      <td>0.0</td>\n",
       "      <td>0.0</td>\n",
       "      <td>0.0</td>\n",
       "      <td>0.0</td>\n",
       "      <td>39020.000000</td>\n",
       "      <td>39678.0</td>\n",
       "      <td>0.0</td>\n",
       "      <td>0.0</td>\n",
       "      <td>0.0</td>\n",
       "      <td>0.0</td>\n",
       "    </tr>\n",
       "    <tr>\n",
       "      <th>mean</th>\n",
       "      <td>6.831319e+05</td>\n",
       "      <td>8.504636e+05</td>\n",
       "      <td>11219.443815</td>\n",
       "      <td>10947.713196</td>\n",
       "      <td>10397.448868</td>\n",
       "      <td>324.561922</td>\n",
       "      <td>6.896893e+04</td>\n",
       "      <td>13.315130</td>\n",
       "      <td>0.146512</td>\n",
       "      <td>0.869200</td>\n",
       "      <td>...</td>\n",
       "      <td>NaN</td>\n",
       "      <td>NaN</td>\n",
       "      <td>NaN</td>\n",
       "      <td>NaN</td>\n",
       "      <td>0.043260</td>\n",
       "      <td>0.0</td>\n",
       "      <td>NaN</td>\n",
       "      <td>NaN</td>\n",
       "      <td>NaN</td>\n",
       "      <td>NaN</td>\n",
       "    </tr>\n",
       "    <tr>\n",
       "      <th>std</th>\n",
       "      <td>2.106941e+05</td>\n",
       "      <td>2.656783e+05</td>\n",
       "      <td>7456.670694</td>\n",
       "      <td>7187.238670</td>\n",
       "      <td>7128.450439</td>\n",
       "      <td>208.874874</td>\n",
       "      <td>6.379377e+04</td>\n",
       "      <td>6.678594</td>\n",
       "      <td>0.491812</td>\n",
       "      <td>1.070219</td>\n",
       "      <td>...</td>\n",
       "      <td>NaN</td>\n",
       "      <td>NaN</td>\n",
       "      <td>NaN</td>\n",
       "      <td>NaN</td>\n",
       "      <td>0.204324</td>\n",
       "      <td>0.0</td>\n",
       "      <td>NaN</td>\n",
       "      <td>NaN</td>\n",
       "      <td>NaN</td>\n",
       "      <td>NaN</td>\n",
       "    </tr>\n",
       "    <tr>\n",
       "      <th>min</th>\n",
       "      <td>5.473400e+04</td>\n",
       "      <td>7.069900e+04</td>\n",
       "      <td>500.000000</td>\n",
       "      <td>500.000000</td>\n",
       "      <td>0.000000</td>\n",
       "      <td>15.690000</td>\n",
       "      <td>4.000000e+03</td>\n",
       "      <td>0.000000</td>\n",
       "      <td>0.000000</td>\n",
       "      <td>0.000000</td>\n",
       "      <td>...</td>\n",
       "      <td>NaN</td>\n",
       "      <td>NaN</td>\n",
       "      <td>NaN</td>\n",
       "      <td>NaN</td>\n",
       "      <td>0.000000</td>\n",
       "      <td>0.0</td>\n",
       "      <td>NaN</td>\n",
       "      <td>NaN</td>\n",
       "      <td>NaN</td>\n",
       "      <td>NaN</td>\n",
       "    </tr>\n",
       "    <tr>\n",
       "      <th>25%</th>\n",
       "      <td>5.162210e+05</td>\n",
       "      <td>6.667800e+05</td>\n",
       "      <td>5500.000000</td>\n",
       "      <td>5400.000000</td>\n",
       "      <td>5000.000000</td>\n",
       "      <td>167.020000</td>\n",
       "      <td>4.040400e+04</td>\n",
       "      <td>8.170000</td>\n",
       "      <td>0.000000</td>\n",
       "      <td>0.000000</td>\n",
       "      <td>...</td>\n",
       "      <td>NaN</td>\n",
       "      <td>NaN</td>\n",
       "      <td>NaN</td>\n",
       "      <td>NaN</td>\n",
       "      <td>0.000000</td>\n",
       "      <td>0.0</td>\n",
       "      <td>NaN</td>\n",
       "      <td>NaN</td>\n",
       "      <td>NaN</td>\n",
       "      <td>NaN</td>\n",
       "    </tr>\n",
       "    <tr>\n",
       "      <th>50%</th>\n",
       "      <td>6.656650e+05</td>\n",
       "      <td>8.508120e+05</td>\n",
       "      <td>10000.000000</td>\n",
       "      <td>9600.000000</td>\n",
       "      <td>8975.000000</td>\n",
       "      <td>280.220000</td>\n",
       "      <td>5.900000e+04</td>\n",
       "      <td>13.400000</td>\n",
       "      <td>0.000000</td>\n",
       "      <td>1.000000</td>\n",
       "      <td>...</td>\n",
       "      <td>NaN</td>\n",
       "      <td>NaN</td>\n",
       "      <td>NaN</td>\n",
       "      <td>NaN</td>\n",
       "      <td>0.000000</td>\n",
       "      <td>0.0</td>\n",
       "      <td>NaN</td>\n",
       "      <td>NaN</td>\n",
       "      <td>NaN</td>\n",
       "      <td>NaN</td>\n",
       "    </tr>\n",
       "    <tr>\n",
       "      <th>75%</th>\n",
       "      <td>8.377550e+05</td>\n",
       "      <td>1.047339e+06</td>\n",
       "      <td>15000.000000</td>\n",
       "      <td>15000.000000</td>\n",
       "      <td>14400.000000</td>\n",
       "      <td>430.780000</td>\n",
       "      <td>8.230000e+04</td>\n",
       "      <td>18.600000</td>\n",
       "      <td>0.000000</td>\n",
       "      <td>1.000000</td>\n",
       "      <td>...</td>\n",
       "      <td>NaN</td>\n",
       "      <td>NaN</td>\n",
       "      <td>NaN</td>\n",
       "      <td>NaN</td>\n",
       "      <td>0.000000</td>\n",
       "      <td>0.0</td>\n",
       "      <td>NaN</td>\n",
       "      <td>NaN</td>\n",
       "      <td>NaN</td>\n",
       "      <td>NaN</td>\n",
       "    </tr>\n",
       "    <tr>\n",
       "      <th>max</th>\n",
       "      <td>1.077501e+06</td>\n",
       "      <td>1.314167e+06</td>\n",
       "      <td>35000.000000</td>\n",
       "      <td>35000.000000</td>\n",
       "      <td>35000.000000</td>\n",
       "      <td>1305.190000</td>\n",
       "      <td>6.000000e+06</td>\n",
       "      <td>29.990000</td>\n",
       "      <td>11.000000</td>\n",
       "      <td>8.000000</td>\n",
       "      <td>...</td>\n",
       "      <td>NaN</td>\n",
       "      <td>NaN</td>\n",
       "      <td>NaN</td>\n",
       "      <td>NaN</td>\n",
       "      <td>2.000000</td>\n",
       "      <td>0.0</td>\n",
       "      <td>NaN</td>\n",
       "      <td>NaN</td>\n",
       "      <td>NaN</td>\n",
       "      <td>NaN</td>\n",
       "    </tr>\n",
       "  </tbody>\n",
       "</table>\n",
       "<p>8 rows × 87 columns</p>\n",
       "</div>"
      ],
      "text/plain": [
       "                 id     member_id     loan_amnt   funded_amnt  \\\n",
       "count  3.971700e+04  3.971700e+04  39717.000000  39717.000000   \n",
       "mean   6.831319e+05  8.504636e+05  11219.443815  10947.713196   \n",
       "std    2.106941e+05  2.656783e+05   7456.670694   7187.238670   \n",
       "min    5.473400e+04  7.069900e+04    500.000000    500.000000   \n",
       "25%    5.162210e+05  6.667800e+05   5500.000000   5400.000000   \n",
       "50%    6.656650e+05  8.508120e+05  10000.000000   9600.000000   \n",
       "75%    8.377550e+05  1.047339e+06  15000.000000  15000.000000   \n",
       "max    1.077501e+06  1.314167e+06  35000.000000  35000.000000   \n",
       "\n",
       "       funded_amnt_inv   installment    annual_inc           dti  \\\n",
       "count     39717.000000  39717.000000  3.971700e+04  39717.000000   \n",
       "mean      10397.448868    324.561922  6.896893e+04     13.315130   \n",
       "std        7128.450439    208.874874  6.379377e+04      6.678594   \n",
       "min           0.000000     15.690000  4.000000e+03      0.000000   \n",
       "25%        5000.000000    167.020000  4.040400e+04      8.170000   \n",
       "50%        8975.000000    280.220000  5.900000e+04     13.400000   \n",
       "75%       14400.000000    430.780000  8.230000e+04     18.600000   \n",
       "max       35000.000000   1305.190000  6.000000e+06     29.990000   \n",
       "\n",
       "        delinq_2yrs  inq_last_6mths  ...  num_tl_90g_dpd_24m  \\\n",
       "count  39717.000000    39717.000000  ...                 0.0   \n",
       "mean       0.146512        0.869200  ...                 NaN   \n",
       "std        0.491812        1.070219  ...                 NaN   \n",
       "min        0.000000        0.000000  ...                 NaN   \n",
       "25%        0.000000        0.000000  ...                 NaN   \n",
       "50%        0.000000        1.000000  ...                 NaN   \n",
       "75%        0.000000        1.000000  ...                 NaN   \n",
       "max       11.000000        8.000000  ...                 NaN   \n",
       "\n",
       "       num_tl_op_past_12m  pct_tl_nvr_dlq  percent_bc_gt_75  \\\n",
       "count                 0.0             0.0               0.0   \n",
       "mean                  NaN             NaN               NaN   \n",
       "std                   NaN             NaN               NaN   \n",
       "min                   NaN             NaN               NaN   \n",
       "25%                   NaN             NaN               NaN   \n",
       "50%                   NaN             NaN               NaN   \n",
       "75%                   NaN             NaN               NaN   \n",
       "max                   NaN             NaN               NaN   \n",
       "\n",
       "       pub_rec_bankruptcies  tax_liens  tot_hi_cred_lim  total_bal_ex_mort  \\\n",
       "count          39020.000000    39678.0              0.0                0.0   \n",
       "mean               0.043260        0.0              NaN                NaN   \n",
       "std                0.204324        0.0              NaN                NaN   \n",
       "min                0.000000        0.0              NaN                NaN   \n",
       "25%                0.000000        0.0              NaN                NaN   \n",
       "50%                0.000000        0.0              NaN                NaN   \n",
       "75%                0.000000        0.0              NaN                NaN   \n",
       "max                2.000000        0.0              NaN                NaN   \n",
       "\n",
       "       total_bc_limit  total_il_high_credit_limit  \n",
       "count             0.0                         0.0  \n",
       "mean              NaN                         NaN  \n",
       "std               NaN                         NaN  \n",
       "min               NaN                         NaN  \n",
       "25%               NaN                         NaN  \n",
       "50%               NaN                         NaN  \n",
       "75%               NaN                         NaN  \n",
       "max               NaN                         NaN  \n",
       "\n",
       "[8 rows x 87 columns]"
      ]
     },
     "execution_count": 1089,
     "metadata": {},
     "output_type": "execute_result"
    }
   ],
   "source": [
    "loan_df.describe()"
   ]
  },
  {
   "cell_type": "markdown",
   "id": "52c884b4",
   "metadata": {},
   "source": [
    "### Data Quality issues identified:\n",
    "#### Missing Values :\n",
    "- There is no row with all null values\n",
    "- There are columns with null values\n",
    "- There are columns which very few non null values and signifiant null values\n",
    "- There are columns which single value across all rows\n",
    "\n",
    "#### Standard Values issues :\n",
    "- prefix space should be handled on term column\n",
    "- % symbol should be removed from int_rate and revol_util\n",
    "- emp_length should be modified into numeric value\n",
    "- date format should be changed on issue_d, earliest_cr_line, last_pymnt_d etc.\n",
    "- round the decimal places into 2 digit for total_pymnt column\n",
    "- zipcode suffix values should be fixed"
   ]
  },
  {
   "cell_type": "markdown",
   "id": "1917294f",
   "metadata": {},
   "source": [
    "# Data Cleaning and Manipulation"
   ]
  },
  {
   "cell_type": "markdown",
   "id": "98682b91",
   "metadata": {},
   "source": [
    "##### Lets check if there are rows with all values null. "
   ]
  },
  {
   "cell_type": "code",
   "execution_count": 1090,
   "id": "aa2f7676",
   "metadata": {},
   "outputs": [
    {
     "data": {
      "text/html": [
       "<div>\n",
       "<style scoped>\n",
       "    .dataframe tbody tr th:only-of-type {\n",
       "        vertical-align: middle;\n",
       "    }\n",
       "\n",
       "    .dataframe tbody tr th {\n",
       "        vertical-align: top;\n",
       "    }\n",
       "\n",
       "    .dataframe thead th {\n",
       "        text-align: right;\n",
       "    }\n",
       "</style>\n",
       "<table border=\"1\" class=\"dataframe\">\n",
       "  <thead>\n",
       "    <tr style=\"text-align: right;\">\n",
       "      <th></th>\n",
       "      <th>id</th>\n",
       "      <th>member_id</th>\n",
       "      <th>loan_amnt</th>\n",
       "      <th>funded_amnt</th>\n",
       "      <th>funded_amnt_inv</th>\n",
       "      <th>term</th>\n",
       "      <th>int_rate</th>\n",
       "      <th>installment</th>\n",
       "      <th>grade</th>\n",
       "      <th>sub_grade</th>\n",
       "      <th>...</th>\n",
       "      <th>num_tl_90g_dpd_24m</th>\n",
       "      <th>num_tl_op_past_12m</th>\n",
       "      <th>pct_tl_nvr_dlq</th>\n",
       "      <th>percent_bc_gt_75</th>\n",
       "      <th>pub_rec_bankruptcies</th>\n",
       "      <th>tax_liens</th>\n",
       "      <th>tot_hi_cred_lim</th>\n",
       "      <th>total_bal_ex_mort</th>\n",
       "      <th>total_bc_limit</th>\n",
       "      <th>total_il_high_credit_limit</th>\n",
       "    </tr>\n",
       "  </thead>\n",
       "  <tbody>\n",
       "  </tbody>\n",
       "</table>\n",
       "<p>0 rows × 111 columns</p>\n",
       "</div>"
      ],
      "text/plain": [
       "Empty DataFrame\n",
       "Columns: [id, member_id, loan_amnt, funded_amnt, funded_amnt_inv, term, int_rate, installment, grade, sub_grade, emp_title, emp_length, home_ownership, annual_inc, verification_status, issue_d, loan_status, pymnt_plan, url, desc, purpose, title, zip_code, addr_state, dti, delinq_2yrs, earliest_cr_line, inq_last_6mths, mths_since_last_delinq, mths_since_last_record, open_acc, pub_rec, revol_bal, revol_util, total_acc, initial_list_status, out_prncp, out_prncp_inv, total_pymnt, total_pymnt_inv, total_rec_prncp, total_rec_int, total_rec_late_fee, recoveries, collection_recovery_fee, last_pymnt_d, last_pymnt_amnt, next_pymnt_d, last_credit_pull_d, collections_12_mths_ex_med, mths_since_last_major_derog, policy_code, application_type, annual_inc_joint, dti_joint, verification_status_joint, acc_now_delinq, tot_coll_amt, tot_cur_bal, open_acc_6m, open_il_6m, open_il_12m, open_il_24m, mths_since_rcnt_il, total_bal_il, il_util, open_rv_12m, open_rv_24m, max_bal_bc, all_util, total_rev_hi_lim, inq_fi, total_cu_tl, inq_last_12m, acc_open_past_24mths, avg_cur_bal, bc_open_to_buy, bc_util, chargeoff_within_12_mths, delinq_amnt, mo_sin_old_il_acct, mo_sin_old_rev_tl_op, mo_sin_rcnt_rev_tl_op, mo_sin_rcnt_tl, mort_acc, mths_since_recent_bc, mths_since_recent_bc_dlq, mths_since_recent_inq, mths_since_recent_revol_delinq, num_accts_ever_120_pd, num_actv_bc_tl, num_actv_rev_tl, num_bc_sats, num_bc_tl, num_il_tl, num_op_rev_tl, num_rev_accts, num_rev_tl_bal_gt_0, num_sats, num_tl_120dpd_2m, ...]\n",
       "Index: []\n",
       "\n",
       "[0 rows x 111 columns]"
      ]
     },
     "execution_count": 1090,
     "metadata": {},
     "output_type": "execute_result"
    }
   ],
   "source": [
    "completely_null_rows = loan_df[loan_df.isnull().all(axis=1)]\n",
    "completely_null_rows"
   ]
  },
  {
   "cell_type": "markdown",
   "id": "1798a38f",
   "metadata": {},
   "source": [
    "##### list out the columns only filled with null values and  drop them from data set as it wont impact data analysis"
   ]
  },
  {
   "cell_type": "code",
   "execution_count": 1091,
   "id": "302ed8f7",
   "metadata": {},
   "outputs": [
    {
     "name": "stdout",
     "output_type": "stream",
     "text": [
      "Index(['mths_since_last_major_derog', 'annual_inc_joint', 'dti_joint',\n",
      "       'verification_status_joint', 'tot_coll_amt', 'tot_cur_bal',\n",
      "       'open_acc_6m', 'open_il_6m', 'open_il_12m', 'open_il_24m',\n",
      "       'mths_since_rcnt_il', 'total_bal_il', 'il_util', 'open_rv_12m',\n",
      "       'open_rv_24m', 'max_bal_bc', 'all_util', 'total_rev_hi_lim', 'inq_fi',\n",
      "       'total_cu_tl', 'inq_last_12m', 'acc_open_past_24mths', 'avg_cur_bal',\n",
      "       'bc_open_to_buy', 'bc_util', 'mo_sin_old_il_acct',\n",
      "       'mo_sin_old_rev_tl_op', 'mo_sin_rcnt_rev_tl_op', 'mo_sin_rcnt_tl',\n",
      "       'mort_acc', 'mths_since_recent_bc', 'mths_since_recent_bc_dlq',\n",
      "       'mths_since_recent_inq', 'mths_since_recent_revol_delinq',\n",
      "       'num_accts_ever_120_pd', 'num_actv_bc_tl', 'num_actv_rev_tl',\n",
      "       'num_bc_sats', 'num_bc_tl', 'num_il_tl', 'num_op_rev_tl',\n",
      "       'num_rev_accts', 'num_rev_tl_bal_gt_0', 'num_sats', 'num_tl_120dpd_2m',\n",
      "       'num_tl_30dpd', 'num_tl_90g_dpd_24m', 'num_tl_op_past_12m',\n",
      "       'pct_tl_nvr_dlq', 'percent_bc_gt_75', 'tot_hi_cred_lim',\n",
      "       'total_bal_ex_mort', 'total_bc_limit', 'total_il_high_credit_limit'],\n",
      "      dtype='object')\n"
     ]
    }
   ],
   "source": [
    "columns_with_null = loan_df.columns[loan_df.isnull().all()]\n",
    "print(columns_with_null)"
   ]
  },
  {
   "cell_type": "code",
   "execution_count": 1092,
   "id": "5fab0e66",
   "metadata": {},
   "outputs": [],
   "source": [
    "loan_df.dropna(axis=1, how='all', inplace=True)"
   ]
  },
  {
   "cell_type": "markdown",
   "id": "5d8a3a4e",
   "metadata": {},
   "source": [
    "##### verify the columns has dropped"
   ]
  },
  {
   "cell_type": "code",
   "execution_count": 1093,
   "id": "71c55ca8",
   "metadata": {},
   "outputs": [
    {
     "data": {
      "text/plain": [
       "(39717, 57)"
      ]
     },
     "execution_count": 1093,
     "metadata": {},
     "output_type": "execute_result"
    }
   ],
   "source": [
    "loan_df.shape"
   ]
  },
  {
   "cell_type": "code",
   "execution_count": 1094,
   "id": "2876dad3",
   "metadata": {},
   "outputs": [
    {
     "data": {
      "text/plain": [
       "Index(['id', 'member_id', 'loan_amnt', 'funded_amnt', 'funded_amnt_inv',\n",
       "       'term', 'int_rate', 'installment', 'grade', 'sub_grade', 'emp_title',\n",
       "       'emp_length', 'home_ownership', 'annual_inc', 'verification_status',\n",
       "       'issue_d', 'loan_status', 'pymnt_plan', 'url', 'desc', 'purpose',\n",
       "       'title', 'zip_code', 'addr_state', 'dti', 'delinq_2yrs',\n",
       "       'earliest_cr_line', 'inq_last_6mths', 'mths_since_last_delinq',\n",
       "       'mths_since_last_record', 'open_acc', 'pub_rec', 'revol_bal',\n",
       "       'revol_util', 'total_acc', 'initial_list_status', 'out_prncp',\n",
       "       'out_prncp_inv', 'total_pymnt', 'total_pymnt_inv', 'total_rec_prncp',\n",
       "       'total_rec_int', 'total_rec_late_fee', 'recoveries',\n",
       "       'collection_recovery_fee', 'last_pymnt_d', 'last_pymnt_amnt',\n",
       "       'next_pymnt_d', 'last_credit_pull_d', 'collections_12_mths_ex_med',\n",
       "       'policy_code', 'application_type', 'acc_now_delinq',\n",
       "       'chargeoff_within_12_mths', 'delinq_amnt', 'pub_rec_bankruptcies',\n",
       "       'tax_liens'],\n",
       "      dtype='object')"
      ]
     },
     "execution_count": 1094,
     "metadata": {},
     "output_type": "execute_result"
    }
   ],
   "source": [
    "loan_df.columns"
   ]
  },
  {
   "cell_type": "markdown",
   "id": "5e2662b1",
   "metadata": {},
   "source": [
    "##### Find out the columns holding significant null values"
   ]
  },
  {
   "cell_type": "code",
   "execution_count": 1095,
   "id": "f3909fd5",
   "metadata": {},
   "outputs": [
    {
     "name": "stdout",
     "output_type": "stream",
     "text": [
      "Index(['emp_title', 'emp_length', 'desc', 'title', 'mths_since_last_delinq',\n",
      "       'mths_since_last_record', 'revol_util', 'last_pymnt_d', 'next_pymnt_d',\n",
      "       'last_credit_pull_d', 'collections_12_mths_ex_med',\n",
      "       'chargeoff_within_12_mths', 'pub_rec_bankruptcies', 'tax_liens'],\n",
      "      dtype='object')\n"
     ]
    }
   ],
   "source": [
    "columns_with_null = loan_df.columns[loan_df.isnull().any()]\n",
    "print(columns_with_null)"
   ]
  },
  {
   "cell_type": "code",
   "execution_count": 1096,
   "id": "167f0152",
   "metadata": {},
   "outputs": [
    {
     "data": {
      "text/plain": [
       "emp_title                      2459\n",
       "emp_length                     1075\n",
       "desc                          12940\n",
       "title                            11\n",
       "mths_since_last_delinq        25682\n",
       "mths_since_last_record        36931\n",
       "revol_util                       50\n",
       "last_pymnt_d                     71\n",
       "next_pymnt_d                  38577\n",
       "last_credit_pull_d                2\n",
       "collections_12_mths_ex_med       56\n",
       "chargeoff_within_12_mths         56\n",
       "pub_rec_bankruptcies            697\n",
       "tax_liens                        39\n",
       "dtype: int64"
      ]
     },
     "execution_count": 1096,
     "metadata": {},
     "output_type": "execute_result"
    }
   ],
   "source": [
    "columns_with_null = loan_df.isnull().sum()\n",
    "columns_with_null[columns_with_null > 0]"
   ]
  },
  {
   "cell_type": "markdown",
   "id": "95ef9850",
   "metadata": {},
   "source": [
    "##### Lets drop columns where null values are quite high in number"
   ]
  },
  {
   "cell_type": "code",
   "execution_count": 1097,
   "id": "5b53da75",
   "metadata": {},
   "outputs": [],
   "source": [
    "loan_df.dropna(axis = 1, thresh = 30000, inplace=True)"
   ]
  },
  {
   "cell_type": "code",
   "execution_count": 1098,
   "id": "1954dc2d",
   "metadata": {},
   "outputs": [
    {
     "data": {
      "text/plain": [
       "emp_title                     2459\n",
       "emp_length                    1075\n",
       "title                           11\n",
       "revol_util                      50\n",
       "last_pymnt_d                    71\n",
       "last_credit_pull_d               2\n",
       "collections_12_mths_ex_med      56\n",
       "chargeoff_within_12_mths        56\n",
       "pub_rec_bankruptcies           697\n",
       "tax_liens                       39\n",
       "dtype: int64"
      ]
     },
     "execution_count": 1098,
     "metadata": {},
     "output_type": "execute_result"
    }
   ],
   "source": [
    "columns_with_null = loan_df.isnull().sum()\n",
    "columns_with_null[columns_with_null > 0]"
   ]
  },
  {
   "cell_type": "markdown",
   "id": "ee5accd4",
   "metadata": {},
   "source": [
    "##### Lets check rows which has significant null values"
   ]
  },
  {
   "cell_type": "code",
   "execution_count": 1099,
   "id": "a4838645",
   "metadata": {},
   "outputs": [
    {
     "data": {
      "text/plain": [
       "39659    5\n",
       "39660    5\n",
       "39700    5\n",
       "39704    5\n",
       "39706    5\n",
       "39714    5\n",
       "39715    5\n",
       "dtype: int64"
      ]
     },
     "execution_count": 1099,
     "metadata": {},
     "output_type": "execute_result"
    }
   ],
   "source": [
    "null_counts_rowwise = loan_df.isnull().sum(axis=1)\n",
    "null_counts_rowwise[null_counts_rowwise > 4]"
   ]
  },
  {
   "cell_type": "markdown",
   "id": "3918faa3",
   "metadata": {},
   "source": [
    "###### There is no row exist in data set with significant null values."
   ]
  },
  {
   "cell_type": "markdown",
   "id": "7c16c71f",
   "metadata": {},
   "source": [
    "##### Invalid values check"
   ]
  },
  {
   "cell_type": "code",
   "execution_count": 1100,
   "id": "6363c3cf",
   "metadata": {},
   "outputs": [
    {
     "name": "stdout",
     "output_type": "stream",
     "text": [
      "Columns with values: ['title']\n"
     ]
    }
   ],
   "source": [
    "# List of values to check\n",
    "values_to_check = [\"NA\", \"XX\", \"999\", \"N/A\", \"n/a\", \"NaN\", \"NULL\", \"null\", \"\", \"None\", \"Missing\", \"Unknown\"]\n",
    "\n",
    "# Check if values are present in any column\n",
    "values_present_in_columns = loan_df.isin(values_to_check).any()\n",
    "\n",
    "# Display columns where values are present\n",
    "columns_with_values = values_present_in_columns[values_present_in_columns].index.tolist()\n",
    "print(\"Columns with values:\", columns_with_values)"
   ]
  },
  {
   "cell_type": "code",
   "execution_count": 1101,
   "id": "3d90283e",
   "metadata": {},
   "outputs": [
    {
     "data": {
      "text/plain": [
       "(1, 53)"
      ]
     },
     "execution_count": 1101,
     "metadata": {},
     "output_type": "execute_result"
    }
   ],
   "source": [
    "loan_df[loan_df.title == 'Unknown'].shape"
   ]
  },
  {
   "cell_type": "markdown",
   "id": "ce40195f",
   "metadata": {},
   "source": [
    "##### Find out the columns which can be dropped off other than null (Usually filled with single value)"
   ]
  },
  {
   "cell_type": "code",
   "execution_count": 1102,
   "id": "49cbf205",
   "metadata": {},
   "outputs": [
    {
     "name": "stdout",
     "output_type": "stream",
     "text": [
      " 36 months    29096\n",
      " 60 months    10621\n",
      "Name: term, dtype: int64\n",
      "====================\n",
      "n    39717\n",
      "Name: pymnt_plan, dtype: int64\n",
      "====================\n",
      "f    39717\n",
      "Name: initial_list_status, dtype: int64\n",
      "====================\n",
      "0.0    39661\n",
      "Name: collections_12_mths_ex_med, dtype: int64\n",
      "====================\n",
      "1    39717\n",
      "Name: policy_code, dtype: int64\n",
      "====================\n",
      "INDIVIDUAL    39717\n",
      "Name: application_type, dtype: int64\n",
      "====================\n",
      "0    39717\n",
      "Name: acc_now_delinq, dtype: int64\n",
      "====================\n",
      "0.0    39661\n",
      "Name: chargeoff_within_12_mths, dtype: int64\n",
      "====================\n",
      "0    39717\n",
      "Name: delinq_amnt, dtype: int64\n",
      "====================\n",
      "0.0    39678\n",
      "Name: tax_liens, dtype: int64\n",
      "====================\n"
     ]
    }
   ],
   "source": [
    "for i in loan_df.columns:\n",
    "    if (len(loan_df[i].value_counts())<3):\n",
    "        print(loan_df[i].value_counts())\n",
    "        print(\"====================\") "
   ]
  },
  {
   "cell_type": "code",
   "execution_count": 1103,
   "id": "331e2a84",
   "metadata": {},
   "outputs": [],
   "source": [
    "# drop the selected columns\n",
    "invalid_col = [\"url\",\"pymnt_plan\",\"initial_list_status\",\"collections_12_mths_ex_med\",\"policy_code\",\"application_type\",\"acc_now_delinq\",\"chargeoff_within_12_mths\",\"delinq_amnt\",\"tax_liens\"]\n",
    "loan_df.drop(columns=invalid_col,inplace=True,axis=1)"
   ]
  },
  {
   "cell_type": "markdown",
   "id": "f2733413",
   "metadata": {},
   "source": [
    "##### columns considered which are not useful for analysis"
   ]
  },
  {
   "cell_type": "code",
   "execution_count": 1104,
   "id": "707f124c",
   "metadata": {},
   "outputs": [],
   "source": [
    "loan_df.drop(columns=['out_prncp','total_pymnt_inv','collection_recovery_fee','funded_amnt_inv'], inplace=True)"
   ]
  },
  {
   "cell_type": "code",
   "execution_count": 1105,
   "id": "7de5ca50",
   "metadata": {},
   "outputs": [],
   "source": [
    "#filling the null values in empployee title with \"unknown\"\n",
    "loan_df['emp_title'].fillna('Unknown', inplace=True)"
   ]
  },
  {
   "cell_type": "code",
   "execution_count": 1106,
   "id": "b9f82dd1",
   "metadata": {},
   "outputs": [
    {
     "data": {
      "text/plain": [
       "(39717, 39)"
      ]
     },
     "execution_count": 1106,
     "metadata": {},
     "output_type": "execute_result"
    }
   ],
   "source": [
    "loan_df.shape"
   ]
  },
  {
   "cell_type": "markdown",
   "id": "f6b6d5ec",
   "metadata": {},
   "source": [
    "# Understanding of important columns to proceed ahead\n",
    "- id : unique loan id for each row and sort of primary key\n",
    "- member_id : unique_id for borrower\n",
    "\n",
    "- loan_amt : final loan (prinipal) amount of that loan\n",
    "- funded_amnt : total ammount including prinicipal + interest + charges\n",
    "- term : tenure of emi payment of loan - 2 possible values - 36 months or 60 months\n",
    "- int_rate : interest rate on which loan is given\n",
    "- installment : monthly emi of the borrower\n",
    "- grade : risk grade for loan - A is least risky, G is highest risky\n",
    "- sub_grade : risk subgrade for loan - A1 is least and G5 is highest\n",
    "- emp_title : job title of the borrower\n",
    "- emp_length : duration of employee working in that emp_title, max is 10+ in possible values.\n",
    "- home_ownership : home ownership status of borrower, possible values are RENT,MORTGAGE, OWN, OTHER\n",
    "- annual_inc : annual income of the borrower\n",
    "- verification_status : annual income is verified or not, possible values are verified, not verified, source verified\n",
    "- issue_d : month in which loan was issued\n",
    "- loan_status : current status of loan, possible values - Fully paid, Current, Charged Off\n",
    "- purpose : purpose of the borrower for taking loan, already categorize in 12 category\n",
    "- title : description provided by the borrower for applying loan\n",
    "- zip_code : 3 digits of pincode which will represent area, region, sub-region. these values have xx in end which can be removed.\n",
    "- addr_state : state of address provided by borrower\n",
    "- dti : debt to income ratio of borrower\n",
    "- delinq_2yrs : occurence of 30+ delayed payment by borrower in last 2 years\n",
    "- earliest_cr_line : month in which last loan was taken by borrower \n",
    "- inq_last_6mths : inquery of credit in last 6 months by any authorized lender for that borrower\n",
    "- open_acc : number of active loans taken by borrower\n",
    "- pub_rec : number of nagative records in past for borrower\n",
    "- revol_bal : total outstanding credit balance of the borrower\n",
    "- revol_util : credit utilization ratio - total outstanding credit/ total credit limit\n",
    "- total_acc : total loan accounts of the borrower including closed in history\n",
    "- total_pymnt : total payment done by borrower till date for entire fund\n",
    "- total_rec_prncp : total prinipal amount received as part of payment till date\n",
    "- total_rec_int : total interst amount recevied\n",
    "- total_rec_late_fee : total late fee recevied\n",
    "- recoveries : total recovery from borrower\n",
    "- last_pymnt_d : last month when payment was recevied\n",
    "- last_pymnt_amnt : last total payment amount recevied\n",
    "- last_credit_pull_d : last month on which credit score is checked by lendor\n",
    "- pub_rec_bankruptcies : number of public records available for bankcrupt case for the borrower"
   ]
  },
  {
   "cell_type": "markdown",
   "id": "2c1c37b7",
   "metadata": {},
   "source": [
    "##### Fixing Data Quality issues\n",
    "\n",
    "- prefix space should be handled on term column\n",
    "- % symbol should be removed from int_rate and revol_util\n",
    "- emp_length should be modified into numeric value\n",
    "- date format should be changed on issue_d, earliest_cr_line, last_pymnt_d etc.\n",
    "- round the decimal places into 2 digit for total_pymnt column\n",
    "- zipcode suffix values should be fixed"
   ]
  },
  {
   "cell_type": "code",
   "execution_count": 1107,
   "id": "c60d275e",
   "metadata": {},
   "outputs": [],
   "source": [
    "# Lets remove percentage icon from this column\n",
    "loan_df.int_rate = loan_df.int_rate.str.rstrip('%')\n",
    "loan_df['int_rate'] = pd.to_numeric(loan_df['int_rate'], errors='coerce')\n",
    "\n",
    "loan_df.revol_util = loan_df.revol_util.str.rstrip('%')\n",
    "loan_df['revol_util'] = pd.to_numeric(loan_df['revol_util'], errors='coerce')"
   ]
  },
  {
   "cell_type": "code",
   "execution_count": 1108,
   "id": "29d49700",
   "metadata": {},
   "outputs": [],
   "source": [
    "# Fix the date format\n",
    "loan_df.issue_d = pd.to_datetime(loan_df.issue_d , format='%b-%y')\n",
    "loan_df.earliest_cr_line = pd.to_datetime(loan_df.earliest_cr_line , format='%b-%y')"
   ]
  },
  {
   "cell_type": "code",
   "execution_count": 1109,
   "id": "b4ec6435",
   "metadata": {},
   "outputs": [],
   "source": [
    "# Fix zipcode and total_payment\n",
    "loan_df.zip_code = loan_df.zip_code.str.rstrip('xx')\n",
    "loan_df.zip_code = pd.to_numeric(loan_df.zip_code)\n",
    "\n",
    "\n",
    "loan_df.total_pymnt = loan_df.total_pymnt.round(2)"
   ]
  },
  {
   "cell_type": "markdown",
   "id": "f09799df",
   "metadata": {},
   "source": [
    "##### convert term months into years make the units meaningful"
   ]
  },
  {
   "cell_type": "code",
   "execution_count": 1110,
   "id": "d4f44e1a",
   "metadata": {},
   "outputs": [],
   "source": [
    "loan_df[\"term\"] = loan_df[\"term\"].apply(lambda x: int(x.strip(\"months\"))/12)\n",
    "loan_df[\"term\"] = loan_df[\"term\"].astype(\"int32\")"
   ]
  },
  {
   "cell_type": "code",
   "execution_count": 1111,
   "id": "0525ae0f",
   "metadata": {},
   "outputs": [
    {
     "data": {
      "text/plain": [
       "10+ years    8879\n",
       "< 1 year     4583\n",
       "2 years      4388\n",
       "3 years      4095\n",
       "4 years      3436\n",
       "5 years      3282\n",
       "1 year       3240\n",
       "6 years      2229\n",
       "7 years      1773\n",
       "8 years      1479\n",
       "9 years      1258\n",
       "Name: emp_length, dtype: int64"
      ]
     },
     "execution_count": 1111,
     "metadata": {},
     "output_type": "execute_result"
    }
   ],
   "source": [
    "# Fix emp_length\n",
    "loan_df.emp_length.value_counts()"
   ]
  },
  {
   "cell_type": "code",
   "execution_count": 1112,
   "id": "d522e905",
   "metadata": {},
   "outputs": [
    {
     "name": "stdout",
     "output_type": "stream",
     "text": [
      "0        10.0\n",
      "1         0.0\n",
      "2        10.0\n",
      "3        10.0\n",
      "4         1.0\n",
      "         ... \n",
      "39712     4.0\n",
      "39713     3.0\n",
      "39714     0.0\n",
      "39715     0.0\n",
      "39716     0.0\n",
      "Name: emp_length, Length: 39717, dtype: float64\n"
     ]
    }
   ],
   "source": [
    "# Define a mapping dictionary\n",
    "emp_length_mapping = {\n",
    "    '< 1 year': 0,\n",
    "    '1 year': 1,\n",
    "    '2 years': 2,\n",
    "    '3 years': 3,\n",
    "    '4 years': 4,\n",
    "    '5 years': 5,\n",
    "    '6 years': 6,\n",
    "    '7 years': 7,\n",
    "    '8 years': 8,\n",
    "    '9 years': 9,\n",
    "    '10+ years': 10\n",
    "}\n",
    "\n",
    "# Apply the mapping to create a new numeric column\n",
    "loan_df['emp_length'] = loan_df['emp_length'].map(emp_length_mapping)\n",
    "loan_df['emp_length'] = pd.to_numeric(loan_df['emp_length'], errors='coerce')\n",
    "# Display the result\n",
    "print(loan_df['emp_length'])\n",
    "\n",
    "loan_df['emp_length'].fillna(-1, inplace=True)\n",
    "loan_df['emp_length'] = loan_df['emp_length'].astype('int32')\n"
   ]
  },
  {
   "cell_type": "markdown",
   "id": "b5d39203",
   "metadata": {},
   "source": [
    "##### rename the column name meaningfully"
   ]
  },
  {
   "cell_type": "code",
   "execution_count": 1113,
   "id": "eaa28ed4",
   "metadata": {},
   "outputs": [],
   "source": [
    "loan_df.rename(columns={\"emp_length\":\"emp_exp\",\"term\":\"term_years\"},inplace=True)"
   ]
  },
  {
   "cell_type": "code",
   "execution_count": 1114,
   "id": "cca096db",
   "metadata": {},
   "outputs": [],
   "source": [
    "#we need to remove current loan enteries as we need to compare between fully paid and charged off\n",
    "loan_df = loan_df[~(loan_df.loan_status == 'Current')]\n"
   ]
  },
  {
   "cell_type": "code",
   "execution_count": 1115,
   "id": "435ca1a5",
   "metadata": {},
   "outputs": [
    {
     "data": {
      "text/plain": [
       "Fully Paid     32950\n",
       "Charged Off     5627\n",
       "Name: loan_status, dtype: int64"
      ]
     },
     "execution_count": 1115,
     "metadata": {},
     "output_type": "execute_result"
    }
   ],
   "source": [
    "loan_df.loan_status.value_counts()"
   ]
  },
  {
   "cell_type": "markdown",
   "id": "35b1a35d",
   "metadata": {},
   "source": [
    "# Data analysis"
   ]
  },
  {
   "cell_type": "markdown",
   "id": "b7288149",
   "metadata": {},
   "source": [
    "### Univariate Analysis"
   ]
  },
  {
   "cell_type": "code",
   "execution_count": 1116,
   "id": "6ea5448f",
   "metadata": {},
   "outputs": [
    {
     "data": {
      "image/png": "[encoded data removed]",
      "text/plain": [
       "<Figure size 640x480 with 1 Axes>"
      ]
     },
     "metadata": {},
     "output_type": "display_data"
    }
   ],
   "source": [
    "# Around 5000 loan amount there were more loan disbursed.\n",
    "loan_df[\"loan_amnt\"].plot.hist()\n",
    "plt.show()"
   ]
  },
  {
   "cell_type": "code",
   "execution_count": 1117,
   "id": "dfb65fea",
   "metadata": {},
   "outputs": [
    {
     "data": {
      "text/plain": [
       "count    38577.000000\n",
       "mean     11047.025430\n",
       "std       7348.441646\n",
       "min        500.000000\n",
       "25%       5300.000000\n",
       "50%       9600.000000\n",
       "75%      15000.000000\n",
       "max      35000.000000\n",
       "Name: loan_amnt, dtype: float64"
      ]
     },
     "execution_count": 1117,
     "metadata": {},
     "output_type": "execute_result"
    }
   ],
   "source": [
    "loan_df[\"loan_amnt\"].describe()"
   ]
  },
  {
   "cell_type": "code",
   "execution_count": 1118,
   "id": "1e752441",
   "metadata": {},
   "outputs": [
    {
     "data": {
      "text/plain": [
       "3    29096\n",
       "5     9481\n",
       "Name: term_years, dtype: int64"
      ]
     },
     "execution_count": 1118,
     "metadata": {},
     "output_type": "execute_result"
    }
   ],
   "source": [
    "loan_df[\"term_years\"].value_counts()"
   ]
  },
  {
   "cell_type": "code",
   "execution_count": 1119,
   "id": "373f4007",
   "metadata": {},
   "outputs": [
    {
     "data": {
      "image/png": "[encoded data removed]",
      "text/plain": [
       "<Figure size 640x480 with 1 Axes>"
      ]
     },
     "metadata": {},
     "output_type": "display_data"
    }
   ],
   "source": [
    "# 3 years loans has higher volume than 5 year\n",
    "loan_df[\"term_years\"].value_counts().plot(kind = 'bar', color = ['blue','green'])\n",
    "plt.xlabel('Term Years')\n",
    "plt.ylabel('Number of Loans')\n",
    "plt.show()"
   ]
  },
  {
   "cell_type": "code",
   "execution_count": 1120,
   "id": "a824ee7c",
   "metadata": {},
   "outputs": [
    {
     "data": {
      "image/png": "[encoded data removed]",
      "text/plain": [
       "<Figure size 640x480 with 1 Axes>"
      ]
     },
     "metadata": {},
     "output_type": "display_data"
    }
   ],
   "source": [
    "loan_df[\"int_rate\"].plot.box()\n",
    "plt.show()"
   ]
  },
  {
   "cell_type": "code",
   "execution_count": 1121,
   "id": "fe8c4d5b",
   "metadata": {},
   "outputs": [
    {
     "data": {
      "text/plain": [
       "count    38577.000000\n",
       "mean        11.932219\n",
       "std          3.691327\n",
       "min          5.420000\n",
       "25%          8.940000\n",
       "50%         11.710000\n",
       "75%         14.380000\n",
       "max         24.400000\n",
       "Name: int_rate, dtype: float64"
      ]
     },
     "execution_count": 1121,
     "metadata": {},
     "output_type": "execute_result"
    }
   ],
   "source": [
    "# mean and meadian was pretty close to 12 and makes sense\n",
    "loan_df[\"int_rate\"].describe()"
   ]
  },
  {
   "cell_type": "code",
   "execution_count": 1122,
   "id": "e4c06046",
   "metadata": {},
   "outputs": [
    {
     "data": {
      "text/plain": [
       "<Axes: >"
      ]
     },
     "execution_count": 1122,
     "metadata": {},
     "output_type": "execute_result"
    },
    {
     "data": {
      "image/png": "[encoded data removed]",
      "text/plain": [
       "<Figure size 640x480 with 1 Axes>"
      ]
     },
     "metadata": {},
     "output_type": "display_data"
    }
   ],
   "source": [
    "loan_df.annual_inc.plot(kind = 'box')"
   ]
  },
  {
   "cell_type": "code",
   "execution_count": 1123,
   "id": "ffb87b68",
   "metadata": {},
   "outputs": [],
   "source": [
    "# we can see some outliers in annual income, lets remove them\n",
    "loan_df =  loan_df[loan_df.annual_inc < 2000000]"
   ]
  },
  {
   "cell_type": "code",
   "execution_count": 1124,
   "id": "11fdeea4",
   "metadata": {},
   "outputs": [
    {
     "data": {
      "image/png": "[encoded data removed]",
      "text/plain": [
       "<Figure size 640x480 with 1 Axes>"
      ]
     },
     "metadata": {},
     "output_type": "display_data"
    }
   ],
   "source": [
    "# suprisingly grade B has more volume than A ( might the B grade loan applicant is more than A grade )\n",
    "loan_df[\"grade\"].value_counts().plot(kind = 'bar', color = ['orange','green','blue'])\n",
    "plt.xlabel('Grade')\n",
    "plt.ylabel('Number of Loans')\n",
    "plt.show()"
   ]
  },
  {
   "cell_type": "code",
   "execution_count": 1125,
   "id": "d0a21b85",
   "metadata": {},
   "outputs": [
    {
     "data": {
      "image/png": "[encoded data removed]",
      "text/plain": [
       "<Figure size 640x480 with 1 Axes>"
      ]
     },
     "metadata": {},
     "output_type": "display_data"
    }
   ],
   "source": [
    "# 10years exp got more volume\n",
    "loan_df[~(loan_df[\"emp_exp\"]==-1)].emp_exp.value_counts().plot.bar()\n",
    "plt.xlabel('Employee years of experience')\n",
    "plt.ylabel('Number of Loans')\n",
    "plt.show()"
   ]
  },
  {
   "cell_type": "code",
   "execution_count": 1126,
   "id": "cfb657e7",
   "metadata": {},
   "outputs": [
    {
     "data": {
      "image/png": "[encoded data removed]",
      "text/plain": [
       "<Figure size 640x480 with 1 Axes>"
      ]
     },
     "metadata": {},
     "output_type": "display_data"
    }
   ],
   "source": [
    "loan_df[\"home_ownership\"].value_counts().plot.bar()\n",
    "plt.show()"
   ]
  },
  {
   "cell_type": "code",
   "execution_count": 1163,
   "id": "f7c46d9d",
   "metadata": {},
   "outputs": [
    {
     "data": {
      "image/png": "[encoded data removed]",
      "text/plain": [
       "<Figure size 640x480 with 1 Axes>"
      ]
     },
     "metadata": {},
     "output_type": "display_data"
    }
   ],
   "source": [
    "# debt consolidation has higher volume\n",
    "loan_df.purpose.value_counts().plot(kind = 'bar', color = ['orange','green','blue'])\n",
    "plt.xlabel('Purpose')\n",
    "plt.ylabel('Number of Loans')\n",
    "plt.show()"
   ]
  },
  {
   "cell_type": "code",
   "execution_count": 1128,
   "id": "19ce7757",
   "metadata": {},
   "outputs": [
    {
     "data": {
      "text/plain": [
       "count    38574.000000\n",
       "mean        13.273750\n",
       "std          6.672294\n",
       "min          0.000000\n",
       "25%          8.130000\n",
       "50%         13.370000\n",
       "75%         18.560000\n",
       "max         29.990000\n",
       "Name: dti, dtype: float64"
      ]
     },
     "execution_count": 1128,
     "metadata": {},
     "output_type": "execute_result"
    }
   ],
   "source": [
    "loan_df[\"dti\"].describe()"
   ]
  },
  {
   "cell_type": "code",
   "execution_count": 1129,
   "id": "09b2ae5f",
   "metadata": {},
   "outputs": [
    {
     "data": {
      "text/plain": [
       "count    38524.000000\n",
       "mean        48.703981\n",
       "std         28.365107\n",
       "min          0.000000\n",
       "25%         25.200000\n",
       "50%         49.100000\n",
       "75%         72.300000\n",
       "max         99.900000\n",
       "Name: revol_util, dtype: float64"
      ]
     },
     "execution_count": 1129,
     "metadata": {},
     "output_type": "execute_result"
    }
   ],
   "source": [
    "loan_df[\"revol_util\"].describe()"
   ]
  },
  {
   "cell_type": "markdown",
   "id": "3987c17c",
   "metadata": {},
   "source": [
    "# Segmented Univariate Analysis"
   ]
  },
  {
   "cell_type": "code",
   "execution_count": 1130,
   "id": "d7deb1b0",
   "metadata": {},
   "outputs": [
    {
     "data": {
      "text/html": [
       "<div>\n",
       "<style scoped>\n",
       "    .dataframe tbody tr th:only-of-type {\n",
       "        vertical-align: middle;\n",
       "    }\n",
       "\n",
       "    .dataframe tbody tr th {\n",
       "        vertical-align: top;\n",
       "    }\n",
       "\n",
       "    .dataframe thead th {\n",
       "        text-align: right;\n",
       "    }\n",
       "</style>\n",
       "<table border=\"1\" class=\"dataframe\">\n",
       "  <thead>\n",
       "    <tr style=\"text-align: right;\">\n",
       "      <th></th>\n",
       "      <th>count</th>\n",
       "      <th>mean</th>\n",
       "      <th>std</th>\n",
       "      <th>min</th>\n",
       "      <th>25%</th>\n",
       "      <th>50%</th>\n",
       "      <th>75%</th>\n",
       "      <th>max</th>\n",
       "    </tr>\n",
       "    <tr>\n",
       "      <th>loan_status</th>\n",
       "      <th></th>\n",
       "      <th></th>\n",
       "      <th></th>\n",
       "      <th></th>\n",
       "      <th></th>\n",
       "      <th></th>\n",
       "      <th></th>\n",
       "      <th></th>\n",
       "    </tr>\n",
       "  </thead>\n",
       "  <tbody>\n",
       "    <tr>\n",
       "      <th>Charged Off</th>\n",
       "      <td>5627.0</td>\n",
       "      <td>13.820432</td>\n",
       "      <td>3.654413</td>\n",
       "      <td>5.42</td>\n",
       "      <td>11.31</td>\n",
       "      <td>13.61</td>\n",
       "      <td>16.40</td>\n",
       "      <td>24.40</td>\n",
       "    </tr>\n",
       "    <tr>\n",
       "      <th>Fully Paid</th>\n",
       "      <td>32947.0</td>\n",
       "      <td>11.609737</td>\n",
       "      <td>3.600117</td>\n",
       "      <td>5.42</td>\n",
       "      <td>8.49</td>\n",
       "      <td>11.49</td>\n",
       "      <td>13.99</td>\n",
       "      <td>24.11</td>\n",
       "    </tr>\n",
       "  </tbody>\n",
       "</table>\n",
       "</div>"
      ],
      "text/plain": [
       "               count       mean       std   min    25%    50%    75%    max\n",
       "loan_status                                                                \n",
       "Charged Off   5627.0  13.820432  3.654413  5.42  11.31  13.61  16.40  24.40\n",
       "Fully Paid   32947.0  11.609737  3.600117  5.42   8.49  11.49  13.99  24.11"
      ]
     },
     "execution_count": 1130,
     "metadata": {},
     "output_type": "execute_result"
    }
   ],
   "source": [
    "loan_df.groupby(by=[\"loan_status\"])[\"int_rate\"].describe()"
   ]
  },
  {
   "cell_type": "code",
   "execution_count": 1131,
   "id": "66c7b674",
   "metadata": {},
   "outputs": [
    {
     "data": {
      "text/html": [
       "<div>\n",
       "<style scoped>\n",
       "    .dataframe tbody tr th:only-of-type {\n",
       "        vertical-align: middle;\n",
       "    }\n",
       "\n",
       "    .dataframe tbody tr th {\n",
       "        vertical-align: top;\n",
       "    }\n",
       "\n",
       "    .dataframe thead th {\n",
       "        text-align: right;\n",
       "    }\n",
       "</style>\n",
       "<table border=\"1\" class=\"dataframe\">\n",
       "  <thead>\n",
       "    <tr style=\"text-align: right;\">\n",
       "      <th></th>\n",
       "      <th>count</th>\n",
       "      <th>mean</th>\n",
       "      <th>std</th>\n",
       "      <th>min</th>\n",
       "      <th>25%</th>\n",
       "      <th>50%</th>\n",
       "      <th>75%</th>\n",
       "      <th>max</th>\n",
       "    </tr>\n",
       "    <tr>\n",
       "      <th>home_ownership</th>\n",
       "      <th></th>\n",
       "      <th></th>\n",
       "      <th></th>\n",
       "      <th></th>\n",
       "      <th></th>\n",
       "      <th></th>\n",
       "      <th></th>\n",
       "      <th></th>\n",
       "    </tr>\n",
       "  </thead>\n",
       "  <tbody>\n",
       "    <tr>\n",
       "      <th>MORTGAGE</th>\n",
       "      <td>17019.0</td>\n",
       "      <td>11.664367</td>\n",
       "      <td>3.844842</td>\n",
       "      <td>5.42</td>\n",
       "      <td>8.0000</td>\n",
       "      <td>11.49</td>\n",
       "      <td>14.22</td>\n",
       "      <td>24.11</td>\n",
       "    </tr>\n",
       "    <tr>\n",
       "      <th>NONE</th>\n",
       "      <td>3.0</td>\n",
       "      <td>8.696667</td>\n",
       "      <td>0.945004</td>\n",
       "      <td>7.75</td>\n",
       "      <td>8.2250</td>\n",
       "      <td>8.70</td>\n",
       "      <td>9.17</td>\n",
       "      <td>9.64</td>\n",
       "    </tr>\n",
       "    <tr>\n",
       "      <th>OTHER</th>\n",
       "      <td>98.0</td>\n",
       "      <td>12.040918</td>\n",
       "      <td>2.652970</td>\n",
       "      <td>7.40</td>\n",
       "      <td>9.6475</td>\n",
       "      <td>11.86</td>\n",
       "      <td>14.38</td>\n",
       "      <td>17.90</td>\n",
       "    </tr>\n",
       "    <tr>\n",
       "      <th>OWN</th>\n",
       "      <td>2975.0</td>\n",
       "      <td>11.689079</td>\n",
       "      <td>3.694056</td>\n",
       "      <td>5.42</td>\n",
       "      <td>8.4900</td>\n",
       "      <td>11.49</td>\n",
       "      <td>14.11</td>\n",
       "      <td>23.59</td>\n",
       "    </tr>\n",
       "    <tr>\n",
       "      <th>RENT</th>\n",
       "      <td>18479.0</td>\n",
       "      <td>12.218009</td>\n",
       "      <td>3.526911</td>\n",
       "      <td>5.42</td>\n",
       "      <td>9.9100</td>\n",
       "      <td>12.18</td>\n",
       "      <td>14.61</td>\n",
       "      <td>24.40</td>\n",
       "    </tr>\n",
       "  </tbody>\n",
       "</table>\n",
       "</div>"
      ],
      "text/plain": [
       "                  count       mean       std   min     25%    50%    75%  \\\n",
       "home_ownership                                                             \n",
       "MORTGAGE        17019.0  11.664367  3.844842  5.42  8.0000  11.49  14.22   \n",
       "NONE                3.0   8.696667  0.945004  7.75  8.2250   8.70   9.17   \n",
       "OTHER              98.0  12.040918  2.652970  7.40  9.6475  11.86  14.38   \n",
       "OWN              2975.0  11.689079  3.694056  5.42  8.4900  11.49  14.11   \n",
       "RENT            18479.0  12.218009  3.526911  5.42  9.9100  12.18  14.61   \n",
       "\n",
       "                  max  \n",
       "home_ownership         \n",
       "MORTGAGE        24.11  \n",
       "NONE             9.64  \n",
       "OTHER           17.90  \n",
       "OWN             23.59  \n",
       "RENT            24.40  "
      ]
     },
     "execution_count": 1131,
     "metadata": {},
     "output_type": "execute_result"
    }
   ],
   "source": [
    "# OTHER and NONE group minimum interest rate is higher than other category\n",
    "loan_df.groupby(by=[\"home_ownership\"])[\"int_rate\"].describe()"
   ]
  },
  {
   "cell_type": "code",
   "execution_count": 1132,
   "id": "11168331",
   "metadata": {},
   "outputs": [
    {
     "data": {
      "text/html": [
       "<div>\n",
       "<style scoped>\n",
       "    .dataframe tbody tr th:only-of-type {\n",
       "        vertical-align: middle;\n",
       "    }\n",
       "\n",
       "    .dataframe tbody tr th {\n",
       "        vertical-align: top;\n",
       "    }\n",
       "\n",
       "    .dataframe thead th {\n",
       "        text-align: right;\n",
       "    }\n",
       "</style>\n",
       "<table border=\"1\" class=\"dataframe\">\n",
       "  <thead>\n",
       "    <tr style=\"text-align: right;\">\n",
       "      <th></th>\n",
       "      <th>count</th>\n",
       "      <th>mean</th>\n",
       "      <th>std</th>\n",
       "      <th>min</th>\n",
       "      <th>25%</th>\n",
       "      <th>50%</th>\n",
       "      <th>75%</th>\n",
       "      <th>max</th>\n",
       "    </tr>\n",
       "    <tr>\n",
       "      <th>purpose</th>\n",
       "      <th></th>\n",
       "      <th></th>\n",
       "      <th></th>\n",
       "      <th></th>\n",
       "      <th></th>\n",
       "      <th></th>\n",
       "      <th></th>\n",
       "      <th></th>\n",
       "    </tr>\n",
       "  </thead>\n",
       "  <tbody>\n",
       "    <tr>\n",
       "      <th>car</th>\n",
       "      <td>1499.0</td>\n",
       "      <td>10.457985</td>\n",
       "      <td>3.385573</td>\n",
       "      <td>5.42</td>\n",
       "      <td>7.5100</td>\n",
       "      <td>10.37</td>\n",
       "      <td>12.9900</td>\n",
       "      <td>22.85</td>\n",
       "    </tr>\n",
       "    <tr>\n",
       "      <th>credit_card</th>\n",
       "      <td>5027.0</td>\n",
       "      <td>11.623772</td>\n",
       "      <td>3.517358</td>\n",
       "      <td>5.42</td>\n",
       "      <td>8.9000</td>\n",
       "      <td>11.49</td>\n",
       "      <td>13.8500</td>\n",
       "      <td>24.11</td>\n",
       "    </tr>\n",
       "    <tr>\n",
       "      <th>debt_consolidation</th>\n",
       "      <td>18054.0</td>\n",
       "      <td>12.396515</td>\n",
       "      <td>3.706186</td>\n",
       "      <td>5.42</td>\n",
       "      <td>9.9900</td>\n",
       "      <td>12.29</td>\n",
       "      <td>14.9100</td>\n",
       "      <td>24.11</td>\n",
       "    </tr>\n",
       "    <tr>\n",
       "      <th>educational</th>\n",
       "      <td>325.0</td>\n",
       "      <td>11.650831</td>\n",
       "      <td>2.544344</td>\n",
       "      <td>6.00</td>\n",
       "      <td>9.6300</td>\n",
       "      <td>11.83</td>\n",
       "      <td>13.2200</td>\n",
       "      <td>21.27</td>\n",
       "    </tr>\n",
       "    <tr>\n",
       "      <th>home_improvement</th>\n",
       "      <td>2873.0</td>\n",
       "      <td>11.287786</td>\n",
       "      <td>3.740738</td>\n",
       "      <td>5.42</td>\n",
       "      <td>7.8800</td>\n",
       "      <td>11.11</td>\n",
       "      <td>13.8000</td>\n",
       "      <td>23.22</td>\n",
       "    </tr>\n",
       "    <tr>\n",
       "      <th>house</th>\n",
       "      <td>367.0</td>\n",
       "      <td>12.163569</td>\n",
       "      <td>3.966002</td>\n",
       "      <td>5.42</td>\n",
       "      <td>9.2850</td>\n",
       "      <td>11.83</td>\n",
       "      <td>15.0500</td>\n",
       "      <td>23.13</td>\n",
       "    </tr>\n",
       "    <tr>\n",
       "      <th>major_purchase</th>\n",
       "      <td>2150.0</td>\n",
       "      <td>10.796698</td>\n",
       "      <td>3.590919</td>\n",
       "      <td>5.42</td>\n",
       "      <td>7.5100</td>\n",
       "      <td>10.74</td>\n",
       "      <td>13.4900</td>\n",
       "      <td>23.59</td>\n",
       "    </tr>\n",
       "    <tr>\n",
       "      <th>medical</th>\n",
       "      <td>681.0</td>\n",
       "      <td>11.432276</td>\n",
       "      <td>3.650300</td>\n",
       "      <td>5.42</td>\n",
       "      <td>7.9000</td>\n",
       "      <td>11.26</td>\n",
       "      <td>14.1700</td>\n",
       "      <td>22.06</td>\n",
       "    </tr>\n",
       "    <tr>\n",
       "      <th>moving</th>\n",
       "      <td>576.0</td>\n",
       "      <td>11.531771</td>\n",
       "      <td>3.527933</td>\n",
       "      <td>5.42</td>\n",
       "      <td>8.4900</td>\n",
       "      <td>11.12</td>\n",
       "      <td>13.9800</td>\n",
       "      <td>22.11</td>\n",
       "    </tr>\n",
       "    <tr>\n",
       "      <th>other</th>\n",
       "      <td>3865.0</td>\n",
       "      <td>11.715780</td>\n",
       "      <td>3.516321</td>\n",
       "      <td>5.42</td>\n",
       "      <td>8.9000</td>\n",
       "      <td>11.49</td>\n",
       "      <td>13.9900</td>\n",
       "      <td>23.91</td>\n",
       "    </tr>\n",
       "    <tr>\n",
       "      <th>renewable_energy</th>\n",
       "      <td>102.0</td>\n",
       "      <td>11.437059</td>\n",
       "      <td>3.853196</td>\n",
       "      <td>5.42</td>\n",
       "      <td>8.0475</td>\n",
       "      <td>11.05</td>\n",
       "      <td>13.6925</td>\n",
       "      <td>24.40</td>\n",
       "    </tr>\n",
       "    <tr>\n",
       "      <th>small_business</th>\n",
       "      <td>1754.0</td>\n",
       "      <td>12.895901</td>\n",
       "      <td>3.913983</td>\n",
       "      <td>5.42</td>\n",
       "      <td>10.1100</td>\n",
       "      <td>12.84</td>\n",
       "      <td>15.6500</td>\n",
       "      <td>23.52</td>\n",
       "    </tr>\n",
       "    <tr>\n",
       "      <th>vacation</th>\n",
       "      <td>375.0</td>\n",
       "      <td>10.828240</td>\n",
       "      <td>3.500255</td>\n",
       "      <td>5.42</td>\n",
       "      <td>7.6600</td>\n",
       "      <td>10.65</td>\n",
       "      <td>13.4500</td>\n",
       "      <td>22.48</td>\n",
       "    </tr>\n",
       "    <tr>\n",
       "      <th>wedding</th>\n",
       "      <td>926.0</td>\n",
       "      <td>11.780389</td>\n",
       "      <td>3.511871</td>\n",
       "      <td>5.42</td>\n",
       "      <td>8.9400</td>\n",
       "      <td>11.62</td>\n",
       "      <td>14.1700</td>\n",
       "      <td>23.59</td>\n",
       "    </tr>\n",
       "  </tbody>\n",
       "</table>\n",
       "</div>"
      ],
      "text/plain": [
       "                      count       mean       std   min      25%    50%  \\\n",
       "purpose                                                                  \n",
       "car                  1499.0  10.457985  3.385573  5.42   7.5100  10.37   \n",
       "credit_card          5027.0  11.623772  3.517358  5.42   8.9000  11.49   \n",
       "debt_consolidation  18054.0  12.396515  3.706186  5.42   9.9900  12.29   \n",
       "educational           325.0  11.650831  2.544344  6.00   9.6300  11.83   \n",
       "home_improvement     2873.0  11.287786  3.740738  5.42   7.8800  11.11   \n",
       "house                 367.0  12.163569  3.966002  5.42   9.2850  11.83   \n",
       "major_purchase       2150.0  10.796698  3.590919  5.42   7.5100  10.74   \n",
       "medical               681.0  11.432276  3.650300  5.42   7.9000  11.26   \n",
       "moving                576.0  11.531771  3.527933  5.42   8.4900  11.12   \n",
       "other                3865.0  11.715780  3.516321  5.42   8.9000  11.49   \n",
       "renewable_energy      102.0  11.437059  3.853196  5.42   8.0475  11.05   \n",
       "small_business       1754.0  12.895901  3.913983  5.42  10.1100  12.84   \n",
       "vacation              375.0  10.828240  3.500255  5.42   7.6600  10.65   \n",
       "wedding               926.0  11.780389  3.511871  5.42   8.9400  11.62   \n",
       "\n",
       "                        75%    max  \n",
       "purpose                             \n",
       "car                 12.9900  22.85  \n",
       "credit_card         13.8500  24.11  \n",
       "debt_consolidation  14.9100  24.11  \n",
       "educational         13.2200  21.27  \n",
       "home_improvement    13.8000  23.22  \n",
       "house               15.0500  23.13  \n",
       "major_purchase      13.4900  23.59  \n",
       "medical             14.1700  22.06  \n",
       "moving              13.9800  22.11  \n",
       "other               13.9900  23.91  \n",
       "renewable_energy    13.6925  24.40  \n",
       "small_business      15.6500  23.52  \n",
       "vacation            13.4500  22.48  \n",
       "wedding             14.1700  23.59  "
      ]
     },
     "execution_count": 1132,
     "metadata": {},
     "output_type": "execute_result"
    }
   ],
   "source": [
    "loan_df.groupby(by=[\"purpose\"])[\"int_rate\"].describe()"
   ]
  },
  {
   "cell_type": "code",
   "execution_count": 1133,
   "id": "27775bee",
   "metadata": {},
   "outputs": [
    {
     "data": {
      "text/html": [
       "<div>\n",
       "<style scoped>\n",
       "    .dataframe tbody tr th:only-of-type {\n",
       "        vertical-align: middle;\n",
       "    }\n",
       "\n",
       "    .dataframe tbody tr th {\n",
       "        vertical-align: top;\n",
       "    }\n",
       "\n",
       "    .dataframe thead th {\n",
       "        text-align: right;\n",
       "    }\n",
       "</style>\n",
       "<table border=\"1\" class=\"dataframe\">\n",
       "  <thead>\n",
       "    <tr style=\"text-align: right;\">\n",
       "      <th></th>\n",
       "      <th>count</th>\n",
       "      <th>mean</th>\n",
       "      <th>std</th>\n",
       "      <th>min</th>\n",
       "      <th>25%</th>\n",
       "      <th>50%</th>\n",
       "      <th>75%</th>\n",
       "      <th>max</th>\n",
       "    </tr>\n",
       "    <tr>\n",
       "      <th>home_ownership</th>\n",
       "      <th></th>\n",
       "      <th></th>\n",
       "      <th></th>\n",
       "      <th></th>\n",
       "      <th></th>\n",
       "      <th></th>\n",
       "      <th></th>\n",
       "      <th></th>\n",
       "    </tr>\n",
       "  </thead>\n",
       "  <tbody>\n",
       "    <tr>\n",
       "      <th>MORTGAGE</th>\n",
       "      <td>17019.0</td>\n",
       "      <td>12113.778718</td>\n",
       "      <td>7629.433394</td>\n",
       "      <td>500.0</td>\n",
       "      <td>6000.0</td>\n",
       "      <td>10000.0</td>\n",
       "      <td>16000.0</td>\n",
       "      <td>35000.0</td>\n",
       "    </tr>\n",
       "    <tr>\n",
       "      <th>NONE</th>\n",
       "      <td>3.0</td>\n",
       "      <td>5600.000000</td>\n",
       "      <td>3857.460304</td>\n",
       "      <td>2800.0</td>\n",
       "      <td>3400.0</td>\n",
       "      <td>4000.0</td>\n",
       "      <td>7000.0</td>\n",
       "      <td>10000.0</td>\n",
       "    </tr>\n",
       "    <tr>\n",
       "      <th>OTHER</th>\n",
       "      <td>98.0</td>\n",
       "      <td>10148.724490</td>\n",
       "      <td>5784.026810</td>\n",
       "      <td>1000.0</td>\n",
       "      <td>5125.0</td>\n",
       "      <td>9000.0</td>\n",
       "      <td>15000.0</td>\n",
       "      <td>25000.0</td>\n",
       "    </tr>\n",
       "    <tr>\n",
       "      <th>OWN</th>\n",
       "      <td>2975.0</td>\n",
       "      <td>9929.521008</td>\n",
       "      <td>6756.067921</td>\n",
       "      <td>900.0</td>\n",
       "      <td>5000.0</td>\n",
       "      <td>8000.0</td>\n",
       "      <td>14000.0</td>\n",
       "      <td>35000.0</td>\n",
       "    </tr>\n",
       "    <tr>\n",
       "      <th>RENT</th>\n",
       "      <td>18479.0</td>\n",
       "      <td>9701.367769</td>\n",
       "      <td>6394.643973</td>\n",
       "      <td>500.0</td>\n",
       "      <td>5000.0</td>\n",
       "      <td>8000.0</td>\n",
       "      <td>12800.0</td>\n",
       "      <td>35000.0</td>\n",
       "    </tr>\n",
       "  </tbody>\n",
       "</table>\n",
       "</div>"
      ],
      "text/plain": [
       "                  count          mean          std     min     25%      50%  \\\n",
       "home_ownership                                                                \n",
       "MORTGAGE        17019.0  12113.778718  7629.433394   500.0  6000.0  10000.0   \n",
       "NONE                3.0   5600.000000  3857.460304  2800.0  3400.0   4000.0   \n",
       "OTHER              98.0  10148.724490  5784.026810  1000.0  5125.0   9000.0   \n",
       "OWN              2975.0   9929.521008  6756.067921   900.0  5000.0   8000.0   \n",
       "RENT            18479.0   9701.367769  6394.643973   500.0  5000.0   8000.0   \n",
       "\n",
       "                    75%      max  \n",
       "home_ownership                    \n",
       "MORTGAGE        16000.0  35000.0  \n",
       "NONE             7000.0  10000.0  \n",
       "OTHER           15000.0  25000.0  \n",
       "OWN             14000.0  35000.0  \n",
       "RENT            12800.0  35000.0  "
      ]
     },
     "execution_count": 1133,
     "metadata": {},
     "output_type": "execute_result"
    }
   ],
   "source": [
    "loan_df.groupby(by=[\"home_ownership\"])[\"funded_amnt\"].describe()"
   ]
  },
  {
   "cell_type": "markdown",
   "id": "dc37f989",
   "metadata": {},
   "source": [
    "# Bivariate Analysis"
   ]
  },
  {
   "cell_type": "code",
   "execution_count": 1134,
   "id": "8f5b6bcf",
   "metadata": {},
   "outputs": [],
   "source": [
    "# create a function to display average values for value_counts\n",
    "def disp_avg(ind,total,print_str):\n",
    "    total.sort_index(inplace=True)\n",
    "    for val in total.index:\n",
    "        if val not in ind.index:\n",
    "            continue\n",
    "        val_per = round((ind[val]/total[val])*100,2)\n",
    "        print(\"{} {} defaulters {} %\".format(val,print_str,val_per))"
   ]
  },
  {
   "cell_type": "code",
   "execution_count": 1135,
   "id": "acb6dec5",
   "metadata": {},
   "outputs": [],
   "source": [
    "# Derived matrix\n",
    "loan_df[\"int_rate_round\"]=loan_df[\"int_rate\"].astype(\"int32\")"
   ]
  },
  {
   "cell_type": "code",
   "execution_count": 1136,
   "id": "e34a1b68",
   "metadata": {},
   "outputs": [],
   "source": [
    "# defaulters data set\n",
    "loan_def_df = loan_df[loan_df[\"loan_status\"]==\"Charged Off\"]"
   ]
  },
  {
   "cell_type": "markdown",
   "id": "22b1914c",
   "metadata": {},
   "source": [
    "##### <font color=\"blue\"> 5 year term has more defaulters even though we have more volume in 3 year loan"
   ]
  },
  {
   "cell_type": "code",
   "execution_count": 1137,
   "id": "1d6076e6",
   "metadata": {},
   "outputs": [
    {
     "name": "stdout",
     "output_type": "stream",
     "text": [
      "3 year defaulters 11.09 %\n",
      "5 year defaulters 25.32 %\n"
     ]
    }
   ],
   "source": [
    "term_def_ind = loan_def_df[\"term_years\"].value_counts()\n",
    "term_tot = loan_df[\"term_years\"].value_counts()\n",
    "disp_avg(term_def_ind,term_tot,\"year\")"
   ]
  },
  {
   "cell_type": "markdown",
   "id": "a580b4d7",
   "metadata": {},
   "source": [
    "##### <font color=\"blue\"> Loans bought for small business has defaulted more even though debt consolidation has higher voume.</font>\n",
    "##### <font color=\"blue\"> Renewable engery and Educational purpose fall in second and thrid respectively</font>"
   ]
  },
  {
   "cell_type": "code",
   "execution_count": 1138,
   "id": "f040a8d4",
   "metadata": {},
   "outputs": [
    {
     "name": "stdout",
     "output_type": "stream",
     "text": [
      "car  defaulters 10.67 %\n",
      "credit_card  defaulters 10.78 %\n",
      "debt_consolidation  defaulters 15.33 %\n",
      "educational  defaulters 17.23 %\n",
      "home_improvement  defaulters 12.08 %\n",
      "house  defaulters 16.08 %\n",
      "major_purchase  defaulters 10.33 %\n",
      "medical  defaulters 15.57 %\n",
      "moving  defaulters 15.97 %\n",
      "other  defaulters 16.38 %\n",
      "renewable_energy  defaulters 18.63 %\n",
      "small_business  defaulters 27.08 %\n",
      "vacation  defaulters 14.13 %\n",
      "wedding  defaulters 10.37 %\n"
     ]
    }
   ],
   "source": [
    "purpose_tot = loan_df[\"purpose\"].value_counts()\n",
    "purpose_def_ind = loan_def_df[\"purpose\"].value_counts()\n",
    "disp_avg(purpose_def_ind,purpose_tot,\"\")"
   ]
  },
  {
   "cell_type": "markdown",
   "id": "3f7bb630",
   "metadata": {},
   "source": [
    "##### <font color=\"blue\"> Other Category of home_ownership likely to default more"
   ]
  },
  {
   "cell_type": "code",
   "execution_count": 1139,
   "id": "b72524ec",
   "metadata": {},
   "outputs": [
    {
     "name": "stdout",
     "output_type": "stream",
     "text": [
      "MORTGAGE category defaulters 13.67 %\n",
      "OTHER category defaulters 18.37 %\n",
      "OWN category defaulters 14.89 %\n",
      "RENT category defaulters 15.36 %\n"
     ]
    }
   ],
   "source": [
    "# which home_ownership has more defaulters - \n",
    "homeown_tot = loan_df[\"home_ownership\"].value_counts()\n",
    "homeown_def_ind = loan_def_df[\"home_ownership\"].value_counts()\n",
    "disp_avg(homeown_def_ind,homeown_tot,\"category\")"
   ]
  },
  {
   "cell_type": "markdown",
   "id": "e39d641f",
   "metadata": {},
   "source": [
    "##### <font color=\"blue\"> Rate of interest plays vital role on defaulters when rate of interest increase no of defaulters got increased."
   ]
  },
  {
   "cell_type": "code",
   "execution_count": 1140,
   "id": "09576e79",
   "metadata": {},
   "outputs": [
    {
     "name": "stdout",
     "output_type": "stream",
     "text": [
      "5 percent rate of interest defaulters 4.14 %\n",
      "6 percent rate of interest defaulters 4.79 %\n",
      "7 percent rate of interest defaulters 6.08 %\n",
      "8 percent rate of interest defaulters 8.7 %\n",
      "9 percent rate of interest defaulters 9.47 %\n",
      "10 percent rate of interest defaulters 11.4 %\n",
      "11 percent rate of interest defaulters 14.11 %\n",
      "12 percent rate of interest defaulters 15.74 %\n",
      "13 percent rate of interest defaulters 16.29 %\n",
      "14 percent rate of interest defaulters 17.93 %\n",
      "15 percent rate of interest defaulters 20.5 %\n",
      "16 percent rate of interest defaulters 24.55 %\n",
      "17 percent rate of interest defaulters 27.78 %\n",
      "18 percent rate of interest defaulters 27.32 %\n",
      "19 percent rate of interest defaulters 33.33 %\n",
      "20 percent rate of interest defaulters 34.27 %\n",
      "21 percent rate of interest defaulters 42.39 %\n",
      "22 percent rate of interest defaulters 47.86 %\n",
      "23 percent rate of interest defaulters 36.11 %\n",
      "24 percent rate of interest defaulters 50.0 %\n"
     ]
    }
   ],
   "source": [
    "int_rate_total = loan_df[\"int_rate_round\"].value_counts()\n",
    "int_rate_def_ind = loan_def_df[\"int_rate_round\"].value_counts()\n",
    "disp_avg(int_rate_def_ind,int_rate_total,\"percent rate of interest\")"
   ]
  },
  {
   "cell_type": "markdown",
   "id": "a4159b68",
   "metadata": {},
   "source": [
    "# Derived Matrix"
   ]
  },
  {
   "cell_type": "code",
   "execution_count": 1141,
   "id": "02f60e2c",
   "metadata": {},
   "outputs": [],
   "source": [
    "#convert issue_d into new drived columns issue_month and issue_year columns\n",
    "loan_df.issue_d = pd.to_datetime(loan_df.issue_d , format='%b-%y')\n",
    "loan_df['issue_month'] = loan_df.issue_d.dt.month\n",
    "loan_df['issue_year'] = loan_df.issue_d.dt.year\n",
    "loan_df.drop(columns='issue_d', inplace=True)"
   ]
  },
  {
   "cell_type": "code",
   "execution_count": 1142,
   "id": "82f4e5ce",
   "metadata": {},
   "outputs": [],
   "source": [
    "#convert delinq_2yrs into new drived column delayed_payment_in_past\n",
    "loan_df['delayed_payment_in_past'] = loan_df.delinq_2yrs > 0\n",
    "loan_df.delayed_payment_in_past.value_counts()\n",
    "loan_df.drop(columns='delinq_2yrs', inplace=True)"
   ]
  },
  {
   "cell_type": "code",
   "execution_count": 1143,
   "id": "e8a952b5",
   "metadata": {},
   "outputs": [],
   "source": [
    "#convert earliest_cr_line into new drived columns last_loan_taken_month and last_loan_taken_year\n",
    "loan_df['last_loan_taken_month'] = loan_df.earliest_cr_line.dt.month\n",
    "loan_df['last_loan_taken_year'] = loan_df.earliest_cr_line.dt.year\n",
    "loan_df.drop(columns='earliest_cr_line', inplace=True)"
   ]
  },
  {
   "cell_type": "code",
   "execution_count": 1144,
   "id": "944da6ab",
   "metadata": {},
   "outputs": [
    {
     "data": {
      "text/html": [
       "<div>\n",
       "<style scoped>\n",
       "    .dataframe tbody tr th:only-of-type {\n",
       "        vertical-align: middle;\n",
       "    }\n",
       "\n",
       "    .dataframe tbody tr th {\n",
       "        vertical-align: top;\n",
       "    }\n",
       "\n",
       "    .dataframe thead th {\n",
       "        text-align: right;\n",
       "    }\n",
       "</style>\n",
       "<table border=\"1\" class=\"dataframe\">\n",
       "  <thead>\n",
       "    <tr style=\"text-align: right;\">\n",
       "      <th></th>\n",
       "      <th>id</th>\n",
       "      <th>member_id</th>\n",
       "      <th>loan_amnt</th>\n",
       "      <th>funded_amnt</th>\n",
       "      <th>term_years</th>\n",
       "      <th>int_rate</th>\n",
       "      <th>installment</th>\n",
       "      <th>grade</th>\n",
       "      <th>sub_grade</th>\n",
       "      <th>emp_title</th>\n",
       "      <th>...</th>\n",
       "      <th>last_pymnt_d</th>\n",
       "      <th>last_pymnt_amnt</th>\n",
       "      <th>last_credit_pull_d</th>\n",
       "      <th>pub_rec_bankruptcies</th>\n",
       "      <th>int_rate_round</th>\n",
       "      <th>issue_month</th>\n",
       "      <th>issue_year</th>\n",
       "      <th>delayed_payment_in_past</th>\n",
       "      <th>last_loan_taken_month</th>\n",
       "      <th>last_loan_taken_year</th>\n",
       "    </tr>\n",
       "  </thead>\n",
       "  <tbody>\n",
       "    <tr>\n",
       "      <th>0</th>\n",
       "      <td>1077501</td>\n",
       "      <td>1296599</td>\n",
       "      <td>5000</td>\n",
       "      <td>5000</td>\n",
       "      <td>3</td>\n",
       "      <td>10.65</td>\n",
       "      <td>162.87</td>\n",
       "      <td>B</td>\n",
       "      <td>B2</td>\n",
       "      <td>Unknown</td>\n",
       "      <td>...</td>\n",
       "      <td>Jan-15</td>\n",
       "      <td>171.62</td>\n",
       "      <td>May-16</td>\n",
       "      <td>0.0</td>\n",
       "      <td>10</td>\n",
       "      <td>12</td>\n",
       "      <td>2011</td>\n",
       "      <td>False</td>\n",
       "      <td>1</td>\n",
       "      <td>1985</td>\n",
       "    </tr>\n",
       "    <tr>\n",
       "      <th>1</th>\n",
       "      <td>1077430</td>\n",
       "      <td>1314167</td>\n",
       "      <td>2500</td>\n",
       "      <td>2500</td>\n",
       "      <td>5</td>\n",
       "      <td>15.27</td>\n",
       "      <td>59.83</td>\n",
       "      <td>C</td>\n",
       "      <td>C4</td>\n",
       "      <td>Ryder</td>\n",
       "      <td>...</td>\n",
       "      <td>Apr-13</td>\n",
       "      <td>119.66</td>\n",
       "      <td>Sep-13</td>\n",
       "      <td>0.0</td>\n",
       "      <td>15</td>\n",
       "      <td>12</td>\n",
       "      <td>2011</td>\n",
       "      <td>False</td>\n",
       "      <td>4</td>\n",
       "      <td>1999</td>\n",
       "    </tr>\n",
       "    <tr>\n",
       "      <th>2</th>\n",
       "      <td>1077175</td>\n",
       "      <td>1313524</td>\n",
       "      <td>2400</td>\n",
       "      <td>2400</td>\n",
       "      <td>3</td>\n",
       "      <td>15.96</td>\n",
       "      <td>84.33</td>\n",
       "      <td>C</td>\n",
       "      <td>C5</td>\n",
       "      <td>Unknown</td>\n",
       "      <td>...</td>\n",
       "      <td>Jun-14</td>\n",
       "      <td>649.91</td>\n",
       "      <td>May-16</td>\n",
       "      <td>0.0</td>\n",
       "      <td>15</td>\n",
       "      <td>12</td>\n",
       "      <td>2011</td>\n",
       "      <td>False</td>\n",
       "      <td>11</td>\n",
       "      <td>2001</td>\n",
       "    </tr>\n",
       "    <tr>\n",
       "      <th>3</th>\n",
       "      <td>1076863</td>\n",
       "      <td>1277178</td>\n",
       "      <td>10000</td>\n",
       "      <td>10000</td>\n",
       "      <td>3</td>\n",
       "      <td>13.49</td>\n",
       "      <td>339.31</td>\n",
       "      <td>C</td>\n",
       "      <td>C1</td>\n",
       "      <td>AIR RESOURCES BOARD</td>\n",
       "      <td>...</td>\n",
       "      <td>Jan-15</td>\n",
       "      <td>357.48</td>\n",
       "      <td>Apr-16</td>\n",
       "      <td>0.0</td>\n",
       "      <td>13</td>\n",
       "      <td>12</td>\n",
       "      <td>2011</td>\n",
       "      <td>False</td>\n",
       "      <td>2</td>\n",
       "      <td>1996</td>\n",
       "    </tr>\n",
       "    <tr>\n",
       "      <th>5</th>\n",
       "      <td>1075269</td>\n",
       "      <td>1311441</td>\n",
       "      <td>5000</td>\n",
       "      <td>5000</td>\n",
       "      <td>3</td>\n",
       "      <td>7.90</td>\n",
       "      <td>156.46</td>\n",
       "      <td>A</td>\n",
       "      <td>A4</td>\n",
       "      <td>Veolia Transportaton</td>\n",
       "      <td>...</td>\n",
       "      <td>Jan-15</td>\n",
       "      <td>161.03</td>\n",
       "      <td>Jan-16</td>\n",
       "      <td>0.0</td>\n",
       "      <td>7</td>\n",
       "      <td>12</td>\n",
       "      <td>2011</td>\n",
       "      <td>False</td>\n",
       "      <td>11</td>\n",
       "      <td>2004</td>\n",
       "    </tr>\n",
       "  </tbody>\n",
       "</table>\n",
       "<p>5 rows × 42 columns</p>\n",
       "</div>"
      ],
      "text/plain": [
       "        id  member_id  loan_amnt  funded_amnt  term_years  int_rate  \\\n",
       "0  1077501    1296599       5000         5000           3     10.65   \n",
       "1  1077430    1314167       2500         2500           5     15.27   \n",
       "2  1077175    1313524       2400         2400           3     15.96   \n",
       "3  1076863    1277178      10000        10000           3     13.49   \n",
       "5  1075269    1311441       5000         5000           3      7.90   \n",
       "\n",
       "   installment grade sub_grade             emp_title  ...  last_pymnt_d  \\\n",
       "0       162.87     B        B2               Unknown  ...        Jan-15   \n",
       "1        59.83     C        C4                 Ryder  ...        Apr-13   \n",
       "2        84.33     C        C5               Unknown  ...        Jun-14   \n",
       "3       339.31     C        C1   AIR RESOURCES BOARD  ...        Jan-15   \n",
       "5       156.46     A        A4  Veolia Transportaton  ...        Jan-15   \n",
       "\n",
       "  last_pymnt_amnt  last_credit_pull_d pub_rec_bankruptcies int_rate_round  \\\n",
       "0          171.62              May-16                  0.0             10   \n",
       "1          119.66              Sep-13                  0.0             15   \n",
       "2          649.91              May-16                  0.0             15   \n",
       "3          357.48              Apr-16                  0.0             13   \n",
       "5          161.03              Jan-16                  0.0              7   \n",
       "\n",
       "  issue_month issue_year  delayed_payment_in_past last_loan_taken_month  \\\n",
       "0          12       2011                    False                     1   \n",
       "1          12       2011                    False                     4   \n",
       "2          12       2011                    False                    11   \n",
       "3          12       2011                    False                     2   \n",
       "5          12       2011                    False                    11   \n",
       "\n",
       "   last_loan_taken_year  \n",
       "0                  1985  \n",
       "1                  1999  \n",
       "2                  2001  \n",
       "3                  1996  \n",
       "5                  2004  \n",
       "\n",
       "[5 rows x 42 columns]"
      ]
     },
     "execution_count": 1144,
     "metadata": {},
     "output_type": "execute_result"
    }
   ],
   "source": [
    "#lets check data set once \n",
    "loan_df.head()"
   ]
  },
  {
   "cell_type": "code",
   "execution_count": 1145,
   "id": "4786c229",
   "metadata": {},
   "outputs": [],
   "source": [
    "# Derived Matrix - Creating late_fee_received column\n",
    "loan_df['late_fee_received'] = loan_df['total_rec_late_fee'].apply(lambda x: 'YES' if x > 0 else 'NO')\n",
    "loan_df.drop(columns='total_rec_late_fee', inplace=True)"
   ]
  },
  {
   "cell_type": "code",
   "execution_count": 1146,
   "id": "2f31db77",
   "metadata": {},
   "outputs": [],
   "source": [
    "# Derived Matrix - creating recoveries_happen column\n",
    "loan_df['recoveries_happen'] = loan_df['recoveries'].apply(lambda x: 'YES' if x > 0 else 'NO')\n",
    "loan_df.drop(columns='recoveries', inplace=True)"
   ]
  },
  {
   "cell_type": "code",
   "execution_count": 1147,
   "id": "1ca5e0b6",
   "metadata": {},
   "outputs": [],
   "source": [
    "# Derived Matrix - creating bankrupt_in_past column\n",
    "loan_df['bankrupt_in_past'] = loan_df['pub_rec_bankruptcies'].apply(lambda x: 'YES' if x > 0 else 'NO')\n",
    "loan_df.drop(columns='pub_rec_bankruptcies', inplace=True)"
   ]
  },
  {
   "cell_type": "code",
   "execution_count": 1148,
   "id": "f395e7cf",
   "metadata": {},
   "outputs": [],
   "source": [
    "#lets filter all unrelevant columns that are not useful for our analysis\n",
    "\n",
    "loan_df = loan_df[['id','member_id','loan_amnt','funded_amnt','int_rate', 'term_years','grade','sub_grade','purpose','emp_exp','home_ownership','annual_inc'\n",
    "       ,'verification_status','dti','inq_last_6mths','pub_rec','revol_bal','revol_util','total_acc','issue_month','issue_year'\n",
    "       ,'loan_status','delayed_payment_in_past','bankrupt_in_past','zip_code', 'addr_state']]"
   ]
  },
  {
   "cell_type": "code",
   "execution_count": 1149,
   "id": "00a73faf",
   "metadata": {},
   "outputs": [
    {
     "data": {
      "text/plain": [
       "(38574, 26)"
      ]
     },
     "execution_count": 1149,
     "metadata": {},
     "output_type": "execute_result"
    }
   ],
   "source": [
    "loan_df.shape"
   ]
  },
  {
   "cell_type": "markdown",
   "id": "b3942d96",
   "metadata": {},
   "source": [
    "##### we need one more drived column for loan status numeric so that we can compute mean of charged off vs total loans while ploting graphs\n"
   ]
  },
  {
   "cell_type": "code",
   "execution_count": 1150,
   "id": "5b0fd2e2",
   "metadata": {},
   "outputs": [],
   "source": [
    "loan_df['loan_status_numeric'] = (loan_df['loan_status'] == 'Charged Off').astype(int)"
   ]
  },
  {
   "cell_type": "code",
   "execution_count": 1164,
   "id": "67f9ff39",
   "metadata": {},
   "outputs": [
    {
     "data": {
      "image/png": "[encoded data removed]",
      "text/plain": [
       "<Figure size 1000x800 with 2 Axes>"
      ]
     },
     "metadata": {},
     "output_type": "display_data"
    }
   ],
   "source": [
    "#lets check the co relation metrics between quantitave variables and loan status numeric.\n",
    "\n",
    "corr = loan_df[['annual_inc','dti','revol_bal','revol_util','total_acc','loan_status_numeric']].corr()\n",
    "plt.figure(figsize=(10, 8))\n",
    "sns.heatmap(corr, annot=True, cmap='Blues', fmt=\".2f\", linewidths=.5, color = 'blue')\n",
    "plt.title('Correlation Matrix')\n",
    "plt.show()"
   ]
  },
  {
   "cell_type": "code",
   "execution_count": 1152,
   "id": "eb12e46e",
   "metadata": {},
   "outputs": [],
   "source": [
    "#making range buckets will be better here for funded amount, int rate and annual income\n",
    "percentiles = [0, .25, .50, .75, 1.00]"
   ]
  },
  {
   "cell_type": "code",
   "execution_count": 1153,
   "id": "89178b65",
   "metadata": {},
   "outputs": [],
   "source": [
    "# Create categories based on funded amounts percentiles\n",
    "loan_df['funded_amnt_category'] = pd.qcut(loan_df['funded_amnt'], q=percentiles, labels=False)\n",
    "\n",
    "# Rename the categories for better interpretation\n",
    "category_labels = ['0-25%', '25-50%', '50-75%', '75-100%']\n",
    "loan_df['funded_amnt_category'] = pd.cut(loan_df['funded_amnt_category'], bins=len(percentiles)-1, labels=category_labels)\n"
   ]
  },
  {
   "cell_type": "code",
   "execution_count": 1154,
   "id": "b4ba294f",
   "metadata": {},
   "outputs": [],
   "source": [
    "# Create categories based on annual income percentiles\n",
    "loan_df['annual_income_category'] = pd.qcut(loan_df['annual_inc'], q=percentiles, labels=False)\n",
    "\n",
    "# Rename the categories for better interpretation\n",
    "category_labels = ['0-25%', '25-50%', '50-75%', '75-100%']\n",
    "loan_df['annual_income_category'] = pd.cut(loan_df['annual_income_category'], bins=len(percentiles)-1, labels=category_labels)"
   ]
  },
  {
   "cell_type": "code",
   "execution_count": 1155,
   "id": "f10683fa",
   "metadata": {},
   "outputs": [],
   "source": [
    "# Create categories based on interest rate percentiles\n",
    "loan_df['int_rate_category'] = pd.qcut(loan_df['int_rate'], q=percentiles, labels=False)\n",
    "\n",
    "# Rename the categories for better interpretation\n",
    "category_labels = ['0-25%', '25-50%', '50-75%', '75-100%']\n",
    "loan_df['int_rate_category'] = pd.cut(loan_df['int_rate_category'], bins=len(percentiles)-1, labels=category_labels)"
   ]
  },
  {
   "cell_type": "code",
   "execution_count": 1166,
   "id": "d89b5bc7",
   "metadata": {},
   "outputs": [
    {
     "data": {
      "image/png": "[encoded data removed]",
      "text/plain": [
       "<Figure size 640x480 with 3 Axes>"
      ]
     },
     "metadata": {},
     "output_type": "display_data"
    }
   ],
   "source": [
    "plt.subplot(3, 1, 1)\n",
    "sns.boxplot(x='loan_status', y='dti', data=loan_df, palette='Set1')\n",
    "plt.title('Debt-to-Income Ratio vs. Loan Status')\n",
    "\n",
    "plt.subplot(3, 1, 2)\n",
    "sns.boxplot(x='loan_status', y='int_rate', data=loan_df, palette='Set2')\n",
    "plt.title('Interest Rate vs. Loan Status')\n",
    "\n",
    "plt.subplot(3, 1, 3)\n",
    "sns.boxplot(x='loan_status', y='revol_util', data=loan_df, palette='Set3')\n",
    "plt.title('Revol Util vs. Loan Status')\n",
    "\n",
    "plt.tight_layout()\n",
    "plt.show()"
   ]
  },
  {
   "cell_type": "code",
   "execution_count": 1157,
   "id": "81652c00",
   "metadata": {},
   "outputs": [
    {
     "data": {
      "text/plain": [
       "Text(0, 0.5, 'Charged off loan ratio to total loan')"
      ]
     },
     "execution_count": 1157,
     "metadata": {},
     "output_type": "execute_result"
    },
    {
     "data": {
      "image/png": "[encoded data removed]",
      "text/plain": [
       "<Figure size 640x480 with 1 Axes>"
      ]
     },
     "metadata": {},
     "output_type": "display_data"
    }
   ],
   "source": [
    "\n",
    "\n",
    "group_by_terms_year = loan_df.groupby(by = 'term_years')\n",
    "group_by_terms_year['loan_status_numeric'].mean().plot(kind = 'bar', color = ['blue','green','red','orange'])\n",
    "plt.ylabel(\"Charged off loan ratio to total loan\")"
   ]
  },
  {
   "cell_type": "markdown",
   "id": "ff728ad7",
   "metadata": {},
   "source": [
    "##### loans with 5 year term has more defaulters even when total loans are less in number as compare to 3 years term loans"
   ]
  },
  {
   "cell_type": "code",
   "execution_count": 1158,
   "id": "6f261738",
   "metadata": {},
   "outputs": [
    {
     "data": {
      "image/png": "[encoded data removed]",
      "text/plain": [
       "<Figure size 1200x800 with 2 Axes>"
      ]
     },
     "metadata": {},
     "output_type": "display_data"
    }
   ],
   "source": [
    "\n",
    "pivot_table = loan_df.pivot_table( index ='purpose', columns=['annual_income_category'], values='loan_status_numeric', aggfunc='mean')\n",
    "\n",
    "# Visualize the heatmap\n",
    "plt.figure(figsize=(12, 8))\n",
    "sns.heatmap(pivot_table, annot=True, cmap='Blues', fmt=\".2f\", linewidths=.5)\n",
    "plt.show()"
   ]
  },
  {
   "cell_type": "markdown",
   "id": "341857ea",
   "metadata": {},
   "source": [
    "###### Small business and Renewable energy likely to defaulter as seen in above graph\n"
   ]
  },
  {
   "cell_type": "code",
   "execution_count": 1159,
   "id": "f66e985c",
   "metadata": {},
   "outputs": [
    {
     "data": {
      "image/png": "[encoded data removed]",
      "text/plain": [
       "<Figure size 1200x800 with 2 Axes>"
      ]
     },
     "metadata": {},
     "output_type": "display_data"
    }
   ],
   "source": [
    "pivot_table = loan_df.pivot_table(index='annual_income_category', columns=['funded_amnt_category','int_rate_category'], values='loan_status_numeric', aggfunc='mean')\n",
    "\n",
    "# Visualize the heatmap\n",
    "plt.figure(figsize=(12, 8))\n",
    "sns.heatmap(pivot_table, annot=True, cmap='Blues', fmt=\".2f\", linewidths=.5)\n",
    "plt.show()"
   ]
  },
  {
   "cell_type": "markdown",
   "id": "8e8fa3fc",
   "metadata": {},
   "source": [
    "##### in above graph, we can see if annual income is less and interest rate and funded amount is high, then probablity of charged off is higher\n"
   ]
  },
  {
   "cell_type": "code",
   "execution_count": 1160,
   "id": "ed3a0fd1",
   "metadata": {},
   "outputs": [
    {
     "data": {
      "text/plain": [
       "<Figure size 1200x800 with 0 Axes>"
      ]
     },
     "metadata": {},
     "output_type": "display_data"
    },
    {
     "data": {
      "image/png": "[encoded data removed]",
      "text/plain": [
       "<Figure size 640x480 with 1 Axes>"
      ]
     },
     "metadata": {},
     "output_type": "display_data"
    }
   ],
   "source": [
    "pivot_table = loan_df.pivot_table(columns=['inq_last_6mths'], values='loan_status_numeric', aggfunc='mean')\n",
    "\n",
    "# Visualize the heatmap\n",
    "plt.figure(figsize=(12, 8))\n",
    "pivot_table.plot(kind='bar', stacked=False)\n",
    "plt.xticks(rotation=0)\n",
    "plt.show()"
   ]
  },
  {
   "cell_type": "markdown",
   "id": "1b07d7b5",
   "metadata": {},
   "source": [
    "###### if number of enquires are higher is number, then chances of charged off inceases"
   ]
  },
  {
   "cell_type": "code",
   "execution_count": 1169,
   "id": "102980b0",
   "metadata": {},
   "outputs": [
    {
     "data": {
      "image/png": "[encoded data removed]",
      "text/plain": [
       "<Figure size 1200x800 with 2 Axes>"
      ]
     },
     "metadata": {},
     "output_type": "display_data"
    }
   ],
   "source": [
    "pivot_table = loan_df.pivot_table(index='verification_status', values='loan_status_numeric', aggfunc='mean')\n",
    "\n",
    "# Visualize the heatmap\n",
    "plt.figure(figsize=(12, 8))\n",
    "sns.heatmap(pivot_table, annot=True, cmap='Blues', fmt=\".2f\", linewidths=.5)\n",
    "plt.show()"
   ]
  },
  {
   "cell_type": "code",
   "execution_count": 1167,
   "id": "d99c3186",
   "metadata": {},
   "outputs": [
    {
     "data": {
      "text/plain": [
       "<Figure size 4000x800 with 0 Axes>"
      ]
     },
     "metadata": {},
     "output_type": "display_data"
    },
    {
     "data": {
      "image/png": "[encoded data removed]",
      "text/plain": [
       "<Figure size 640x480 with 1 Axes>"
      ]
     },
     "metadata": {},
     "output_type": "display_data"
    }
   ],
   "source": [
    "pivot_table = loan_df.pivot_table(index='addr_state', values='loan_status_numeric', aggfunc='mean')\n",
    "pivot_table = pivot_table.nlargest(5, 'loan_status_numeric')\n",
    "\n",
    "# Visualize the heatmap\n",
    "plt.figure(figsize=(40, 8))\n",
    "pivot_table.plot(kind='bar', stacked=True)\n",
    "\n",
    "plt.show()"
   ]
  },
  {
   "cell_type": "markdown",
   "id": "5d6cb6e1",
   "metadata": {},
   "source": [
    "###### if address state of borrower is NE, then it is very high chance of defaulter."
   ]
  },
  {
   "cell_type": "markdown",
   "id": "8fa4d237",
   "metadata": {},
   "source": [
    "# Summary"
   ]
  },
  {
   "cell_type": "markdown",
   "id": "980627f7",
   "metadata": {},
   "source": [
    "#### 1. Purpose - Small business and Renewable energy likely to defaulter\n",
    "#### 2. Number of Enquires in last 6 months - if number of enquires are higher is number, then chances of charged off inceases\n",
    "#### 3. Interest Rate, Funded Amount, Loan Amount - in above graph, we can see if annual income is less and interest rate and funded amount is high, then probablity of charged off is higher\n",
    "#### 4. home_ownership - Other Category of home_ownership likely to default more\n",
    "#### 5. Address State - if address state of borrower is NE, then it is very high chance of defaulter.\n",
    "#### 6. Term - Loans with 5 year term has more defaulters even when total loans are less in number as compare to 3 years term loans\n",
    "\n"
   ]
  }
 ],
 "metadata": {
  "kernelspec": {
   "display_name": "Python 3 (ipykernel)",
   "language": "python",
   "name": "python3"
  },
  "language_info": {
   "codemirror_mode": {
    "name": "ipython",
    "version": 3
   },
   "file_extension": ".py",
   "mimetype": "text/x-python",
   "name": "python",
   "nbconvert_exporter": "python",
   "pygments_lexer": "ipython3",
   "version": "3.11.3"
  }
 },
 "nbformat": 4,
 "nbformat_minor": 5
}
