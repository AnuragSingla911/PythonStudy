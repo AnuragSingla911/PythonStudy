{
 "cells": [
  {
   "cell_type": "code",
   "execution_count": 6,
   "id": "7cf9022e-3697-42ee-8b63-445160a3a0e4",
   "metadata": {},
   "outputs": [
    {
     "name": "stdout",
     "output_type": "stream",
     "text": [
      "       Name Response  Response1\n",
      "0   Reetesh       No        0.0\n",
      "1    Shruti    Maybe        0.5\n",
      "2  Kaustubh      yes        0.1\n",
      "3     Vikas      Yes        0.1\n",
      "4    Mahima    maybe        0.5\n",
      "5    Akshay      Yes        0.1\n"
     ]
    }
   ],
   "source": [
    "\n",
    "# Storing the names in a variable 'name'\n",
    "name = ['Reetesh', 'Shruti', 'Kaustubh', 'Vikas', 'Mahima', 'Akshay']\n",
    "# Storing the responses in a variable 'repsonse'\n",
    "response = ['No', 'Maybe', 'yes', 'Yes', 'maybe', 'Yes']\n",
    "\n",
    "# Importing pandas and converting the read lists to a dataframe. You can print\n",
    "# the dataframe and run the code to see what it will look like\n",
    "import pandas as pd \n",
    "df = pd.DataFrame({'Name': name,'Response': response})\n",
    "\n",
    "df['Response1'] = df['Response'].apply(lambda x : 0.5 if x.lower() == 'maybe' else (0.1 if x.lower() == 'yes' else 0.0))\n",
    "\n",
    "# Write your code here\n",
    "\n",
    "# Print the final DataFrame\n",
    "print(df)"
   ]
  },
  {
   "cell_type": "code",
   "execution_count": 7,
   "id": "82f1e8f2-62d8-42cc-8df4-249e6454b1e1",
   "metadata": {},
   "outputs": [
    {
     "name": "stdout",
     "output_type": "stream",
     "text": [
      "   ID  BloodGroup_AB  BloodGroup_B  BloodGroup_O\n",
      "0   1              0             0             0\n",
      "1   2              0             1             0\n",
      "2   3              1             0             0\n",
      "3   4              0             0             1\n"
     ]
    }
   ],
   "source": [
    "import pandas as pd\n",
    "\n",
    "# Sample DataFrame\n",
    "data = {'ID': [1, 2, 3, 4],\n",
    "        'BloodGroup': ['A', 'B', 'AB', 'O']}\n",
    "df = pd.DataFrame(data)\n",
    "\n",
    "# Perform one-hot encoding\n",
    "df_encoded = pd.get_dummies(df, columns=['BloodGroup'], drop_first=True)\n",
    "\n",
    "# Display the result\n",
    "print(df_encoded)\n"
   ]
  },
  {
   "cell_type": "code",
   "execution_count": null,
   "id": "a0f18e0d-4bec-4a13-9cf5-473458feb1fa",
   "metadata": {},
   "outputs": [],
   "source": []
  },
  {
   "cell_type": "code",
   "execution_count": null,
   "id": "6072a297-f339-4449-8771-b99207438cb1",
   "metadata": {},
   "outputs": [],
   "source": []
  },
  {
   "cell_type": "code",
   "execution_count": null,
   "id": "48740e71-1eff-4d5f-95e4-26c016813af1",
   "metadata": {},
   "outputs": [],
   "source": []
  },
  {
   "cell_type": "code",
   "execution_count": null,
   "id": "c32f318f-4877-4897-80f3-43401835884e",
   "metadata": {},
   "outputs": [],
   "source": []
  }
 ],
 "metadata": {
  "kernelspec": {
   "display_name": "Python 3 (ipykernel)",
   "language": "python",
   "name": "python3"
  },
  "language_info": {
   "codemirror_mode": {
    "name": "ipython",
    "version": 3
   },
   "file_extension": ".py",
   "mimetype": "text/x-python",
   "name": "python",
   "nbconvert_exporter": "python",
   "pygments_lexer": "ipython3",
   "version": "3.11.3"
  }
 },
 "nbformat": 4,
 "nbformat_minor": 5
}
