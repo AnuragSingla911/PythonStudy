{
 "cells": [
  {
   "cell_type": "code",
   "execution_count": 1,
   "metadata": {},
   "outputs": [],
   "source": [
    "import numpy as np\n",
    "import pandas as pd\n",
    "import matplotlib.pyplot as plt\n",
    "import seaborn as sns"
   ]
  },
  {
   "cell_type": "code",
   "execution_count": 31,
   "metadata": {},
   "outputs": [
    {
     "data": {
      "text/plain": [
       "{' 1-sample mean test':     Unnamed: 0  Commute time of employees   Hypothesised Mean Time\n",
       " 0          NaN                          37                    35.0\n",
       " 1          NaN                          64                     NaN\n",
       " 2          NaN                          43                     NaN\n",
       " 3          NaN                          32                     NaN\n",
       " 4          NaN                          23                     NaN\n",
       " 5          NaN                          18                     NaN\n",
       " 6          NaN                          36                     NaN\n",
       " 7          NaN                          30                     NaN\n",
       " 8          NaN                          46                     NaN\n",
       " 9          NaN                          52                     NaN\n",
       " 10         NaN                          15                     NaN\n",
       " 11         NaN                          64                     NaN\n",
       " 12         NaN                          13                     NaN\n",
       " 13         NaN                          25                     NaN\n",
       " 14         NaN                          28                     NaN\n",
       " 15         NaN                          45                     NaN\n",
       " 16         NaN                          19                     NaN\n",
       " 17         NaN                          35                     NaN\n",
       " 18         NaN                          19                     NaN\n",
       " 19         NaN                          24                     NaN\n",
       " 20         NaN                          31                     NaN\n",
       " 21         NaN                          31                     NaN\n",
       " 22         NaN                          42                     NaN\n",
       " 23         NaN                          32                     NaN\n",
       " 24         NaN                          41                     NaN\n",
       " 25         NaN                          33                     NaN\n",
       " 26         NaN                          17                     NaN\n",
       " 27         NaN                          15                     NaN\n",
       " 28         NaN                          19                     NaN\n",
       " 29         NaN                          24                     NaN\n",
       " 30         NaN                          22                     NaN\n",
       " 31         NaN                          12                     NaN,\n",
       " '2-sample mean test - Paired':     Unnamed: 0  Commute time on Day 1  Commute Time on Day 2\n",
       " 0          NaN                     27                     23\n",
       " 1          NaN                     43                     42\n",
       " 2          NaN                     34                     39\n",
       " 3          NaN                     24                     23\n",
       " 4          NaN                     31                     37\n",
       " 5          NaN                     46                     53\n",
       " 6          NaN                     44                     44\n",
       " 7          NaN                     42                     38\n",
       " 8          NaN                     32                     30\n",
       " 9          NaN                     49                     50\n",
       " 10         NaN                     16                     12\n",
       " 11         NaN                     23                     18\n",
       " 12         NaN                     18                     24\n",
       " 13         NaN                     42                     47\n",
       " 14         NaN                     23                     26\n",
       " 15         NaN                     53                     54\n",
       " 16         NaN                     54                     58\n",
       " 17         NaN                     32                     33\n",
       " 18         NaN                     30                     34\n",
       " 19         NaN                     49                     41\n",
       " 20         NaN                     44                     41\n",
       " 21         NaN                     38                     32\n",
       " 22         NaN                     29                     32\n",
       " 23         NaN                     42                     38\n",
       " 24         NaN                     38                     31\n",
       " 25         NaN                     23                     18\n",
       " 26         NaN                     29                     23\n",
       " 27         NaN                     19                     19\n",
       " 28         NaN                     15                     17\n",
       " 29         NaN                     22                     24\n",
       " 30         NaN                     39                     43\n",
       " 31         NaN                     38                     31,\n",
       " '2-sample mean test - Unpaired':     Unnamed: 0  Commute time of Team 1  Commute Time of Team 2\n",
       " 0          NaN                      27                      18\n",
       " 1          NaN                      43                      27\n",
       " 2          NaN                      34                      64\n",
       " 3          NaN                      24                      61\n",
       " 4          NaN                      31                      13\n",
       " 5          NaN                      46                      33\n",
       " 6          NaN                      44                      37\n",
       " 7          NaN                      42                      44\n",
       " 8          NaN                      32                      58\n",
       " 9          NaN                      49                      61\n",
       " 10         NaN                      16                      21\n",
       " 11         NaN                      23                      31\n",
       " 12         NaN                      18                      20\n",
       " 13         NaN                      42                      56\n",
       " 14         NaN                      23                      52\n",
       " 15         NaN                      53                      49\n",
       " 16         NaN                      54                      56\n",
       " 17         NaN                      32                      40\n",
       " 18         NaN                      30                      43\n",
       " 19         NaN                      49                      42\n",
       " 20         NaN                      44                      58\n",
       " 21         NaN                      38                      36\n",
       " 22         NaN                      29                      34\n",
       " 23         NaN                      42                      57\n",
       " 24         NaN                      38                      50\n",
       " 25         NaN                      23                      24\n",
       " 26         NaN                      29                      64\n",
       " 27         NaN                      19                      19\n",
       " 28         NaN                      15                      35\n",
       " 29         NaN                      22                      59\n",
       " 30         NaN                      39                      49\n",
       " 31         NaN                      38                      29}"
      ]
     },
     "execution_count": 31,
     "metadata": {},
     "output_type": "execute_result"
    }
   ],
   "source": [
    "samples = pd.read_excel('sample.xlsx', sheet_name=None)\n",
    "samples"
   ]
  },
  {
   "cell_type": "code",
   "execution_count": 22,
   "metadata": {},
   "outputs": [
    {
     "name": "stdout",
     "output_type": "stream",
     "text": [
      "       Unnamed: 0  Commute time on Day 1  Commute Time on Day 2\n",
      "count         0.0              32.000000              32.000000\n",
      "mean          NaN              34.000000              33.593750\n",
      "std           NaN              11.080352              11.839953\n",
      "min           NaN              15.000000              12.000000\n",
      "25%           NaN              23.750000              23.750000\n",
      "50%           NaN              33.000000              32.500000\n",
      "75%           NaN              42.250000              41.250000\n",
      "max           NaN              54.000000              58.000000\n",
      "Unnamed: 0                      NaN\n",
      "Commute time on Day 1    122.774194\n",
      "Commute Time on Day 2    140.184476\n",
      "dtype: float64\n"
     ]
    }
   ],
   "source": [
    "sample = samples.get('2-sample mean test - Paired')\n",
    "print(sample.describe())\n",
    "print(sample.var())"
   ]
  },
  {
   "cell_type": "code",
   "execution_count": 11,
   "metadata": {},
   "outputs": [],
   "source": [
    "from scipy import stats\n"
   ]
  },
  {
   "cell_type": "code",
   "execution_count": 23,
   "metadata": {},
   "outputs": [],
   "source": [
    "t_stat, p_value = stats.ttest_ind(sample['Commute time on Day 1'], sample['Commute Time on Day 2'], equal_var=False)\n"
   ]
  },
  {
   "cell_type": "code",
   "execution_count": 24,
   "metadata": {},
   "outputs": [
    {
     "name": "stdout",
     "output_type": "stream",
     "text": [
      "0.14171787003575112 0.8877643650009104\n"
     ]
    }
   ],
   "source": [
    "print(t_stat, p_value)"
   ]
  },
  {
   "cell_type": "code",
   "execution_count": 19,
   "metadata": {},
   "outputs": [],
   "source": [
    "t_stat1, p_value1 = stats.ttest_rel(sample['Commute time on Day 1'], sample['Commute Time on Day 2'])\n"
   ]
  },
  {
   "cell_type": "code",
   "execution_count": 20,
   "metadata": {},
   "outputs": [
    {
     "name": "stdout",
     "output_type": "stream",
     "text": [
      "0.5198926783952246 0.6068313271031527\n"
     ]
    }
   ],
   "source": [
    "print(t_stat1, p_value1)"
   ]
  },
  {
   "cell_type": "code",
   "execution_count": 32,
   "metadata": {},
   "outputs": [],
   "source": [
    "unpaired = samples.get('2-sample mean test - Unpaired')\n"
   ]
  },
  {
   "cell_type": "code",
   "execution_count": 35,
   "metadata": {},
   "outputs": [],
   "source": [
    "\n",
    "t_stat2, p_value2 = stats.ttest_ind(unpaired['Commute time of Team 1'], unpaired['Commute Time of Team 2'], equal_var=False)\n"
   ]
  },
  {
   "cell_type": "code",
   "execution_count": 36,
   "metadata": {},
   "outputs": [
    {
     "name": "stdout",
     "output_type": "stream",
     "text": [
      "-2.3489766657621147 0.02235751696827402\n"
     ]
    }
   ],
   "source": [
    "print(t_stat2, p_value2)"
   ]
  },
  {
   "cell_type": "code",
   "execution_count": 37,
   "metadata": {},
   "outputs": [],
   "source": [
    "samples_prop = pd.read_excel('sample_prop.xlsx', sheet_name=None)"
   ]
  },
  {
   "cell_type": "code",
   "execution_count": 39,
   "metadata": {},
   "outputs": [],
   "source": [
    "prop_df = samples_prop.get('2-sample proportion test')"
   ]
  },
  {
   "cell_type": "code",
   "execution_count": 41,
   "metadata": {},
   "outputs": [
    {
     "data": {
      "text/html": [
       "<div>\n",
       "<style scoped>\n",
       "    .dataframe tbody tr th:only-of-type {\n",
       "        vertical-align: middle;\n",
       "    }\n",
       "\n",
       "    .dataframe tbody tr th {\n",
       "        vertical-align: top;\n",
       "    }\n",
       "\n",
       "    .dataframe thead th {\n",
       "        text-align: right;\n",
       "    }\n",
       "</style>\n",
       "<table border=\"1\" class=\"dataframe\">\n",
       "  <thead>\n",
       "    <tr style=\"text-align: right;\">\n",
       "      <th></th>\n",
       "      <th>Unnamed: 0</th>\n",
       "      <th>Commute time on Day 1</th>\n",
       "      <th>Commute Time on Day 2</th>\n",
       "      <th>Categorical Data for Day 1</th>\n",
       "      <th>Categorical Data for Day 2</th>\n",
       "      <th>Unnamed: 5</th>\n",
       "      <th>Unnamed: 6</th>\n",
       "      <th>Unnamed: 7</th>\n",
       "    </tr>\n",
       "  </thead>\n",
       "  <tbody>\n",
       "    <tr>\n",
       "      <th>0</th>\n",
       "      <td>NaN</td>\n",
       "      <td>27</td>\n",
       "      <td>18</td>\n",
       "      <td>0</td>\n",
       "      <td>0</td>\n",
       "      <td>NaN</td>\n",
       "      <td>NaN</td>\n",
       "      <td>NaN</td>\n",
       "    </tr>\n",
       "    <tr>\n",
       "      <th>1</th>\n",
       "      <td>NaN</td>\n",
       "      <td>43</td>\n",
       "      <td>27</td>\n",
       "      <td>1</td>\n",
       "      <td>0</td>\n",
       "      <td>NaN</td>\n",
       "      <td>NaN</td>\n",
       "      <td>NaN</td>\n",
       "    </tr>\n",
       "    <tr>\n",
       "      <th>2</th>\n",
       "      <td>NaN</td>\n",
       "      <td>34</td>\n",
       "      <td>64</td>\n",
       "      <td>0</td>\n",
       "      <td>1</td>\n",
       "      <td>NaN</td>\n",
       "      <td>XLSTAT 2017.02.43894  - Tests for two proporti...</td>\n",
       "      <td>NaN</td>\n",
       "    </tr>\n",
       "    <tr>\n",
       "      <th>3</th>\n",
       "      <td>NaN</td>\n",
       "      <td>24</td>\n",
       "      <td>61</td>\n",
       "      <td>0</td>\n",
       "      <td>1</td>\n",
       "      <td>NaN</td>\n",
       "      <td>Frequency 1: 15</td>\n",
       "      <td>NaN</td>\n",
       "    </tr>\n",
       "    <tr>\n",
       "      <th>4</th>\n",
       "      <td>NaN</td>\n",
       "      <td>31</td>\n",
       "      <td>13</td>\n",
       "      <td>0</td>\n",
       "      <td>0</td>\n",
       "      <td>NaN</td>\n",
       "      <td>Sample size 1: 32</td>\n",
       "      <td>NaN</td>\n",
       "    </tr>\n",
       "  </tbody>\n",
       "</table>\n",
       "</div>"
      ],
      "text/plain": [
       "   Unnamed: 0  Commute time on Day 1  Commute Time on Day 2  \\\n",
       "0         NaN                     27                     18   \n",
       "1         NaN                     43                     27   \n",
       "2         NaN                     34                     64   \n",
       "3         NaN                     24                     61   \n",
       "4         NaN                     31                     13   \n",
       "\n",
       "   Categorical Data for Day 1  Categorical Data for Day 2  Unnamed: 5  \\\n",
       "0                           0                           0         NaN   \n",
       "1                           1                           0         NaN   \n",
       "2                           0                           1         NaN   \n",
       "3                           0                           1         NaN   \n",
       "4                           0                           0         NaN   \n",
       "\n",
       "                                          Unnamed: 6  Unnamed: 7  \n",
       "0                                                NaN         NaN  \n",
       "1                                                NaN         NaN  \n",
       "2  XLSTAT 2017.02.43894  - Tests for two proporti...         NaN  \n",
       "3                                    Frequency 1: 15         NaN  \n",
       "4                                  Sample size 1: 32         NaN  "
      ]
     },
     "execution_count": 41,
     "metadata": {},
     "output_type": "execute_result"
    }
   ],
   "source": [
    "prop_df.head()"
   ]
  },
  {
   "cell_type": "code",
   "execution_count": null,
   "metadata": {},
   "outputs": [],
   "source": []
  },
  {
   "cell_type": "code",
   "execution_count": 47,
   "metadata": {},
   "outputs": [],
   "source": [
    "from statsmodels.stats.proportion import proportion_confint\n",
    "\n",
    "successes_group1 = prop_df['Categorical Data for Day 1'].sum()\n",
    "successes_group2 = prop_df['Categorical Data for Day 2'].sum()\n",
    "trials_group1 = prop_df['Categorical Data for Day 1'].count()\n",
    "trials_group2 = prop_df['Categorical Data for Day 2'].count()\n",
    "confint_group1 = proportion_confint(successes_group1, trials_group1, alpha=.05)\n",
    "confint_group2 = proportion_confint(successes_group2, trials_group2, alpha=.05)\n"
   ]
  },
  {
   "cell_type": "code",
   "execution_count": 48,
   "metadata": {},
   "outputs": [
    {
     "name": "stdout",
     "output_type": "stream",
     "text": [
      "(0.2958507084543191, 0.6416492915456808) (0.4572630490265165, 0.7927369509734835)\n"
     ]
    }
   ],
   "source": [
    "print(confint_group1, confint_group2)"
   ]
  },
  {
   "cell_type": "code",
   "execution_count": null,
   "metadata": {},
   "outputs": [],
   "source": []
  },
  {
   "cell_type": "code",
   "execution_count": null,
   "metadata": {},
   "outputs": [],
   "source": []
  },
  {
   "cell_type": "code",
   "execution_count": null,
   "metadata": {},
   "outputs": [],
   "source": []
  },
  {
   "cell_type": "code",
   "execution_count": 44,
   "metadata": {},
   "outputs": [
    {
     "name": "stdout",
     "output_type": "stream",
     "text": [
      "-1.255529641148689 0.20928655478176728\n"
     ]
    }
   ],
   "source": [
    "print(stat_p, p_value_p)"
   ]
  },
  {
   "cell_type": "code",
   "execution_count": null,
   "metadata": {},
   "outputs": [],
   "source": []
  },
  {
   "cell_type": "code",
   "execution_count": null,
   "metadata": {},
   "outputs": [],
   "source": []
  },
  {
   "cell_type": "code",
   "execution_count": null,
   "metadata": {},
   "outputs": [],
   "source": []
  },
  {
   "cell_type": "code",
   "execution_count": null,
   "metadata": {},
   "outputs": [],
   "source": []
  }
 ],
 "metadata": {
  "kernelspec": {
   "display_name": "Python 3 (ipykernel)",
   "language": "python",
   "name": "python3"
  },
  "language_info": {
   "codemirror_mode": {
    "name": "ipython",
    "version": 3
   },
   "file_extension": ".py",
   "mimetype": "text/x-python",
   "name": "python",
   "nbconvert_exporter": "python",
   "pygments_lexer": "ipython3",
   "version": "3.11.3"
  },
  "vscode": {
   "interpreter": {
    "hash": "5e9b5a1462d1b84af769aefb2f1c292510a01934e4410b9744bf0c1a83071462"
   }
  }
 },
 "nbformat": 4,
 "nbformat_minor": 4
}
