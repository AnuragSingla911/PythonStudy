{
 "cells": [
  {
   "cell_type": "code",
   "execution_count": 1,
   "id": "ab435bac",
   "metadata": {},
   "outputs": [],
   "source": [
    "import pandas as pd\n",
    "import math"
   ]
  },
  {
   "cell_type": "code",
   "execution_count": 2,
   "id": "2e6bfc43",
   "metadata": {},
   "outputs": [],
   "source": [
    "data = pd.read_csv('stat.csv', low_memory=False)"
   ]
  },
  {
   "cell_type": "code",
   "execution_count": 3,
   "id": "38c703a4",
   "metadata": {},
   "outputs": [
    {
     "data": {
      "text/html": [
       "<div>\n",
       "<style scoped>\n",
       "    .dataframe tbody tr th:only-of-type {\n",
       "        vertical-align: middle;\n",
       "    }\n",
       "\n",
       "    .dataframe tbody tr th {\n",
       "        vertical-align: top;\n",
       "    }\n",
       "\n",
       "    .dataframe thead th {\n",
       "        text-align: right;\n",
       "    }\n",
       "</style>\n",
       "<table border=\"1\" class=\"dataframe\">\n",
       "  <thead>\n",
       "    <tr style=\"text-align: right;\">\n",
       "      <th></th>\n",
       "      <th>Customer No.</th>\n",
       "      <th>Exposure at Default (in lakh Rs.)</th>\n",
       "      <th>Recovery (%)</th>\n",
       "      <th>Probability of Default</th>\n",
       "      <th>Unnamed: 4</th>\n",
       "      <th>Unnamed: 5</th>\n",
       "    </tr>\n",
       "  </thead>\n",
       "  <tbody>\n",
       "    <tr>\n",
       "      <th>0</th>\n",
       "      <td>1</td>\n",
       "      <td>11.50</td>\n",
       "      <td>20.00%</td>\n",
       "      <td>0.0070</td>\n",
       "      <td>NaN</td>\n",
       "      <td>NaN</td>\n",
       "    </tr>\n",
       "    <tr>\n",
       "      <th>1</th>\n",
       "      <td>2</td>\n",
       "      <td>0.24</td>\n",
       "      <td>5.10%</td>\n",
       "      <td>0.0033</td>\n",
       "      <td>NaN</td>\n",
       "      <td>NaN</td>\n",
       "    </tr>\n",
       "    <tr>\n",
       "      <th>2</th>\n",
       "      <td>3</td>\n",
       "      <td>0.04</td>\n",
       "      <td>24.86%</td>\n",
       "      <td>0.0022</td>\n",
       "      <td>NaN</td>\n",
       "      <td>NaN</td>\n",
       "    </tr>\n",
       "    <tr>\n",
       "      <th>3</th>\n",
       "      <td>4</td>\n",
       "      <td>13.81</td>\n",
       "      <td>2.29%</td>\n",
       "      <td>0.0066</td>\n",
       "      <td>NaN</td>\n",
       "      <td>NaN</td>\n",
       "    </tr>\n",
       "    <tr>\n",
       "      <th>4</th>\n",
       "      <td>5</td>\n",
       "      <td>19.84</td>\n",
       "      <td>3.47%</td>\n",
       "      <td>0.0020</td>\n",
       "      <td>NaN</td>\n",
       "      <td>NaN</td>\n",
       "    </tr>\n",
       "  </tbody>\n",
       "</table>\n",
       "</div>"
      ],
      "text/plain": [
       "   Customer No.  Exposure at Default (in lakh Rs.) Recovery (%)  \\\n",
       "0             1                              11.50       20.00%   \n",
       "1             2                               0.24        5.10%   \n",
       "2             3                               0.04       24.86%   \n",
       "3             4                              13.81        2.29%   \n",
       "4             5                              19.84        3.47%   \n",
       "\n",
       "   Probability of Default  Unnamed: 4  Unnamed: 5  \n",
       "0                  0.0070         NaN         NaN  \n",
       "1                  0.0033         NaN         NaN  \n",
       "2                  0.0022         NaN         NaN  \n",
       "3                  0.0066         NaN         NaN  \n",
       "4                  0.0020         NaN         NaN  "
      ]
     },
     "execution_count": 3,
     "metadata": {},
     "output_type": "execute_result"
    }
   ],
   "source": [
    "data.head()"
   ]
  },
  {
   "cell_type": "code",
   "execution_count": 4,
   "id": "40a083ff",
   "metadata": {},
   "outputs": [],
   "source": [
    "data1 = data\n",
    "data1['recovery'] = data['Recovery (%)'].apply(lambda x: float(x.rstrip('%')))"
   ]
  },
  {
   "cell_type": "code",
   "execution_count": 5,
   "id": "7f07892d",
   "metadata": {},
   "outputs": [
    {
     "data": {
      "text/html": [
       "<div>\n",
       "<style scoped>\n",
       "    .dataframe tbody tr th:only-of-type {\n",
       "        vertical-align: middle;\n",
       "    }\n",
       "\n",
       "    .dataframe tbody tr th {\n",
       "        vertical-align: top;\n",
       "    }\n",
       "\n",
       "    .dataframe thead th {\n",
       "        text-align: right;\n",
       "    }\n",
       "</style>\n",
       "<table border=\"1\" class=\"dataframe\">\n",
       "  <thead>\n",
       "    <tr style=\"text-align: right;\">\n",
       "      <th></th>\n",
       "      <th>Customer No.</th>\n",
       "      <th>Exposure at Default (in lakh Rs.)</th>\n",
       "      <th>Recovery (%)</th>\n",
       "      <th>Probability of Default</th>\n",
       "      <th>Unnamed: 4</th>\n",
       "      <th>Unnamed: 5</th>\n",
       "      <th>recovery</th>\n",
       "    </tr>\n",
       "  </thead>\n",
       "  <tbody>\n",
       "    <tr>\n",
       "      <th>0</th>\n",
       "      <td>1</td>\n",
       "      <td>11.50</td>\n",
       "      <td>20.00%</td>\n",
       "      <td>0.0070</td>\n",
       "      <td>NaN</td>\n",
       "      <td>NaN</td>\n",
       "      <td>20.00</td>\n",
       "    </tr>\n",
       "    <tr>\n",
       "      <th>1</th>\n",
       "      <td>2</td>\n",
       "      <td>0.24</td>\n",
       "      <td>5.10%</td>\n",
       "      <td>0.0033</td>\n",
       "      <td>NaN</td>\n",
       "      <td>NaN</td>\n",
       "      <td>5.10</td>\n",
       "    </tr>\n",
       "    <tr>\n",
       "      <th>2</th>\n",
       "      <td>3</td>\n",
       "      <td>0.04</td>\n",
       "      <td>24.86%</td>\n",
       "      <td>0.0022</td>\n",
       "      <td>NaN</td>\n",
       "      <td>NaN</td>\n",
       "      <td>24.86</td>\n",
       "    </tr>\n",
       "    <tr>\n",
       "      <th>3</th>\n",
       "      <td>4</td>\n",
       "      <td>13.81</td>\n",
       "      <td>2.29%</td>\n",
       "      <td>0.0066</td>\n",
       "      <td>NaN</td>\n",
       "      <td>NaN</td>\n",
       "      <td>2.29</td>\n",
       "    </tr>\n",
       "    <tr>\n",
       "      <th>4</th>\n",
       "      <td>5</td>\n",
       "      <td>19.84</td>\n",
       "      <td>3.47%</td>\n",
       "      <td>0.0020</td>\n",
       "      <td>NaN</td>\n",
       "      <td>NaN</td>\n",
       "      <td>3.47</td>\n",
       "    </tr>\n",
       "  </tbody>\n",
       "</table>\n",
       "</div>"
      ],
      "text/plain": [
       "   Customer No.  Exposure at Default (in lakh Rs.) Recovery (%)  \\\n",
       "0             1                              11.50       20.00%   \n",
       "1             2                               0.24        5.10%   \n",
       "2             3                               0.04       24.86%   \n",
       "3             4                              13.81        2.29%   \n",
       "4             5                              19.84        3.47%   \n",
       "\n",
       "   Probability of Default  Unnamed: 4  Unnamed: 5  recovery  \n",
       "0                  0.0070         NaN         NaN     20.00  \n",
       "1                  0.0033         NaN         NaN      5.10  \n",
       "2                  0.0022         NaN         NaN     24.86  \n",
       "3                  0.0066         NaN         NaN      2.29  \n",
       "4                  0.0020         NaN         NaN      3.47  "
      ]
     },
     "execution_count": 5,
     "metadata": {},
     "output_type": "execute_result"
    }
   ],
   "source": [
    "data1.head()"
   ]
  },
  {
   "cell_type": "code",
   "execution_count": 6,
   "id": "ec8a22c6",
   "metadata": {},
   "outputs": [],
   "source": [
    "data1['exposed'] = data1['Exposure at Default (in lakh Rs.)']"
   ]
  },
  {
   "cell_type": "code",
   "execution_count": 7,
   "id": "7d7e4f0d",
   "metadata": {},
   "outputs": [
    {
     "name": "stdout",
     "output_type": "stream",
     "text": [
      "<class 'pandas.core.frame.DataFrame'>\n",
      "RangeIndex: 10000 entries, 0 to 9999\n",
      "Data columns (total 8 columns):\n",
      " #   Column                             Non-Null Count  Dtype  \n",
      "---  ------                             --------------  -----  \n",
      " 0   Customer No.                       10000 non-null  int64  \n",
      " 1   Exposure at Default (in lakh Rs.)  10000 non-null  float64\n",
      " 2   Recovery (%)                       10000 non-null  object \n",
      " 3   Probability of Default             10000 non-null  float64\n",
      " 4   Unnamed: 4                         0 non-null      float64\n",
      " 5   Unnamed: 5                         0 non-null      float64\n",
      " 6   recovery                           10000 non-null  float64\n",
      " 7   exposed                            10000 non-null  float64\n",
      "dtypes: float64(6), int64(1), object(1)\n",
      "memory usage: 625.1+ KB\n"
     ]
    }
   ],
   "source": [
    "data1.info()"
   ]
  },
  {
   "cell_type": "code",
   "execution_count": 8,
   "id": "827094ac",
   "metadata": {},
   "outputs": [],
   "source": [
    "data1['loss'] = (100 - data1.recovery) * data1.exposed / 100"
   ]
  },
  {
   "cell_type": "code",
   "execution_count": 9,
   "id": "c6a23d63",
   "metadata": {},
   "outputs": [],
   "source": [
    "data1['expected_loss'] = data1.loss * data1['Probability of Default']"
   ]
  },
  {
   "cell_type": "code",
   "execution_count": 10,
   "id": "870dd4a5",
   "metadata": {},
   "outputs": [
    {
     "data": {
      "text/plain": [
       "493.39131440619997"
      ]
     },
     "execution_count": 10,
     "metadata": {},
     "output_type": "execute_result"
    }
   ],
   "source": [
    "data1.expected_loss.sum()"
   ]
  },
  {
   "cell_type": "code",
   "execution_count": 11,
   "id": "e0a16d7b",
   "metadata": {},
   "outputs": [
    {
     "data": {
      "text/plain": [
       "-5.26315789473685"
      ]
     },
     "execution_count": 11,
     "metadata": {},
     "output_type": "execute_result"
    }
   ],
   "source": [
    " (1/38*3500) - (37/38* 100)"
   ]
  },
  {
   "cell_type": "code",
   "execution_count": 12,
   "id": "c3945311",
   "metadata": {},
   "outputs": [],
   "source": [
    "def combination(n, r):\n",
    "    return math.factorial(n) // (math.factorial(r) * math.factorial(n - r))\n"
   ]
  },
  {
   "cell_type": "code",
   "execution_count": 13,
   "id": "ec583c7e",
   "metadata": {},
   "outputs": [],
   "source": [
    "def probablityForDefective(x,total):\n",
    "    possible = combination(total,x)\n",
    "    return possible * ((.40)**x) * ((.60)**(total-x))\n",
    "    \n",
    "    \n",
    "    "
   ]
  },
  {
   "cell_type": "code",
   "execution_count": 14,
   "id": "6a54d0ad",
   "metadata": {},
   "outputs": [
    {
     "name": "stdout",
     "output_type": "stream",
     "text": [
      "0\n",
      "1\n",
      "2\n",
      "0.16728975359999998\n"
     ]
    }
   ],
   "source": [
    "x =0\n",
    "count = 0\n",
    "for y in (0,1,2):\n",
    "    print(y)\n",
    "    x= x + probablityForDefective(y, 10)\n",
    "    count = count + 1\n",
    "print(x)    "
   ]
  },
  {
   "cell_type": "code",
   "execution_count": 15,
   "id": "4172beac",
   "metadata": {},
   "outputs": [],
   "source": [
    "import numpy as np"
   ]
  },
  {
   "cell_type": "code",
   "execution_count": 16,
   "id": "828ed4a1",
   "metadata": {},
   "outputs": [],
   "source": [
    "data = [121.92, 133.21, 141.34, 126.23, 175.74]"
   ]
  },
  {
   "cell_type": "code",
   "execution_count": 17,
   "id": "30b8a4ae-dfa7-4b71-b4ab-8919d65b51a2",
   "metadata": {},
   "outputs": [],
   "source": [
    "std_deviation_sample = np.std(data, ddof=1)\n"
   ]
  },
  {
   "cell_type": "code",
   "execution_count": 18,
   "id": "09503b3b-0573-4d63-9147-0ee29c84b5e4",
   "metadata": {},
   "outputs": [
    {
     "name": "stdout",
     "output_type": "stream",
     "text": [
      "21.454952109012037\n"
     ]
    }
   ],
   "source": [
    "print(std_deviation_sample)"
   ]
  },
  {
   "cell_type": "code",
   "execution_count": 19,
   "id": "bd0bcfc1-1059-474c-8545-be53b2360804",
   "metadata": {},
   "outputs": [],
   "source": [
    "samples = pd.read_csv('samples.csv')"
   ]
  },
  {
   "cell_type": "code",
   "execution_count": 20,
   "id": "53721063-7a53-4838-aaca-8a9858469620",
   "metadata": {},
   "outputs": [
    {
     "data": {
      "text/html": [
       "<div>\n",
       "<style scoped>\n",
       "    .dataframe tbody tr th:only-of-type {\n",
       "        vertical-align: middle;\n",
       "    }\n",
       "\n",
       "    .dataframe tbody tr th {\n",
       "        vertical-align: top;\n",
       "    }\n",
       "\n",
       "    .dataframe thead th {\n",
       "        text-align: right;\n",
       "    }\n",
       "</style>\n",
       "<table border=\"1\" class=\"dataframe\">\n",
       "  <thead>\n",
       "    <tr style=\"text-align: right;\">\n",
       "      <th></th>\n",
       "      <th>Sample No.</th>\n",
       "      <th>Sample Mean</th>\n",
       "    </tr>\n",
       "  </thead>\n",
       "  <tbody>\n",
       "    <tr>\n",
       "      <th>0</th>\n",
       "      <td>1</td>\n",
       "      <td>3.2</td>\n",
       "    </tr>\n",
       "    <tr>\n",
       "      <th>1</th>\n",
       "      <td>2</td>\n",
       "      <td>2.6</td>\n",
       "    </tr>\n",
       "    <tr>\n",
       "      <th>2</th>\n",
       "      <td>3</td>\n",
       "      <td>2.8</td>\n",
       "    </tr>\n",
       "    <tr>\n",
       "      <th>3</th>\n",
       "      <td>4</td>\n",
       "      <td>2.0</td>\n",
       "    </tr>\n",
       "    <tr>\n",
       "      <th>4</th>\n",
       "      <td>5</td>\n",
       "      <td>3.0</td>\n",
       "    </tr>\n",
       "  </tbody>\n",
       "</table>\n",
       "</div>"
      ],
      "text/plain": [
       "   Sample No.  Sample Mean\n",
       "0           1          3.2\n",
       "1           2          2.6\n",
       "2           3          2.8\n",
       "3           4          2.0\n",
       "4           5          3.0"
      ]
     },
     "execution_count": 20,
     "metadata": {},
     "output_type": "execute_result"
    }
   ],
   "source": [
    "samples.head()"
   ]
  },
  {
   "cell_type": "code",
   "execution_count": 21,
   "id": "47545aee-32e5-4b4f-9532-bc6d861877ad",
   "metadata": {},
   "outputs": [
    {
     "data": {
      "text/plain": [
       "0.4248482081873476"
      ]
     },
     "execution_count": 21,
     "metadata": {},
     "output_type": "execute_result"
    }
   ],
   "source": [
    "samples['Sample Mean'].std( ddof=0)"
   ]
  },
  {
   "cell_type": "code",
   "execution_count": 22,
   "id": "276791f9-845d-4d1d-aed0-28477d023c62",
   "metadata": {},
   "outputs": [],
   "source": [
    "my_array = np.concatenate((np.ones(42), np.zeros(58)))\n"
   ]
  },
  {
   "cell_type": "code",
   "execution_count": 27,
   "id": "f0dbd073-bf26-4243-bf0f-15311e3a1860",
   "metadata": {},
   "outputs": [
    {
     "name": "stdout",
     "output_type": "stream",
     "text": [
      "0.49604496374885837\n"
     ]
    }
   ],
   "source": [
    "sd = my_array.std(ddof=1)\n",
    "print(sd)"
   ]
  },
  {
   "cell_type": "code",
   "execution_count": 25,
   "id": "85a9a3b3-4629-411a-a536-d3e504d5c58d",
   "metadata": {},
   "outputs": [
    {
     "data": {
      "text/plain": [
       "0.42"
      ]
     },
     "execution_count": 25,
     "metadata": {},
     "output_type": "execute_result"
    }
   ],
   "source": [
    "my_array.mean()"
   ]
  },
  {
   "cell_type": "code",
   "execution_count": 28,
   "id": "b03c4a0c-6b52-4109-9270-7ddbc8a39bd9",
   "metadata": {},
   "outputs": [],
   "source": [
    "rent = pd.read_csv('rent.csv')"
   ]
  },
  {
   "cell_type": "code",
   "execution_count": 29,
   "id": "0d7e2645-f64b-4ab7-9c80-0d37ad7858e9",
   "metadata": {},
   "outputs": [
    {
     "data": {
      "text/html": [
       "<div>\n",
       "<style scoped>\n",
       "    .dataframe tbody tr th:only-of-type {\n",
       "        vertical-align: middle;\n",
       "    }\n",
       "\n",
       "    .dataframe tbody tr th {\n",
       "        vertical-align: top;\n",
       "    }\n",
       "\n",
       "    .dataframe thead th {\n",
       "        text-align: right;\n",
       "    }\n",
       "</style>\n",
       "<table border=\"1\" class=\"dataframe\">\n",
       "  <thead>\n",
       "    <tr style=\"text-align: right;\">\n",
       "      <th></th>\n",
       "      <th>S. No.</th>\n",
       "      <th>Monthly Rent</th>\n",
       "    </tr>\n",
       "  </thead>\n",
       "  <tbody>\n",
       "    <tr>\n",
       "      <th>0</th>\n",
       "      <td>1</td>\n",
       "      <td>44000</td>\n",
       "    </tr>\n",
       "    <tr>\n",
       "      <th>1</th>\n",
       "      <td>2</td>\n",
       "      <td>49800</td>\n",
       "    </tr>\n",
       "    <tr>\n",
       "      <th>2</th>\n",
       "      <td>3</td>\n",
       "      <td>45400</td>\n",
       "    </tr>\n",
       "    <tr>\n",
       "      <th>3</th>\n",
       "      <td>4</td>\n",
       "      <td>40700</td>\n",
       "    </tr>\n",
       "    <tr>\n",
       "      <th>4</th>\n",
       "      <td>5</td>\n",
       "      <td>43900</td>\n",
       "    </tr>\n",
       "  </tbody>\n",
       "</table>\n",
       "</div>"
      ],
      "text/plain": [
       "   S. No.  Monthly Rent\n",
       "0       1         44000\n",
       "1       2         49800\n",
       "2       3         45400\n",
       "3       4         40700\n",
       "4       5         43900"
      ]
     },
     "execution_count": 29,
     "metadata": {},
     "output_type": "execute_result"
    }
   ],
   "source": [
    "rent.head()"
   ]
  },
  {
   "cell_type": "code",
   "execution_count": 39,
   "id": "971d10f8-1b42-4ea8-992f-0c3c36a1f499",
   "metadata": {},
   "outputs": [
    {
     "data": {
      "text/plain": [
       "(200, 2)"
      ]
     },
     "execution_count": 39,
     "metadata": {},
     "output_type": "execute_result"
    }
   ],
   "source": [
    "rent.shape"
   ]
  },
  {
   "cell_type": "code",
   "execution_count": 40,
   "id": "94f99978-067e-424c-9f01-afbef8b8dc3a",
   "metadata": {},
   "outputs": [
    {
     "data": {
      "text/plain": [
       "45571.0"
      ]
     },
     "execution_count": 40,
     "metadata": {},
     "output_type": "execute_result"
    }
   ],
   "source": [
    "rent['Monthly Rent'].mean()"
   ]
  },
  {
   "cell_type": "code",
   "execution_count": 33,
   "id": "b3377aa8-2737-4d8a-9c06-f47b6e12fd2b",
   "metadata": {},
   "outputs": [
    {
     "data": {
      "text/plain": [
       "S. No.            57.879185\n",
       "Monthly Rent    7457.521851\n",
       "dtype: float64"
      ]
     },
     "execution_count": 33,
     "metadata": {},
     "output_type": "execute_result"
    }
   ],
   "source": [
    "rent.std(ddof=1)"
   ]
  },
  {
   "cell_type": "code",
   "execution_count": 46,
   "id": "b1299110-9e81-44b9-943d-7e3d6a74e648",
   "metadata": {},
   "outputs": [
    {
     "data": {
      "text/plain": [
       "14.142135623730951"
      ]
     },
     "execution_count": 46,
     "metadata": {},
     "output_type": "execute_result"
    }
   ],
   "source": [
    "sq = math.sqrt(200)\n",
    "sq"
   ]
  },
  {
   "cell_type": "code",
   "execution_count": 47,
   "id": "6a390542-faa9-4272-b636-d63c86fe0627",
   "metadata": {},
   "outputs": [],
   "source": [
    "x =1.65* (7457.5 / 14.14)"
   ]
  },
  {
   "cell_type": "code",
   "execution_count": 45,
   "id": "5150d062-8f44-4fc8-838e-ff2e5cb87dfa",
   "metadata": {},
   "outputs": [
    {
     "data": {
      "text/plain": [
       "870.217468175389"
      ]
     },
     "execution_count": 45,
     "metadata": {},
     "output_type": "execute_result"
    }
   ],
   "source": [
    "x"
   ]
  },
  {
   "cell_type": "code",
   "execution_count": 48,
   "id": "f56a4c7c-2595-45d4-9bd7-9e31657c00fe",
   "metadata": {},
   "outputs": [],
   "source": [
    "x =2.58* (7457.5 / 14.14)"
   ]
  },
  {
   "cell_type": "code",
   "execution_count": 51,
   "id": "fcdedda3-b1ae-4c05-b6f3-756360ceb1ed",
   "metadata": {},
   "outputs": [
    {
     "name": "stdout",
     "output_type": "stream",
     "text": [
      "46604.71287128713 44537.28712871287\n"
     ]
    }
   ],
   "source": [
    "x =1.96* (7457.5 / 14.14)\n",
    "print(45571+x, 45571-x)"
   ]
  },
  {
   "cell_type": "code",
   "execution_count": 53,
   "id": "b41da9fa-2e2e-489f-9958-5a3e079d36d3",
   "metadata": {},
   "outputs": [
    {
     "name": "stdout",
     "output_type": "stream",
     "text": [
      "0.16\n"
     ]
    }
   ],
   "source": [
    "from scipy.stats import norm\n",
    "\n",
    "# Input\n",
    "mean = 100\n",
    "std_dev = 10\n",
    "\n",
    "# Set the cutoff\n",
    "cutoff = 90\n",
    "\n",
    "# Calculate the probability using the cumulative distribution function (CDF)\n",
    "probability_pass = norm.cdf(cutoff, mean, std_dev)\n",
    "\n",
    "# Round off to two decimal places\n",
    "probability_pass = round(probability_pass, 2)\n",
    "\n",
    "# Output\n",
    "print(probability_pass)\n"
   ]
  },
  {
   "cell_type": "code",
   "execution_count": null,
   "id": "bd9cd54e-be3a-4ed7-821a-d8203d20f076",
   "metadata": {},
   "outputs": [],
   "source": []
  }
 ],
 "metadata": {
  "kernelspec": {
   "display_name": "Python 3 (ipykernel)",
   "language": "python",
   "name": "python3"
  },
  "language_info": {
   "codemirror_mode": {
    "name": "ipython",
    "version": 3
   },
   "file_extension": ".py",
   "mimetype": "text/x-python",
   "name": "python",
   "nbconvert_exporter": "python",
   "pygments_lexer": "ipython3",
   "version": "3.11.3"
  }
 },
 "nbformat": 4,
 "nbformat_minor": 5
}
