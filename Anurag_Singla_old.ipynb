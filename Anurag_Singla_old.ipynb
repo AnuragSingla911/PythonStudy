{
 "cells": [
  {
   "cell_type": "code",
   "execution_count": 1,
   "id": "1c62f4e3",
   "metadata": {},
   "outputs": [],
   "source": [
    "import pandas as pd\n",
    "import matplotlib.pyplot as plt"
   ]
  },
  {
   "cell_type": "markdown",
   "id": "5a8f5500",
   "metadata": {},
   "source": [
    "Reading provided CSV file using panda library"
   ]
  },
  {
   "cell_type": "code",
   "execution_count": 2,
   "id": "f3d78356",
   "metadata": {},
   "outputs": [],
   "source": [
    "df = pd.read_csv('loan.csv', low_memory=False)"
   ]
  },
  {
   "cell_type": "markdown",
   "id": "e5647d96",
   "metadata": {},
   "source": [
    "Lets have look on CSV data, columns and shape"
   ]
  },
  {
   "cell_type": "code",
   "execution_count": 3,
   "id": "8f52555b",
   "metadata": {},
   "outputs": [
    {
     "data": {
      "text/plain": [
       "(39717, 111)"
      ]
     },
     "execution_count": 3,
     "metadata": {},
     "output_type": "execute_result"
    }
   ],
   "source": [
    "df.shape"
   ]
  },
  {
   "cell_type": "code",
   "execution_count": 389,
   "id": "8c5c88dd",
   "metadata": {},
   "outputs": [
    {
     "data": {
      "text/plain": [
       "Index(['id', 'member_id', 'loan_amnt', 'funded_amnt', 'funded_amnt_inv',\n",
       "       'term', 'int_rate', 'installment', 'grade', 'sub_grade',\n",
       "       ...\n",
       "       'num_tl_90g_dpd_24m', 'num_tl_op_past_12m', 'pct_tl_nvr_dlq',\n",
       "       'percent_bc_gt_75', 'pub_rec_bankruptcies', 'tax_liens',\n",
       "       'tot_hi_cred_lim', 'total_bal_ex_mort', 'total_bc_limit',\n",
       "       'total_il_high_credit_limit'],\n",
       "      dtype='object', length=111)"
      ]
     },
     "execution_count": 389,
     "metadata": {},
     "output_type": "execute_result"
    }
   ],
   "source": [
    "df.columns"
   ]
  },
  {
   "cell_type": "code",
   "execution_count": null,
   "id": "30bc3373",
   "metadata": {},
   "outputs": [],
   "source": []
  },
  {
   "cell_type": "code",
   "execution_count": null,
   "id": "78047756",
   "metadata": {},
   "outputs": [],
   "source": []
  },
  {
   "cell_type": "code",
   "execution_count": 390,
   "id": "2c7701fb",
   "metadata": {},
   "outputs": [
    {
     "data": {
      "text/html": [
       "<div>\n",
       "<style scoped>\n",
       "    .dataframe tbody tr th:only-of-type {\n",
       "        vertical-align: middle;\n",
       "    }\n",
       "\n",
       "    .dataframe tbody tr th {\n",
       "        vertical-align: top;\n",
       "    }\n",
       "\n",
       "    .dataframe thead th {\n",
       "        text-align: right;\n",
       "    }\n",
       "</style>\n",
       "<table border=\"1\" class=\"dataframe\">\n",
       "  <thead>\n",
       "    <tr style=\"text-align: right;\">\n",
       "      <th></th>\n",
       "      <th>id</th>\n",
       "      <th>member_id</th>\n",
       "      <th>loan_amnt</th>\n",
       "      <th>funded_amnt</th>\n",
       "      <th>funded_amnt_inv</th>\n",
       "      <th>installment</th>\n",
       "      <th>annual_inc</th>\n",
       "      <th>dti</th>\n",
       "      <th>delinq_2yrs</th>\n",
       "      <th>inq_last_6mths</th>\n",
       "      <th>...</th>\n",
       "      <th>num_tl_90g_dpd_24m</th>\n",
       "      <th>num_tl_op_past_12m</th>\n",
       "      <th>pct_tl_nvr_dlq</th>\n",
       "      <th>percent_bc_gt_75</th>\n",
       "      <th>pub_rec_bankruptcies</th>\n",
       "      <th>tax_liens</th>\n",
       "      <th>tot_hi_cred_lim</th>\n",
       "      <th>total_bal_ex_mort</th>\n",
       "      <th>total_bc_limit</th>\n",
       "      <th>total_il_high_credit_limit</th>\n",
       "    </tr>\n",
       "  </thead>\n",
       "  <tbody>\n",
       "    <tr>\n",
       "      <th>count</th>\n",
       "      <td>3.971700e+04</td>\n",
       "      <td>3.971700e+04</td>\n",
       "      <td>39717.000000</td>\n",
       "      <td>39717.000000</td>\n",
       "      <td>39717.000000</td>\n",
       "      <td>39717.000000</td>\n",
       "      <td>3.971700e+04</td>\n",
       "      <td>39717.000000</td>\n",
       "      <td>39717.000000</td>\n",
       "      <td>39717.000000</td>\n",
       "      <td>...</td>\n",
       "      <td>0.0</td>\n",
       "      <td>0.0</td>\n",
       "      <td>0.0</td>\n",
       "      <td>0.0</td>\n",
       "      <td>39020.000000</td>\n",
       "      <td>39678.0</td>\n",
       "      <td>0.0</td>\n",
       "      <td>0.0</td>\n",
       "      <td>0.0</td>\n",
       "      <td>0.0</td>\n",
       "    </tr>\n",
       "    <tr>\n",
       "      <th>mean</th>\n",
       "      <td>6.831319e+05</td>\n",
       "      <td>8.504636e+05</td>\n",
       "      <td>11219.443815</td>\n",
       "      <td>10947.713196</td>\n",
       "      <td>10397.448868</td>\n",
       "      <td>324.561922</td>\n",
       "      <td>6.896893e+04</td>\n",
       "      <td>13.315130</td>\n",
       "      <td>0.146512</td>\n",
       "      <td>0.869200</td>\n",
       "      <td>...</td>\n",
       "      <td>NaN</td>\n",
       "      <td>NaN</td>\n",
       "      <td>NaN</td>\n",
       "      <td>NaN</td>\n",
       "      <td>0.043260</td>\n",
       "      <td>0.0</td>\n",
       "      <td>NaN</td>\n",
       "      <td>NaN</td>\n",
       "      <td>NaN</td>\n",
       "      <td>NaN</td>\n",
       "    </tr>\n",
       "    <tr>\n",
       "      <th>std</th>\n",
       "      <td>2.106941e+05</td>\n",
       "      <td>2.656783e+05</td>\n",
       "      <td>7456.670694</td>\n",
       "      <td>7187.238670</td>\n",
       "      <td>7128.450439</td>\n",
       "      <td>208.874874</td>\n",
       "      <td>6.379377e+04</td>\n",
       "      <td>6.678594</td>\n",
       "      <td>0.491812</td>\n",
       "      <td>1.070219</td>\n",
       "      <td>...</td>\n",
       "      <td>NaN</td>\n",
       "      <td>NaN</td>\n",
       "      <td>NaN</td>\n",
       "      <td>NaN</td>\n",
       "      <td>0.204324</td>\n",
       "      <td>0.0</td>\n",
       "      <td>NaN</td>\n",
       "      <td>NaN</td>\n",
       "      <td>NaN</td>\n",
       "      <td>NaN</td>\n",
       "    </tr>\n",
       "    <tr>\n",
       "      <th>min</th>\n",
       "      <td>5.473400e+04</td>\n",
       "      <td>7.069900e+04</td>\n",
       "      <td>500.000000</td>\n",
       "      <td>500.000000</td>\n",
       "      <td>0.000000</td>\n",
       "      <td>15.690000</td>\n",
       "      <td>4.000000e+03</td>\n",
       "      <td>0.000000</td>\n",
       "      <td>0.000000</td>\n",
       "      <td>0.000000</td>\n",
       "      <td>...</td>\n",
       "      <td>NaN</td>\n",
       "      <td>NaN</td>\n",
       "      <td>NaN</td>\n",
       "      <td>NaN</td>\n",
       "      <td>0.000000</td>\n",
       "      <td>0.0</td>\n",
       "      <td>NaN</td>\n",
       "      <td>NaN</td>\n",
       "      <td>NaN</td>\n",
       "      <td>NaN</td>\n",
       "    </tr>\n",
       "    <tr>\n",
       "      <th>25%</th>\n",
       "      <td>5.162210e+05</td>\n",
       "      <td>6.667800e+05</td>\n",
       "      <td>5500.000000</td>\n",
       "      <td>5400.000000</td>\n",
       "      <td>5000.000000</td>\n",
       "      <td>167.020000</td>\n",
       "      <td>4.040400e+04</td>\n",
       "      <td>8.170000</td>\n",
       "      <td>0.000000</td>\n",
       "      <td>0.000000</td>\n",
       "      <td>...</td>\n",
       "      <td>NaN</td>\n",
       "      <td>NaN</td>\n",
       "      <td>NaN</td>\n",
       "      <td>NaN</td>\n",
       "      <td>0.000000</td>\n",
       "      <td>0.0</td>\n",
       "      <td>NaN</td>\n",
       "      <td>NaN</td>\n",
       "      <td>NaN</td>\n",
       "      <td>NaN</td>\n",
       "    </tr>\n",
       "    <tr>\n",
       "      <th>50%</th>\n",
       "      <td>6.656650e+05</td>\n",
       "      <td>8.508120e+05</td>\n",
       "      <td>10000.000000</td>\n",
       "      <td>9600.000000</td>\n",
       "      <td>8975.000000</td>\n",
       "      <td>280.220000</td>\n",
       "      <td>5.900000e+04</td>\n",
       "      <td>13.400000</td>\n",
       "      <td>0.000000</td>\n",
       "      <td>1.000000</td>\n",
       "      <td>...</td>\n",
       "      <td>NaN</td>\n",
       "      <td>NaN</td>\n",
       "      <td>NaN</td>\n",
       "      <td>NaN</td>\n",
       "      <td>0.000000</td>\n",
       "      <td>0.0</td>\n",
       "      <td>NaN</td>\n",
       "      <td>NaN</td>\n",
       "      <td>NaN</td>\n",
       "      <td>NaN</td>\n",
       "    </tr>\n",
       "    <tr>\n",
       "      <th>75%</th>\n",
       "      <td>8.377550e+05</td>\n",
       "      <td>1.047339e+06</td>\n",
       "      <td>15000.000000</td>\n",
       "      <td>15000.000000</td>\n",
       "      <td>14400.000000</td>\n",
       "      <td>430.780000</td>\n",
       "      <td>8.230000e+04</td>\n",
       "      <td>18.600000</td>\n",
       "      <td>0.000000</td>\n",
       "      <td>1.000000</td>\n",
       "      <td>...</td>\n",
       "      <td>NaN</td>\n",
       "      <td>NaN</td>\n",
       "      <td>NaN</td>\n",
       "      <td>NaN</td>\n",
       "      <td>0.000000</td>\n",
       "      <td>0.0</td>\n",
       "      <td>NaN</td>\n",
       "      <td>NaN</td>\n",
       "      <td>NaN</td>\n",
       "      <td>NaN</td>\n",
       "    </tr>\n",
       "    <tr>\n",
       "      <th>max</th>\n",
       "      <td>1.077501e+06</td>\n",
       "      <td>1.314167e+06</td>\n",
       "      <td>35000.000000</td>\n",
       "      <td>35000.000000</td>\n",
       "      <td>35000.000000</td>\n",
       "      <td>1305.190000</td>\n",
       "      <td>6.000000e+06</td>\n",
       "      <td>29.990000</td>\n",
       "      <td>11.000000</td>\n",
       "      <td>8.000000</td>\n",
       "      <td>...</td>\n",
       "      <td>NaN</td>\n",
       "      <td>NaN</td>\n",
       "      <td>NaN</td>\n",
       "      <td>NaN</td>\n",
       "      <td>2.000000</td>\n",
       "      <td>0.0</td>\n",
       "      <td>NaN</td>\n",
       "      <td>NaN</td>\n",
       "      <td>NaN</td>\n",
       "      <td>NaN</td>\n",
       "    </tr>\n",
       "  </tbody>\n",
       "</table>\n",
       "<p>8 rows × 87 columns</p>\n",
       "</div>"
      ],
      "text/plain": [
       "                 id     member_id     loan_amnt   funded_amnt  \\\n",
       "count  3.971700e+04  3.971700e+04  39717.000000  39717.000000   \n",
       "mean   6.831319e+05  8.504636e+05  11219.443815  10947.713196   \n",
       "std    2.106941e+05  2.656783e+05   7456.670694   7187.238670   \n",
       "min    5.473400e+04  7.069900e+04    500.000000    500.000000   \n",
       "25%    5.162210e+05  6.667800e+05   5500.000000   5400.000000   \n",
       "50%    6.656650e+05  8.508120e+05  10000.000000   9600.000000   \n",
       "75%    8.377550e+05  1.047339e+06  15000.000000  15000.000000   \n",
       "max    1.077501e+06  1.314167e+06  35000.000000  35000.000000   \n",
       "\n",
       "       funded_amnt_inv   installment    annual_inc           dti  \\\n",
       "count     39717.000000  39717.000000  3.971700e+04  39717.000000   \n",
       "mean      10397.448868    324.561922  6.896893e+04     13.315130   \n",
       "std        7128.450439    208.874874  6.379377e+04      6.678594   \n",
       "min           0.000000     15.690000  4.000000e+03      0.000000   \n",
       "25%        5000.000000    167.020000  4.040400e+04      8.170000   \n",
       "50%        8975.000000    280.220000  5.900000e+04     13.400000   \n",
       "75%       14400.000000    430.780000  8.230000e+04     18.600000   \n",
       "max       35000.000000   1305.190000  6.000000e+06     29.990000   \n",
       "\n",
       "        delinq_2yrs  inq_last_6mths  ...  num_tl_90g_dpd_24m  \\\n",
       "count  39717.000000    39717.000000  ...                 0.0   \n",
       "mean       0.146512        0.869200  ...                 NaN   \n",
       "std        0.491812        1.070219  ...                 NaN   \n",
       "min        0.000000        0.000000  ...                 NaN   \n",
       "25%        0.000000        0.000000  ...                 NaN   \n",
       "50%        0.000000        1.000000  ...                 NaN   \n",
       "75%        0.000000        1.000000  ...                 NaN   \n",
       "max       11.000000        8.000000  ...                 NaN   \n",
       "\n",
       "       num_tl_op_past_12m  pct_tl_nvr_dlq  percent_bc_gt_75  \\\n",
       "count                 0.0             0.0               0.0   \n",
       "mean                  NaN             NaN               NaN   \n",
       "std                   NaN             NaN               NaN   \n",
       "min                   NaN             NaN               NaN   \n",
       "25%                   NaN             NaN               NaN   \n",
       "50%                   NaN             NaN               NaN   \n",
       "75%                   NaN             NaN               NaN   \n",
       "max                   NaN             NaN               NaN   \n",
       "\n",
       "       pub_rec_bankruptcies  tax_liens  tot_hi_cred_lim  total_bal_ex_mort  \\\n",
       "count          39020.000000    39678.0              0.0                0.0   \n",
       "mean               0.043260        0.0              NaN                NaN   \n",
       "std                0.204324        0.0              NaN                NaN   \n",
       "min                0.000000        0.0              NaN                NaN   \n",
       "25%                0.000000        0.0              NaN                NaN   \n",
       "50%                0.000000        0.0              NaN                NaN   \n",
       "75%                0.000000        0.0              NaN                NaN   \n",
       "max                2.000000        0.0              NaN                NaN   \n",
       "\n",
       "       total_bc_limit  total_il_high_credit_limit  \n",
       "count             0.0                         0.0  \n",
       "mean              NaN                         NaN  \n",
       "std               NaN                         NaN  \n",
       "min               NaN                         NaN  \n",
       "25%               NaN                         NaN  \n",
       "50%               NaN                         NaN  \n",
       "75%               NaN                         NaN  \n",
       "max               NaN                         NaN  \n",
       "\n",
       "[8 rows x 87 columns]"
      ]
     },
     "execution_count": 390,
     "metadata": {},
     "output_type": "execute_result"
    }
   ],
   "source": [
    "df.describe()"
   ]
  },
  {
   "cell_type": "markdown",
   "id": "8b55df20",
   "metadata": {},
   "source": [
    "## Understanding of these 44 columns to proceed ahead\n",
    "- id : unique loan id for each row and sort of primary key\n",
    "- member_id : unique_id for borrower\n",
    "- loan_amnt : final loan (prinipal) amount of that loan\n",
    "- funded_amnt : total ammount including prinicipal + interest + charges\n",
    "- funded_amnt_inv : total amount funded by investor as part of principal\n",
    "- term : tenure of emi payment of loan - 2 possible values - 36 months or 60 months\n",
    "- int_rate : interest rate on which loan is given\n",
    "- installment : monthly emi of the borrower\n",
    "- grade : risk grade for loan - A is least risky, G is highest risky\n",
    "- sub_grade : risk subgrade for loan - A1 is least and G5 is highest\n",
    "- emp_title : job title of the borrower\n",
    "- emp_length : duration of employee working in that emp_title, max is 10+ in possible values.\n",
    "- home_ownership : home ownership status of borrower, possible values are RENT,MORTGAGE, OWN, OTHER\n",
    "- annual_inc : annual income of the borrower\n",
    "- verification_status : annual income is verified or not, possible values are verified, not verified, source verified\n",
    "- issue_d : month in which loan was issued\n",
    "- loan_status : current status of loan, possible values - Fully paid, Current, Charged Off\n",
    "- url : url of lending club site with this loan details\n",
    "- purpose : purpose of the borrower for taking loan, already categorize in 14 category\n",
    "- title : description provided by the borrower for applying loan\n",
    "- zip_code : 3 digits of pincode which will represent area, region, sub-region. these values have xx in end which can be removed.\n",
    "- addr_state : state of address provided by borrower\n",
    "- dti : debt to income ratio of borrower\n",
    "- delinq_2yrs : occurence of 30+ delayed payment by borrower in last 2 years\n",
    "- earliest_cr_line : month in which last loan was taken by borrower \n",
    "- inq_last_6mths : inquery of credit in last 6 months by any authorized lender for that borrower\n",
    "- open_acc : number of active loans taken by borrower\n",
    "- pub_rec : number of nagative records in past for borrower\n",
    "- revol_bal : total outstanding credit balance of the borrower\n",
    "- revol_util : credit utilization ratio - total outstanding credit/ total credit limit\n",
    "- total_acc : total loan accounts of the borrower including closed in history\n",
    "- out_prncp : remaining prinicpal amount of the borrower to be paid back\n",
    "- out_prncp_inv : remaining pricipal amount of borrower to be paid that was funded by investor\n",
    "- total_pymnt : total payment done by borrower till date for entire fund\n",
    "- total_pymnt_inv : total payment done by borrower till date for fund funded by investor\n",
    "- total_rec_prncp : total prinipal amount received as part of payment till date\n",
    "- total_rec_int : total interst amount recevied\n",
    "- total_rec_late_fee : total late fee recevied\n",
    "- recoveries : total recovery from borrower\n",
    "- collection_recovery_fee : collection fee involved in doing recovery by lendor\n",
    "- last_pymnt_d : last month when payment was recevied\n",
    "- last_pymnt_amnt : last total payment amount recevied\n",
    "- last_credit_pull_d : last month on which credit score is checked by lendor\n",
    "- pub_rec_bankruptcies : number of public records available for bankcrupt case for the borrower"
   ]
  },
  {
   "cell_type": "code",
   "execution_count": null,
   "id": "b8441c70",
   "metadata": {},
   "outputs": [],
   "source": []
  },
  {
   "cell_type": "markdown",
   "id": "55a13402",
   "metadata": {},
   "source": [
    "### Data issues identified:\n",
    "#### Missing Values :\n",
    "- There is no row with all null values\n",
    "- There are columns with null values\n",
    "- There are columns which very few non null values and signifiant null values\n",
    "- There are columns which single value across all rows\n",
    "#### Standard Values issues :"
   ]
  },
  {
   "cell_type": "code",
   "execution_count": null,
   "id": "c9a4be9d",
   "metadata": {},
   "outputs": [],
   "source": []
  },
  {
   "cell_type": "markdown",
   "id": "72929b74",
   "metadata": {},
   "source": [
    "Lets check if there are rows with all values null. "
   ]
  },
  {
   "cell_type": "code",
   "execution_count": 391,
   "id": "c22b448c",
   "metadata": {},
   "outputs": [
    {
     "data": {
      "text/html": [
       "<div>\n",
       "<style scoped>\n",
       "    .dataframe tbody tr th:only-of-type {\n",
       "        vertical-align: middle;\n",
       "    }\n",
       "\n",
       "    .dataframe tbody tr th {\n",
       "        vertical-align: top;\n",
       "    }\n",
       "\n",
       "    .dataframe thead th {\n",
       "        text-align: right;\n",
       "    }\n",
       "</style>\n",
       "<table border=\"1\" class=\"dataframe\">\n",
       "  <thead>\n",
       "    <tr style=\"text-align: right;\">\n",
       "      <th></th>\n",
       "      <th>id</th>\n",
       "      <th>member_id</th>\n",
       "      <th>loan_amnt</th>\n",
       "      <th>funded_amnt</th>\n",
       "      <th>funded_amnt_inv</th>\n",
       "      <th>term</th>\n",
       "      <th>int_rate</th>\n",
       "      <th>installment</th>\n",
       "      <th>grade</th>\n",
       "      <th>sub_grade</th>\n",
       "      <th>...</th>\n",
       "      <th>num_tl_90g_dpd_24m</th>\n",
       "      <th>num_tl_op_past_12m</th>\n",
       "      <th>pct_tl_nvr_dlq</th>\n",
       "      <th>percent_bc_gt_75</th>\n",
       "      <th>pub_rec_bankruptcies</th>\n",
       "      <th>tax_liens</th>\n",
       "      <th>tot_hi_cred_lim</th>\n",
       "      <th>total_bal_ex_mort</th>\n",
       "      <th>total_bc_limit</th>\n",
       "      <th>total_il_high_credit_limit</th>\n",
       "    </tr>\n",
       "  </thead>\n",
       "  <tbody>\n",
       "  </tbody>\n",
       "</table>\n",
       "<p>0 rows × 111 columns</p>\n",
       "</div>"
      ],
      "text/plain": [
       "Empty DataFrame\n",
       "Columns: [id, member_id, loan_amnt, funded_amnt, funded_amnt_inv, term, int_rate, installment, grade, sub_grade, emp_title, emp_length, home_ownership, annual_inc, verification_status, issue_d, loan_status, pymnt_plan, url, desc, purpose, title, zip_code, addr_state, dti, delinq_2yrs, earliest_cr_line, inq_last_6mths, mths_since_last_delinq, mths_since_last_record, open_acc, pub_rec, revol_bal, revol_util, total_acc, initial_list_status, out_prncp, out_prncp_inv, total_pymnt, total_pymnt_inv, total_rec_prncp, total_rec_int, total_rec_late_fee, recoveries, collection_recovery_fee, last_pymnt_d, last_pymnt_amnt, next_pymnt_d, last_credit_pull_d, collections_12_mths_ex_med, mths_since_last_major_derog, policy_code, application_type, annual_inc_joint, dti_joint, verification_status_joint, acc_now_delinq, tot_coll_amt, tot_cur_bal, open_acc_6m, open_il_6m, open_il_12m, open_il_24m, mths_since_rcnt_il, total_bal_il, il_util, open_rv_12m, open_rv_24m, max_bal_bc, all_util, total_rev_hi_lim, inq_fi, total_cu_tl, inq_last_12m, acc_open_past_24mths, avg_cur_bal, bc_open_to_buy, bc_util, chargeoff_within_12_mths, delinq_amnt, mo_sin_old_il_acct, mo_sin_old_rev_tl_op, mo_sin_rcnt_rev_tl_op, mo_sin_rcnt_tl, mort_acc, mths_since_recent_bc, mths_since_recent_bc_dlq, mths_since_recent_inq, mths_since_recent_revol_delinq, num_accts_ever_120_pd, num_actv_bc_tl, num_actv_rev_tl, num_bc_sats, num_bc_tl, num_il_tl, num_op_rev_tl, num_rev_accts, num_rev_tl_bal_gt_0, num_sats, num_tl_120dpd_2m, ...]\n",
       "Index: []\n",
       "\n",
       "[0 rows x 111 columns]"
      ]
     },
     "execution_count": 391,
     "metadata": {},
     "output_type": "execute_result"
    }
   ],
   "source": [
    "completely_null_rows = df[df.isnull().all(axis=1)]\n",
    "completely_null_rows"
   ]
  },
  {
   "cell_type": "markdown",
   "id": "5742095d",
   "metadata": {},
   "source": [
    "Now check columns with all values null and drop them from data set as it wont impact data analysis"
   ]
  },
  {
   "cell_type": "code",
   "execution_count": 392,
   "id": "d834464e",
   "metadata": {},
   "outputs": [
    {
     "name": "stdout",
     "output_type": "stream",
     "text": [
      "Index(['mths_since_last_major_derog', 'annual_inc_joint', 'dti_joint',\n",
      "       'verification_status_joint', 'tot_coll_amt', 'tot_cur_bal',\n",
      "       'open_acc_6m', 'open_il_6m', 'open_il_12m', 'open_il_24m',\n",
      "       'mths_since_rcnt_il', 'total_bal_il', 'il_util', 'open_rv_12m',\n",
      "       'open_rv_24m', 'max_bal_bc', 'all_util', 'total_rev_hi_lim', 'inq_fi',\n",
      "       'total_cu_tl', 'inq_last_12m', 'acc_open_past_24mths', 'avg_cur_bal',\n",
      "       'bc_open_to_buy', 'bc_util', 'mo_sin_old_il_acct',\n",
      "       'mo_sin_old_rev_tl_op', 'mo_sin_rcnt_rev_tl_op', 'mo_sin_rcnt_tl',\n",
      "       'mort_acc', 'mths_since_recent_bc', 'mths_since_recent_bc_dlq',\n",
      "       'mths_since_recent_inq', 'mths_since_recent_revol_delinq',\n",
      "       'num_accts_ever_120_pd', 'num_actv_bc_tl', 'num_actv_rev_tl',\n",
      "       'num_bc_sats', 'num_bc_tl', 'num_il_tl', 'num_op_rev_tl',\n",
      "       'num_rev_accts', 'num_rev_tl_bal_gt_0', 'num_sats', 'num_tl_120dpd_2m',\n",
      "       'num_tl_30dpd', 'num_tl_90g_dpd_24m', 'num_tl_op_past_12m',\n",
      "       'pct_tl_nvr_dlq', 'percent_bc_gt_75', 'tot_hi_cred_lim',\n",
      "       'total_bal_ex_mort', 'total_bc_limit', 'total_il_high_credit_limit'],\n",
      "      dtype='object')\n"
     ]
    }
   ],
   "source": [
    "columns_with_null = df.columns[df.isnull().all()]\n",
    "print(columns_with_null)"
   ]
  },
  {
   "cell_type": "code",
   "execution_count": 393,
   "id": "5dea8a42",
   "metadata": {},
   "outputs": [],
   "source": [
    "df.dropna(axis=1, how='all', inplace=True)\n"
   ]
  },
  {
   "cell_type": "markdown",
   "id": "1578a192",
   "metadata": {},
   "source": [
    "Check the shape of data set again"
   ]
  },
  {
   "cell_type": "code",
   "execution_count": 394,
   "id": "934cf043",
   "metadata": {},
   "outputs": [
    {
     "data": {
      "text/plain": [
       "(39717, 57)"
      ]
     },
     "execution_count": 394,
     "metadata": {},
     "output_type": "execute_result"
    }
   ],
   "source": [
    "df.shape"
   ]
  },
  {
   "cell_type": "code",
   "execution_count": 395,
   "id": "7b58f5d5",
   "metadata": {},
   "outputs": [
    {
     "data": {
      "text/plain": [
       "Index(['id', 'member_id', 'loan_amnt', 'funded_amnt', 'funded_amnt_inv',\n",
       "       'term', 'int_rate', 'installment', 'grade', 'sub_grade', 'emp_title',\n",
       "       'emp_length', 'home_ownership', 'annual_inc', 'verification_status',\n",
       "       'issue_d', 'loan_status', 'pymnt_plan', 'url', 'desc', 'purpose',\n",
       "       'title', 'zip_code', 'addr_state', 'dti', 'delinq_2yrs',\n",
       "       'earliest_cr_line', 'inq_last_6mths', 'mths_since_last_delinq',\n",
       "       'mths_since_last_record', 'open_acc', 'pub_rec', 'revol_bal',\n",
       "       'revol_util', 'total_acc', 'initial_list_status', 'out_prncp',\n",
       "       'out_prncp_inv', 'total_pymnt', 'total_pymnt_inv', 'total_rec_prncp',\n",
       "       'total_rec_int', 'total_rec_late_fee', 'recoveries',\n",
       "       'collection_recovery_fee', 'last_pymnt_d', 'last_pymnt_amnt',\n",
       "       'next_pymnt_d', 'last_credit_pull_d', 'collections_12_mths_ex_med',\n",
       "       'policy_code', 'application_type', 'acc_now_delinq',\n",
       "       'chargeoff_within_12_mths', 'delinq_amnt', 'pub_rec_bankruptcies',\n",
       "       'tax_liens'],\n",
       "      dtype='object')"
      ]
     },
     "execution_count": 395,
     "metadata": {},
     "output_type": "execute_result"
    }
   ],
   "source": [
    "df.columns"
   ]
  },
  {
   "cell_type": "code",
   "execution_count": 396,
   "id": "c4996681",
   "metadata": {},
   "outputs": [
    {
     "name": "stdout",
     "output_type": "stream",
     "text": [
      "Index(['emp_title', 'emp_length', 'desc', 'title', 'mths_since_last_delinq',\n",
      "       'mths_since_last_record', 'revol_util', 'last_pymnt_d', 'next_pymnt_d',\n",
      "       'last_credit_pull_d', 'collections_12_mths_ex_med',\n",
      "       'chargeoff_within_12_mths', 'pub_rec_bankruptcies', 'tax_liens'],\n",
      "      dtype='object')\n"
     ]
    }
   ],
   "source": [
    "columns_with_null = df.columns[df.isnull().any()]\n",
    "print(columns_with_null)"
   ]
  },
  {
   "cell_type": "code",
   "execution_count": 397,
   "id": "09142ff7",
   "metadata": {},
   "outputs": [
    {
     "data": {
      "text/plain": [
       "emp_title                      2459\n",
       "emp_length                     1075\n",
       "desc                          12940\n",
       "title                            11\n",
       "mths_since_last_delinq        25682\n",
       "mths_since_last_record        36931\n",
       "revol_util                       50\n",
       "last_pymnt_d                     71\n",
       "next_pymnt_d                  38577\n",
       "last_credit_pull_d                2\n",
       "collections_12_mths_ex_med       56\n",
       "chargeoff_within_12_mths         56\n",
       "pub_rec_bankruptcies            697\n",
       "tax_liens                        39\n",
       "dtype: int64"
      ]
     },
     "execution_count": 397,
     "metadata": {},
     "output_type": "execute_result"
    }
   ],
   "source": [
    "columns_with_null = df.isnull().sum()\n",
    "columns_with_null[columns_with_null > 0]"
   ]
  },
  {
   "cell_type": "markdown",
   "id": "dcc175c5",
   "metadata": {},
   "source": [
    "Lets drop columns where null values are quite high in number"
   ]
  },
  {
   "cell_type": "code",
   "execution_count": 398,
   "id": "c6461b6e",
   "metadata": {},
   "outputs": [],
   "source": [
    "df.dropna(axis = 1, thresh = 30000, inplace=True)"
   ]
  },
  {
   "cell_type": "code",
   "execution_count": 399,
   "id": "50345004",
   "metadata": {},
   "outputs": [
    {
     "data": {
      "text/plain": [
       "emp_title                     2459\n",
       "emp_length                    1075\n",
       "title                           11\n",
       "revol_util                      50\n",
       "last_pymnt_d                    71\n",
       "last_credit_pull_d               2\n",
       "collections_12_mths_ex_med      56\n",
       "chargeoff_within_12_mths        56\n",
       "pub_rec_bankruptcies           697\n",
       "tax_liens                       39\n",
       "dtype: int64"
      ]
     },
     "execution_count": 399,
     "metadata": {},
     "output_type": "execute_result"
    }
   ],
   "source": [
    "columns_with_null = df.isnull().sum()\n",
    "columns_with_null[columns_with_null > 0]"
   ]
  },
  {
   "cell_type": "code",
   "execution_count": 400,
   "id": "e05b2f4f",
   "metadata": {},
   "outputs": [
    {
     "data": {
      "text/plain": [
       "(39717, 53)"
      ]
     },
     "execution_count": 400,
     "metadata": {},
     "output_type": "execute_result"
    }
   ],
   "source": [
    "df.shape"
   ]
  },
  {
   "cell_type": "code",
   "execution_count": null,
   "id": "aa909a25",
   "metadata": {},
   "outputs": [],
   "source": []
  },
  {
   "cell_type": "code",
   "execution_count": 401,
   "id": "40441195",
   "metadata": {},
   "outputs": [
    {
     "data": {
      "text/plain": [
       "emp_title                     2459\n",
       "emp_length                    1075\n",
       "title                           11\n",
       "revol_util                      50\n",
       "last_pymnt_d                    71\n",
       "last_credit_pull_d               2\n",
       "collections_12_mths_ex_med      56\n",
       "chargeoff_within_12_mths        56\n",
       "pub_rec_bankruptcies           697\n",
       "tax_liens                       39\n",
       "dtype: int64"
      ]
     },
     "execution_count": 401,
     "metadata": {},
     "output_type": "execute_result"
    }
   ],
   "source": [
    "columns_with_null = df.isnull().sum()\n",
    "columns_with_null[columns_with_null > 0]"
   ]
  },
  {
   "cell_type": "markdown",
   "id": "cb298677",
   "metadata": {},
   "source": [
    "Lets check rows which signifant null values and drop"
   ]
  },
  {
   "cell_type": "code",
   "execution_count": 402,
   "id": "56d103f0",
   "metadata": {},
   "outputs": [
    {
     "data": {
      "text/plain": [
       "39659    5\n",
       "39660    5\n",
       "39700    5\n",
       "39704    5\n",
       "39706    5\n",
       "39714    5\n",
       "39715    5\n",
       "dtype: int64"
      ]
     },
     "execution_count": 402,
     "metadata": {},
     "output_type": "execute_result"
    }
   ],
   "source": [
    "null_counts_rowwise = df.isnull().sum(axis=1)\n",
    "null_counts_rowwise[null_counts_rowwise > 4]"
   ]
  },
  {
   "cell_type": "code",
   "execution_count": null,
   "id": "113ea854",
   "metadata": {},
   "outputs": [],
   "source": []
  },
  {
   "cell_type": "code",
   "execution_count": 403,
   "id": "b4aabe6b",
   "metadata": {},
   "outputs": [
    {
     "name": "stdout",
     "output_type": "stream",
     "text": [
      "Columns with values: ['title']\n"
     ]
    }
   ],
   "source": [
    "# List of values to check\n",
    "values_to_check = [\"NA\", \"XX\", \"999\", \"N/A\", \"n/a\", \"NaN\", \"NULL\", \"null\", \"\", \"None\", \"Missing\", \"Unknown\"]\n",
    "\n",
    "# Check if values are present in any column\n",
    "values_present_in_columns = df.isin(values_to_check).any()\n",
    "\n",
    "# Display columns where values are present\n",
    "columns_with_values = values_present_in_columns[values_present_in_columns].index.tolist()\n",
    "print(\"Columns with values:\", columns_with_values)"
   ]
  },
  {
   "cell_type": "code",
   "execution_count": 404,
   "id": "e3ecbf2d",
   "metadata": {},
   "outputs": [
    {
     "data": {
      "text/plain": [
       "(1, 53)"
      ]
     },
     "execution_count": 404,
     "metadata": {},
     "output_type": "execute_result"
    }
   ],
   "source": [
    "df[df.title == 'Unknown'].shape"
   ]
  },
  {
   "cell_type": "code",
   "execution_count": 405,
   "id": "a0868806",
   "metadata": {},
   "outputs": [
    {
     "data": {
      "text/plain": [
       "Index(['id', 'member_id', 'loan_amnt', 'funded_amnt', 'funded_amnt_inv',\n",
       "       'term', 'int_rate', 'installment', 'grade', 'sub_grade', 'emp_title',\n",
       "       'emp_length', 'home_ownership', 'annual_inc', 'verification_status',\n",
       "       'issue_d', 'loan_status', 'pymnt_plan', 'url', 'purpose', 'title',\n",
       "       'zip_code', 'addr_state', 'dti', 'delinq_2yrs', 'earliest_cr_line',\n",
       "       'inq_last_6mths', 'open_acc', 'pub_rec', 'revol_bal', 'revol_util',\n",
       "       'total_acc', 'initial_list_status', 'out_prncp', 'out_prncp_inv',\n",
       "       'total_pymnt', 'total_pymnt_inv', 'total_rec_prncp', 'total_rec_int',\n",
       "       'total_rec_late_fee', 'recoveries', 'collection_recovery_fee',\n",
       "       'last_pymnt_d', 'last_pymnt_amnt', 'last_credit_pull_d',\n",
       "       'collections_12_mths_ex_med', 'policy_code', 'application_type',\n",
       "       'acc_now_delinq', 'chargeoff_within_12_mths', 'delinq_amnt',\n",
       "       'pub_rec_bankruptcies', 'tax_liens'],\n",
       "      dtype='object')"
      ]
     },
     "execution_count": 405,
     "metadata": {},
     "output_type": "execute_result"
    }
   ],
   "source": [
    "df.columns"
   ]
  },
  {
   "cell_type": "code",
   "execution_count": 406,
   "id": "9109fb88",
   "metadata": {},
   "outputs": [
    {
     "data": {
      "text/plain": [
       "0     0\n",
       "1     0\n",
       "2     0\n",
       "3     0\n",
       "4     0\n",
       "5     0\n",
       "6     0\n",
       "7     0\n",
       "8     0\n",
       "9     0\n",
       "10    0\n",
       "11    0\n",
       "12    0\n",
       "13    0\n",
       "14    0\n",
       "15    0\n",
       "16    0\n",
       "17    0\n",
       "18    0\n",
       "19    0\n",
       "20    0\n",
       "21    0\n",
       "22    0\n",
       "23    0\n",
       "24    0\n",
       "Name: delinq_amnt, dtype: int64"
      ]
     },
     "execution_count": 406,
     "metadata": {},
     "output_type": "execute_result"
    }
   ],
   "source": [
    "df['delinq_amnt'].head(25)"
   ]
  },
  {
   "cell_type": "code",
   "execution_count": 407,
   "id": "94e3117e",
   "metadata": {},
   "outputs": [],
   "source": [
    "# Assuming df is your DataFrame\n",
    "columns_to_drop = ['collections_12_mths_ex_med', 'policy_code', 'application_type', 'acc_now_delinq', 'chargeoff_within_12_mths', 'delinq_amnt']\n",
    "\n",
    "# Use the drop method to remove the specified columns\n",
    "df.drop(columns=columns_to_drop, inplace=True)"
   ]
  },
  {
   "cell_type": "code",
   "execution_count": 408,
   "id": "07d2991b",
   "metadata": {},
   "outputs": [
    {
     "data": {
      "text/plain": [
       "(39717, 47)"
      ]
     },
     "execution_count": 408,
     "metadata": {},
     "output_type": "execute_result"
    }
   ],
   "source": [
    "df.shape"
   ]
  },
  {
   "cell_type": "code",
   "execution_count": 409,
   "id": "79b74fbc",
   "metadata": {},
   "outputs": [
    {
     "data": {
      "text/plain": [
       "emp_title               2459\n",
       "emp_length              1075\n",
       "title                     11\n",
       "revol_util                50\n",
       "last_pymnt_d              71\n",
       "last_credit_pull_d         2\n",
       "pub_rec_bankruptcies     697\n",
       "tax_liens                 39\n",
       "dtype: int64"
      ]
     },
     "execution_count": 409,
     "metadata": {},
     "output_type": "execute_result"
    }
   ],
   "source": [
    "columns_with_null = df.isnull().sum()\n",
    "columns_with_null[columns_with_null > 0]"
   ]
  },
  {
   "cell_type": "code",
   "execution_count": 410,
   "id": "b95c5fde",
   "metadata": {},
   "outputs": [
    {
     "data": {
      "text/plain": [
       "count       37258\n",
       "unique      28820\n",
       "top       US Army\n",
       "freq          134\n",
       "Name: emp_title, dtype: object"
      ]
     },
     "execution_count": 410,
     "metadata": {},
     "output_type": "execute_result"
    }
   ],
   "source": [
    "df['emp_title'].describe()"
   ]
  },
  {
   "cell_type": "code",
   "execution_count": 411,
   "id": "272cd1f8",
   "metadata": {},
   "outputs": [
    {
     "data": {
      "text/plain": [
       " 36 months    29096\n",
       " 60 months    10621\n",
       "Name: term, dtype: int64"
      ]
     },
     "execution_count": 411,
     "metadata": {},
     "output_type": "execute_result"
    }
   ],
   "source": [
    "df.term.value_counts()"
   ]
  },
  {
   "cell_type": "code",
   "execution_count": 412,
   "id": "01d52a2b",
   "metadata": {},
   "outputs": [],
   "source": [
    "# Assuming df is your DataFrame\n",
    "columns_to_drop = ['pymnt_plan', 'initial_list_status', 'tax_liens']\n",
    "\n",
    "# Use the drop method to remove the specified columns\n",
    "df.drop(columns=columns_to_drop, inplace=True)"
   ]
  },
  {
   "cell_type": "code",
   "execution_count": 413,
   "id": "82414d41",
   "metadata": {},
   "outputs": [
    {
     "data": {
      "text/plain": [
       "(39717, 44)"
      ]
     },
     "execution_count": 413,
     "metadata": {},
     "output_type": "execute_result"
    }
   ],
   "source": [
    "df.shape"
   ]
  },
  {
   "cell_type": "code",
   "execution_count": 414,
   "id": "c1422ee5",
   "metadata": {},
   "outputs": [
    {
     "data": {
      "text/plain": [
       "emp_title               2459\n",
       "emp_length              1075\n",
       "title                     11\n",
       "revol_util                50\n",
       "last_pymnt_d              71\n",
       "last_credit_pull_d         2\n",
       "pub_rec_bankruptcies     697\n",
       "dtype: int64"
      ]
     },
     "execution_count": 414,
     "metadata": {},
     "output_type": "execute_result"
    }
   ],
   "source": [
    "columns_with_null = df.isnull().sum()\n",
    "columns_with_null[columns_with_null > 0]"
   ]
  },
  {
   "cell_type": "code",
   "execution_count": 415,
   "id": "5a8c0ae4",
   "metadata": {},
   "outputs": [],
   "source": [
    "#df.dropna(subset=['title','revol_util','last_pymnt_d','last_credit_pull_d','pub_rec_bankruptcies'], inplace=True)\n",
    "#df.dropna(subset=['emp_length'], inplace=True)\n"
   ]
  },
  {
   "cell_type": "code",
   "execution_count": 416,
   "id": "40a694e8",
   "metadata": {},
   "outputs": [
    {
     "data": {
      "text/plain": [
       "emp_title               2459\n",
       "emp_length              1075\n",
       "title                     11\n",
       "revol_util                50\n",
       "last_pymnt_d              71\n",
       "last_credit_pull_d         2\n",
       "pub_rec_bankruptcies     697\n",
       "dtype: int64"
      ]
     },
     "execution_count": 416,
     "metadata": {},
     "output_type": "execute_result"
    }
   ],
   "source": [
    "columns_with_null = df.isnull().sum()\n",
    "columns_with_null[columns_with_null > 0]"
   ]
  },
  {
   "cell_type": "code",
   "execution_count": 417,
   "id": "aeba7035",
   "metadata": {},
   "outputs": [],
   "source": []
  },
  {
   "cell_type": "code",
   "execution_count": 418,
   "id": "7b3f80b3",
   "metadata": {},
   "outputs": [
    {
     "data": {
      "text/plain": [
       "emp_title               2459\n",
       "emp_length              1075\n",
       "title                     11\n",
       "revol_util                50\n",
       "last_pymnt_d              71\n",
       "last_credit_pull_d         2\n",
       "pub_rec_bankruptcies     697\n",
       "dtype: int64"
      ]
     },
     "execution_count": 418,
     "metadata": {},
     "output_type": "execute_result"
    }
   ],
   "source": [
    "columns_with_null = df.isnull().sum()\n",
    "columns_with_null[columns_with_null > 0]"
   ]
  },
  {
   "cell_type": "code",
   "execution_count": 419,
   "id": "b0776727",
   "metadata": {},
   "outputs": [],
   "source": [
    "df['emp_title'].fillna('Unknown', inplace=True)\n"
   ]
  },
  {
   "cell_type": "code",
   "execution_count": 420,
   "id": "60011649",
   "metadata": {},
   "outputs": [
    {
     "data": {
      "text/plain": [
       "(39717, 44)"
      ]
     },
     "execution_count": 420,
     "metadata": {},
     "output_type": "execute_result"
    }
   ],
   "source": [
    "df.shape"
   ]
  },
  {
   "cell_type": "code",
   "execution_count": 421,
   "id": "e51dbf62",
   "metadata": {},
   "outputs": [
    {
     "data": {
      "text/plain": [
       "Index(['id', 'member_id', 'loan_amnt', 'funded_amnt', 'funded_amnt_inv',\n",
       "       'term', 'int_rate', 'installment', 'grade', 'sub_grade', 'emp_title',\n",
       "       'emp_length', 'home_ownership', 'annual_inc', 'verification_status',\n",
       "       'issue_d', 'loan_status', 'url', 'purpose', 'title', 'zip_code',\n",
       "       'addr_state', 'dti', 'delinq_2yrs', 'earliest_cr_line',\n",
       "       'inq_last_6mths', 'open_acc', 'pub_rec', 'revol_bal', 'revol_util',\n",
       "       'total_acc', 'out_prncp', 'out_prncp_inv', 'total_pymnt',\n",
       "       'total_pymnt_inv', 'total_rec_prncp', 'total_rec_int',\n",
       "       'total_rec_late_fee', 'recoveries', 'collection_recovery_fee',\n",
       "       'last_pymnt_d', 'last_pymnt_amnt', 'last_credit_pull_d',\n",
       "       'pub_rec_bankruptcies'],\n",
       "      dtype='object')"
      ]
     },
     "execution_count": 421,
     "metadata": {},
     "output_type": "execute_result"
    }
   ],
   "source": [
    "df.columns"
   ]
  },
  {
   "cell_type": "markdown",
   "id": "c260d19d",
   "metadata": {},
   "source": [
    "# Understanding of these 44 columns to proceed ahead\n",
    "- id : unique loan id for each row and sort of primary key\n",
    "- member_id : unique_id for borrower\n",
    "\n",
    "- loan_amt : final loan (prinipal) amount of that loan\n",
    "- funded_amnt : total ammount including prinicipal + interest + charges\n",
    "- term : tenure of emi payment of loan - 2 possible values - 36 months or 60 months\n",
    "- int_rate : interest rate on which loan is given\n",
    "- installment : monthly emi of the borrower\n",
    "- grade : risk grade for loan - A is least risky, G is highest risky\n",
    "- sub_grade : risk subgrade for loan - A1 is least and G5 is highest\n",
    "- emp_title : job title of the borrower\n",
    "- emp_length : duration of employee working in that emp_title, max is 10+ in possible values.\n",
    "- home_ownership : home ownership status of borrower, possible values are RENT,MORTGAGE, OWN, OTHER\n",
    "- annual_inc : annual income of the borrower\n",
    "- verification_status : annual income is verified or not, possible values are verified, not verified, source verified\n",
    "- issue_d : month in which loan was issued\n",
    "- loan_status : current status of loan, possible values - Fully paid, Current, Charged Off\n",
    "- purpose : purpose of the borrower for taking loan, already categorize in 12 category\n",
    "- title : description provided by the borrower for applying loan\n",
    "- zip_code : 3 digits of pincode which will represent area, region, sub-region. these values have xx in end which can be removed.\n",
    "- addr_state : state of address provided by borrower\n",
    "- dti : debt to income ratio of borrower\n",
    "- delinq_2yrs : occurence of 30+ delayed payment by borrower in last 2 years\n",
    "- earliest_cr_line : month in which last loan was taken by borrower \n",
    "- inq_last_6mths : inquery of credit in last 6 months by any authorized lender for that borrower\n",
    "- open_acc : number of active loans taken by borrower\n",
    "- pub_rec : number of nagative records in past for borrower\n",
    "- revol_bal : total outstanding credit balance of the borrower\n",
    "- revol_util : credit utilization ratio - total outstanding credit/ total credit limit\n",
    "- total_acc : total loan accounts of the borrower including closed in history\n",
    "- out_prncp : remaining prinicpal amount of the borrower to be paid back\n",
    "- total_pymnt : total payment done by borrower till date for entire fund\n",
    "- total_rec_prncp : total prinipal amount received as part of payment till date\n",
    "- total_rec_int : total interst amount recevied\n",
    "- total_rec_late_fee : total late fee recevied\n",
    "- recoveries : total recovery from borrower\n",
    "- collection_recovery_fee : collection fee involved in doing recovery by lendor\n",
    "- last_pymnt_d : last month when payment was recevied\n",
    "- last_pymnt_amnt : last total payment amount recevied\n",
    "- last_credit_pull_d : last month on which credit score is checked by lendor\n",
    "- pub_rec_bankruptcies : number of public records available for bankcrupt case for the borrower"
   ]
  },
  {
   "cell_type": "markdown",
   "id": "63f542c7",
   "metadata": {},
   "source": [
    "Lets see on standarize the values, we first look into numeric columns and then in text columns"
   ]
  },
  {
   "cell_type": "markdown",
   "id": "2a1998c5",
   "metadata": {},
   "source": [
    "df.shape"
   ]
  },
  {
   "cell_type": "code",
   "execution_count": 422,
   "id": "71dcfb7a",
   "metadata": {},
   "outputs": [
    {
     "data": {
      "text/plain": [
       "(39717, 44)"
      ]
     },
     "execution_count": 422,
     "metadata": {},
     "output_type": "execute_result"
    }
   ],
   "source": [
    "df.shape"
   ]
  },
  {
   "cell_type": "code",
   "execution_count": 423,
   "id": "d5e9a57d",
   "metadata": {},
   "outputs": [
    {
     "data": {
      "text/plain": [
       "Index(['id', 'member_id', 'loan_amnt', 'funded_amnt', 'funded_amnt_inv',\n",
       "       'term', 'int_rate', 'installment', 'grade', 'sub_grade', 'emp_title',\n",
       "       'emp_length', 'home_ownership', 'annual_inc', 'verification_status',\n",
       "       'issue_d', 'loan_status', 'url', 'purpose', 'title', 'zip_code',\n",
       "       'addr_state', 'dti', 'delinq_2yrs', 'earliest_cr_line',\n",
       "       'inq_last_6mths', 'open_acc', 'pub_rec', 'revol_bal', 'revol_util',\n",
       "       'total_acc', 'out_prncp', 'out_prncp_inv', 'total_pymnt',\n",
       "       'total_pymnt_inv', 'total_rec_prncp', 'total_rec_int',\n",
       "       'total_rec_late_fee', 'recoveries', 'collection_recovery_fee',\n",
       "       'last_pymnt_d', 'last_pymnt_amnt', 'last_credit_pull_d',\n",
       "       'pub_rec_bankruptcies'],\n",
       "      dtype='object')"
      ]
     },
     "execution_count": 423,
     "metadata": {},
     "output_type": "execute_result"
    }
   ],
   "source": [
    "df.columns"
   ]
  },
  {
   "cell_type": "code",
   "execution_count": 424,
   "id": "475f4980",
   "metadata": {},
   "outputs": [
    {
     "name": "stdout",
     "output_type": "stream",
     "text": [
      "funded_amnt_inv 1000 10397.448867750922 8975.0\n",
      "installment 1245 324.5619220988493 280.22\n",
      "annual_inc 1843 68968.92637711811 59000.0\n",
      "dti 0 13.315129541506153 13.4\n",
      "out_prncp 1140 51.22788730266637 0.0\n",
      "out_prncp_inv 1140 50.98976810937382 0.0\n",
      "total_pymnt 1334 12153.596543630887 9899.640319\n",
      "total_pymnt_inv 1441 11567.149118009922 9287.15\n",
      "total_rec_prncp 972 9793.348813102702 8000.0\n",
      "total_rec_int 3157 2263.6631721932677 1348.91\n",
      "total_rec_late_fee 2046 1.3630152124181836 0.0\n",
      "recoveries 4218 95.22162387467331 0.0\n",
      "collection_recovery_fee 3782 12.406111894151396 0.0\n",
      "last_pymnt_amnt 4286 2678.826162348616 546.14\n",
      "pub_rec_bankruptcies 1681 0.04325986673500769 0.0\n"
     ]
    }
   ],
   "source": [
    "import pandas as pd\n",
    "\n",
    "# Assuming df is your DataFrame\n",
    "\n",
    "# Get the float columns\n",
    "float_columns = df.select_dtypes(include=['float']).columns\n",
    "\n",
    "# Define a function to identify outliers using the IQR method\n",
    "def identify_outliers(column):\n",
    "    Q1 = df[column].quantile(0.25)\n",
    "    Q3 = df[column].quantile(0.75)\n",
    "    IQR = Q3 - Q1\n",
    "    lower_bound = Q1 - 1.5 * IQR\n",
    "    upper_bound = Q3 + 1.5 * IQR\n",
    "    outliers = (df[column] < lower_bound) | (df[column] > upper_bound)\n",
    "    return outliers\n",
    "\n",
    "# Identify outliers for all float columns\n",
    "all_outliers = pd.DataFrame()\n",
    "for column in float_columns:\n",
    "    outliers = identify_outliers(column)\n",
    "    all_outliers[column] = outliers\n",
    "    print(column, outliers.sum(), df[column].mean(), df[column].median())\n",
    "\n",
    "# Display or use the information about outliers\n",
    "#print(all_outliers.sum())\n"
   ]
  },
  {
   "cell_type": "code",
   "execution_count": 425,
   "id": "c77ac475",
   "metadata": {},
   "outputs": [],
   "source": [
    "# lets remove percentage icon from this column\n",
    "df.int_rate = df.int_rate.str.rstrip('%')"
   ]
  },
  {
   "cell_type": "code",
   "execution_count": 426,
   "id": "b265d262",
   "metadata": {},
   "outputs": [],
   "source": [
    "df['int_rate'] = pd.to_numeric(df['int_rate'], errors='coerce')\n"
   ]
  },
  {
   "cell_type": "code",
   "execution_count": 427,
   "id": "f7d57fd3",
   "metadata": {},
   "outputs": [],
   "source": [
    "df.revol_util = df.revol_util.str.rstrip('%')\n",
    "df['revol_util'] = pd.to_numeric(df['revol_util'], errors='coerce')"
   ]
  },
  {
   "cell_type": "code",
   "execution_count": 74,
   "id": "45bf09bc",
   "metadata": {},
   "outputs": [
    {
     "data": {
      "text/plain": [
       "(30149, 44)"
      ]
     },
     "execution_count": 74,
     "metadata": {},
     "output_type": "execute_result"
    }
   ],
   "source": []
  },
  {
   "cell_type": "code",
   "execution_count": null,
   "id": "75b2c5bf",
   "metadata": {},
   "outputs": [],
   "source": []
  },
  {
   "cell_type": "code",
   "execution_count": 428,
   "id": "b3a94d10",
   "metadata": {},
   "outputs": [
    {
     "data": {
      "text/plain": [
       "<Axes: >"
      ]
     },
     "execution_count": 428,
     "metadata": {},
     "output_type": "execute_result"
    },
    {
     "data": {
      "image/png": "[encoded data removed]",
      "text/plain": [
       "<Figure size 640x480 with 1 Axes>"
      ]
     },
     "metadata": {},
     "output_type": "display_data"
    }
   ],
   "source": [
    "import seaborn as sns\n",
    "sns.boxplot(df['last_pymnt_amnt'])"
   ]
  },
  {
   "cell_type": "code",
   "execution_count": 429,
   "id": "c6ccf391",
   "metadata": {},
   "outputs": [
    {
     "data": {
      "text/plain": [
       "10+ years    8879\n",
       "< 1 year     4583\n",
       "2 years      4388\n",
       "3 years      4095\n",
       "4 years      3436\n",
       "5 years      3282\n",
       "1 year       3240\n",
       "6 years      2229\n",
       "7 years      1773\n",
       "8 years      1479\n",
       "9 years      1258\n",
       "Name: emp_length, dtype: int64"
      ]
     },
     "execution_count": 429,
     "metadata": {},
     "output_type": "execute_result"
    }
   ],
   "source": [
    "df.emp_length.value_counts()"
   ]
  },
  {
   "cell_type": "code",
   "execution_count": 430,
   "id": "4efcf2d5",
   "metadata": {},
   "outputs": [
    {
     "name": "stdout",
     "output_type": "stream",
     "text": [
      "       emp_length\n",
      "0            10.0\n",
      "1             0.0\n",
      "2            10.0\n",
      "3            10.0\n",
      "4             1.0\n",
      "...           ...\n",
      "39712         4.0\n",
      "39713         3.0\n",
      "39714         0.0\n",
      "39715         0.0\n",
      "39716         0.0\n",
      "\n",
      "[39717 rows x 1 columns]\n"
     ]
    }
   ],
   "source": [
    "import pandas as pd\n",
    "\n",
    "# Assuming df is your DataFrame and 'emp_length' is the column containing employment lengths\n",
    "\n",
    "# Define a mapping dictionary\n",
    "emp_length_mapping = {\n",
    "    '< 1 year': 0,\n",
    "    '1 year': 1,\n",
    "    '2 years': 2,\n",
    "    '3 years': 3,\n",
    "    '4 years': 4,\n",
    "    '5 years': 5,\n",
    "    '6 years': 6,\n",
    "    '7 years': 7,\n",
    "    '8 years': 8,\n",
    "    '9 years': 9,\n",
    "    '10+ years': 10\n",
    "}\n",
    "\n",
    "# Apply the mapping to create a new numeric column\n",
    "df['emp_length'] = df['emp_length'].map(emp_length_mapping)\n",
    "df['emp_length'] = pd.to_numeric(df['emp_length'], errors='coerce')\n",
    "# Display the result\n",
    "print(df[['emp_length']])\n"
   ]
  },
  {
   "cell_type": "code",
   "execution_count": 431,
   "id": "9b70ae9b",
   "metadata": {},
   "outputs": [],
   "source": [
    "df.issue_d = pd.to_datetime(df.issue_d , format='%b-%y')\n",
    "# df['date_column'] = pd.to_datetime(df['date_column'], format='%d-%m-%y', errors='coerce')\n"
   ]
  },
  {
   "cell_type": "code",
   "execution_count": 432,
   "id": "f81a7062",
   "metadata": {},
   "outputs": [],
   "source": [
    "df.issue_d = pd.to_datetime(df.issue_d , format='%b-%y')\n",
    "df['issue_month'] = df.issue_d.dt.month\n",
    "df['issue_year'] = df.issue_d.dt.year\n"
   ]
  },
  {
   "cell_type": "code",
   "execution_count": 433,
   "id": "1a80e50c",
   "metadata": {},
   "outputs": [
    {
     "data": {
      "text/plain": [
       "2011    21656\n",
       "2010    11532\n",
       "2009     4716\n",
       "2008     1562\n",
       "2007      251\n",
       "Name: issue_year, dtype: int64"
      ]
     },
     "execution_count": 433,
     "metadata": {},
     "output_type": "execute_result"
    }
   ],
   "source": [
    "df.issue_year.value_counts()"
   ]
  },
  {
   "cell_type": "code",
   "execution_count": 434,
   "id": "05b12757",
   "metadata": {},
   "outputs": [],
   "source": [
    "df.drop(columns='url', inplace=True)"
   ]
  },
  {
   "cell_type": "code",
   "execution_count": 435,
   "id": "c9f2f418",
   "metadata": {},
   "outputs": [],
   "source": [
    "df.zip_code = df.zip_code.str.rstrip('xx')\n",
    "df.zip_code = pd.to_numeric(df.zip_code)"
   ]
  },
  {
   "cell_type": "code",
   "execution_count": 436,
   "id": "e374b91b",
   "metadata": {},
   "outputs": [],
   "source": [
    "df['delayed_payment_in_past'] = df.delinq_2yrs > 0"
   ]
  },
  {
   "cell_type": "code",
   "execution_count": 437,
   "id": "266bcd57",
   "metadata": {},
   "outputs": [],
   "source": [
    "df.delayed_payment_in_past.value_counts()\n",
    "df.drop(columns='delinq_2yrs', inplace=True)"
   ]
  },
  {
   "cell_type": "code",
   "execution_count": 438,
   "id": "bb93689c",
   "metadata": {},
   "outputs": [],
   "source": [
    "df.drop(columns='issue_d', inplace=True)"
   ]
  },
  {
   "cell_type": "code",
   "execution_count": 439,
   "id": "0b01075c",
   "metadata": {},
   "outputs": [],
   "source": [
    "df.earliest_cr_line = pd.to_datetime(df.earliest_cr_line , format='%b-%y')\n",
    "df['last_loan_taken_month'] = df.earliest_cr_line.dt.month\n",
    "df['last_loan_taken_year'] = df.earliest_cr_line.dt.year\n",
    "df.drop(columns='earliest_cr_line', inplace=True)"
   ]
  },
  {
   "cell_type": "code",
   "execution_count": 440,
   "id": "63c8a7d9",
   "metadata": {},
   "outputs": [
    {
     "data": {
      "text/html": [
       "<div>\n",
       "<style scoped>\n",
       "    .dataframe tbody tr th:only-of-type {\n",
       "        vertical-align: middle;\n",
       "    }\n",
       "\n",
       "    .dataframe tbody tr th {\n",
       "        vertical-align: top;\n",
       "    }\n",
       "\n",
       "    .dataframe thead th {\n",
       "        text-align: right;\n",
       "    }\n",
       "</style>\n",
       "<table border=\"1\" class=\"dataframe\">\n",
       "  <thead>\n",
       "    <tr style=\"text-align: right;\">\n",
       "      <th></th>\n",
       "      <th>id</th>\n",
       "      <th>member_id</th>\n",
       "      <th>loan_amnt</th>\n",
       "      <th>funded_amnt</th>\n",
       "      <th>funded_amnt_inv</th>\n",
       "      <th>term</th>\n",
       "      <th>int_rate</th>\n",
       "      <th>installment</th>\n",
       "      <th>grade</th>\n",
       "      <th>sub_grade</th>\n",
       "      <th>...</th>\n",
       "      <th>collection_recovery_fee</th>\n",
       "      <th>last_pymnt_d</th>\n",
       "      <th>last_pymnt_amnt</th>\n",
       "      <th>last_credit_pull_d</th>\n",
       "      <th>pub_rec_bankruptcies</th>\n",
       "      <th>issue_month</th>\n",
       "      <th>issue_year</th>\n",
       "      <th>delayed_payment_in_past</th>\n",
       "      <th>last_loan_taken_month</th>\n",
       "      <th>last_loan_taken_year</th>\n",
       "    </tr>\n",
       "  </thead>\n",
       "  <tbody>\n",
       "    <tr>\n",
       "      <th>0</th>\n",
       "      <td>1077501</td>\n",
       "      <td>1296599</td>\n",
       "      <td>5000</td>\n",
       "      <td>5000</td>\n",
       "      <td>4975.0</td>\n",
       "      <td>36 months</td>\n",
       "      <td>10.65</td>\n",
       "      <td>162.87</td>\n",
       "      <td>B</td>\n",
       "      <td>B2</td>\n",
       "      <td>...</td>\n",
       "      <td>0.00</td>\n",
       "      <td>Jan-15</td>\n",
       "      <td>171.62</td>\n",
       "      <td>May-16</td>\n",
       "      <td>0.0</td>\n",
       "      <td>12</td>\n",
       "      <td>2011</td>\n",
       "      <td>False</td>\n",
       "      <td>1</td>\n",
       "      <td>1985</td>\n",
       "    </tr>\n",
       "    <tr>\n",
       "      <th>1</th>\n",
       "      <td>1077430</td>\n",
       "      <td>1314167</td>\n",
       "      <td>2500</td>\n",
       "      <td>2500</td>\n",
       "      <td>2500.0</td>\n",
       "      <td>60 months</td>\n",
       "      <td>15.27</td>\n",
       "      <td>59.83</td>\n",
       "      <td>C</td>\n",
       "      <td>C4</td>\n",
       "      <td>...</td>\n",
       "      <td>1.11</td>\n",
       "      <td>Apr-13</td>\n",
       "      <td>119.66</td>\n",
       "      <td>Sep-13</td>\n",
       "      <td>0.0</td>\n",
       "      <td>12</td>\n",
       "      <td>2011</td>\n",
       "      <td>False</td>\n",
       "      <td>4</td>\n",
       "      <td>1999</td>\n",
       "    </tr>\n",
       "    <tr>\n",
       "      <th>2</th>\n",
       "      <td>1077175</td>\n",
       "      <td>1313524</td>\n",
       "      <td>2400</td>\n",
       "      <td>2400</td>\n",
       "      <td>2400.0</td>\n",
       "      <td>36 months</td>\n",
       "      <td>15.96</td>\n",
       "      <td>84.33</td>\n",
       "      <td>C</td>\n",
       "      <td>C5</td>\n",
       "      <td>...</td>\n",
       "      <td>0.00</td>\n",
       "      <td>Jun-14</td>\n",
       "      <td>649.91</td>\n",
       "      <td>May-16</td>\n",
       "      <td>0.0</td>\n",
       "      <td>12</td>\n",
       "      <td>2011</td>\n",
       "      <td>False</td>\n",
       "      <td>11</td>\n",
       "      <td>2001</td>\n",
       "    </tr>\n",
       "    <tr>\n",
       "      <th>3</th>\n",
       "      <td>1076863</td>\n",
       "      <td>1277178</td>\n",
       "      <td>10000</td>\n",
       "      <td>10000</td>\n",
       "      <td>10000.0</td>\n",
       "      <td>36 months</td>\n",
       "      <td>13.49</td>\n",
       "      <td>339.31</td>\n",
       "      <td>C</td>\n",
       "      <td>C1</td>\n",
       "      <td>...</td>\n",
       "      <td>0.00</td>\n",
       "      <td>Jan-15</td>\n",
       "      <td>357.48</td>\n",
       "      <td>Apr-16</td>\n",
       "      <td>0.0</td>\n",
       "      <td>12</td>\n",
       "      <td>2011</td>\n",
       "      <td>False</td>\n",
       "      <td>2</td>\n",
       "      <td>1996</td>\n",
       "    </tr>\n",
       "    <tr>\n",
       "      <th>4</th>\n",
       "      <td>1075358</td>\n",
       "      <td>1311748</td>\n",
       "      <td>3000</td>\n",
       "      <td>3000</td>\n",
       "      <td>3000.0</td>\n",
       "      <td>60 months</td>\n",
       "      <td>12.69</td>\n",
       "      <td>67.79</td>\n",
       "      <td>B</td>\n",
       "      <td>B5</td>\n",
       "      <td>...</td>\n",
       "      <td>0.00</td>\n",
       "      <td>May-16</td>\n",
       "      <td>67.79</td>\n",
       "      <td>May-16</td>\n",
       "      <td>0.0</td>\n",
       "      <td>12</td>\n",
       "      <td>2011</td>\n",
       "      <td>False</td>\n",
       "      <td>1</td>\n",
       "      <td>1996</td>\n",
       "    </tr>\n",
       "  </tbody>\n",
       "</table>\n",
       "<p>5 rows × 45 columns</p>\n",
       "</div>"
      ],
      "text/plain": [
       "        id  member_id  loan_amnt  funded_amnt  funded_amnt_inv        term  \\\n",
       "0  1077501    1296599       5000         5000           4975.0   36 months   \n",
       "1  1077430    1314167       2500         2500           2500.0   60 months   \n",
       "2  1077175    1313524       2400         2400           2400.0   36 months   \n",
       "3  1076863    1277178      10000        10000          10000.0   36 months   \n",
       "4  1075358    1311748       3000         3000           3000.0   60 months   \n",
       "\n",
       "   int_rate  installment grade sub_grade  ... collection_recovery_fee  \\\n",
       "0     10.65       162.87     B        B2  ...                    0.00   \n",
       "1     15.27        59.83     C        C4  ...                    1.11   \n",
       "2     15.96        84.33     C        C5  ...                    0.00   \n",
       "3     13.49       339.31     C        C1  ...                    0.00   \n",
       "4     12.69        67.79     B        B5  ...                    0.00   \n",
       "\n",
       "   last_pymnt_d last_pymnt_amnt  last_credit_pull_d pub_rec_bankruptcies  \\\n",
       "0        Jan-15          171.62              May-16                  0.0   \n",
       "1        Apr-13          119.66              Sep-13                  0.0   \n",
       "2        Jun-14          649.91              May-16                  0.0   \n",
       "3        Jan-15          357.48              Apr-16                  0.0   \n",
       "4        May-16           67.79              May-16                  0.0   \n",
       "\n",
       "  issue_month issue_year delayed_payment_in_past  last_loan_taken_month  \\\n",
       "0          12       2011                   False                      1   \n",
       "1          12       2011                   False                      4   \n",
       "2          12       2011                   False                     11   \n",
       "3          12       2011                   False                      2   \n",
       "4          12       2011                   False                      1   \n",
       "\n",
       "  last_loan_taken_year  \n",
       "0                 1985  \n",
       "1                 1999  \n",
       "2                 2001  \n",
       "3                 1996  \n",
       "4                 1996  \n",
       "\n",
       "[5 rows x 45 columns]"
      ]
     },
     "execution_count": 440,
     "metadata": {},
     "output_type": "execute_result"
    }
   ],
   "source": [
    "df.head()"
   ]
  },
  {
   "cell_type": "code",
   "execution_count": 441,
   "id": "709070dd",
   "metadata": {},
   "outputs": [],
   "source": [
    "df.total_pymnt = df.total_pymnt.round(2)"
   ]
  },
  {
   "cell_type": "code",
   "execution_count": 442,
   "id": "786182c7",
   "metadata": {},
   "outputs": [
    {
     "data": {
      "text/plain": [
       "debt_consolidation    18641\n",
       "credit_card            5130\n",
       "other                  3993\n",
       "home_improvement       2976\n",
       "major_purchase         2187\n",
       "small_business         1828\n",
       "car                    1549\n",
       "wedding                 947\n",
       "medical                 693\n",
       "moving                  583\n",
       "vacation                381\n",
       "house                   381\n",
       "educational             325\n",
       "renewable_energy        103\n",
       "Name: purpose, dtype: int64"
      ]
     },
     "execution_count": 442,
     "metadata": {},
     "output_type": "execute_result"
    }
   ],
   "source": [
    "df.purpose.value_counts()"
   ]
  },
  {
   "cell_type": "code",
   "execution_count": 443,
   "id": "655cf3e9",
   "metadata": {},
   "outputs": [
    {
     "data": {
      "text/plain": [
       "0.00       38577\n",
       "1972.60        2\n",
       "827.13         2\n",
       "2277.11        2\n",
       "2963.24        2\n",
       "           ...  \n",
       "782.23         1\n",
       "2296.41        1\n",
       "1928.85        1\n",
       "1061.32        1\n",
       "79.24          1\n",
       "Name: out_prncp, Length: 1137, dtype: int64"
      ]
     },
     "execution_count": 443,
     "metadata": {},
     "output_type": "execute_result"
    }
   ],
   "source": [
    "df[df.out_prncp>0].loan_status.value_counts()\n",
    "\n",
    "df.out_prncp.value_counts()"
   ]
  },
  {
   "cell_type": "code",
   "execution_count": 444,
   "id": "52c4f46d",
   "metadata": {},
   "outputs": [],
   "source": [
    "df.drop(columns=['out_prncp'], inplace=True)"
   ]
  },
  {
   "cell_type": "code",
   "execution_count": 445,
   "id": "6f461a5c",
   "metadata": {},
   "outputs": [],
   "source": [
    "df.drop(columns=['total_pymnt_inv'], inplace=True)"
   ]
  },
  {
   "cell_type": "code",
   "execution_count": 446,
   "id": "be84db97",
   "metadata": {},
   "outputs": [],
   "source": [
    "df.drop(columns='collection_recovery_fee', inplace=True)"
   ]
  },
  {
   "cell_type": "code",
   "execution_count": 447,
   "id": "159ac3b8",
   "metadata": {},
   "outputs": [],
   "source": [
    "df['late_fee_received'] = df['total_rec_late_fee'].apply(lambda x: 'YES' if x > 0 else 'NO')\n",
    "df.drop(columns='total_rec_late_fee', inplace=True)\n"
   ]
  },
  {
   "cell_type": "code",
   "execution_count": 448,
   "id": "26a3609d",
   "metadata": {},
   "outputs": [],
   "source": [
    "df['recoveries_happen'] = df['recoveries'].apply(lambda x: 'YES' if x > 0 else 'NO')\n",
    "df.drop(columns='recoveries', inplace=True)"
   ]
  },
  {
   "cell_type": "code",
   "execution_count": null,
   "id": "3ec1f96e",
   "metadata": {},
   "outputs": [],
   "source": []
  },
  {
   "cell_type": "code",
   "execution_count": 449,
   "id": "0f300c43",
   "metadata": {},
   "outputs": [],
   "source": [
    "df['bankrupt_in_past'] = df['pub_rec_bankruptcies'].apply(lambda x: 'YES' if x > 0 else 'NO')\n",
    "df.drop(columns='pub_rec_bankruptcies', inplace=True)"
   ]
  },
  {
   "cell_type": "code",
   "execution_count": 450,
   "id": "51f1d3d4",
   "metadata": {},
   "outputs": [
    {
     "data": {
      "text/plain": [
       "(39717, 42)"
      ]
     },
     "execution_count": 450,
     "metadata": {},
     "output_type": "execute_result"
    }
   ],
   "source": [
    "df.shape"
   ]
  },
  {
   "cell_type": "code",
   "execution_count": 451,
   "id": "a9c4f0df",
   "metadata": {},
   "outputs": [
    {
     "data": {
      "text/plain": [
       "2011    21656\n",
       "2010    11532\n",
       "2009     4716\n",
       "2008     1562\n",
       "2007      251\n",
       "Name: issue_year, dtype: int64"
      ]
     },
     "execution_count": 451,
     "metadata": {},
     "output_type": "execute_result"
    }
   ],
   "source": [
    "df.issue_year.value_counts()"
   ]
  },
  {
   "cell_type": "code",
   "execution_count": 452,
   "id": "0c421400",
   "metadata": {},
   "outputs": [
    {
     "data": {
      "text/plain": [
       "2000    3250\n",
       "1999    2968\n",
       "1998    2851\n",
       "2001    2521\n",
       "1997    2456\n",
       "1996    2274\n",
       "1995    2150\n",
       "1994    2027\n",
       "2002    1927\n",
       "2003    1856\n",
       "2004    1761\n",
       "1993    1514\n",
       "2005    1493\n",
       "2006    1169\n",
       "1992    1063\n",
       "1990    1038\n",
       "1991     980\n",
       "1989     861\n",
       "1988     740\n",
       "2007     712\n",
       "1987     618\n",
       "1986     500\n",
       "1985     461\n",
       "1984     409\n",
       "1983     338\n",
       "1982     224\n",
       "1981     187\n",
       "1980     180\n",
       "1979     165\n",
       "1978     165\n",
       "2008     159\n",
       "1977     115\n",
       "1976      97\n",
       "1975      83\n",
       "1973      66\n",
       "1974      65\n",
       "1972      53\n",
       "1970      48\n",
       "1971      46\n",
       "1969      37\n",
       "2068      20\n",
       "2067      18\n",
       "2066      11\n",
       "2063      10\n",
       "2064       9\n",
       "2065       9\n",
       "2062       5\n",
       "2054       2\n",
       "2061       2\n",
       "2059       1\n",
       "2056       1\n",
       "2046       1\n",
       "2050       1\n",
       "Name: last_loan_taken_year, dtype: int64"
      ]
     },
     "execution_count": 452,
     "metadata": {},
     "output_type": "execute_result"
    }
   ],
   "source": [
    "df.last_loan_taken_year.value_counts()"
   ]
  },
  {
   "cell_type": "code",
   "execution_count": 453,
   "id": "0453640d",
   "metadata": {},
   "outputs": [],
   "source": [
    "#it seems some year conversion in last_loan_taken_year is wrong, we need to correct them. Lets write simple function which can help is\n",
    "\n",
    "def correctYear(column):\n",
    "    if (column > 2023):\n",
    "        y = column - 2000\n",
    "        return 1900+y\n",
    "    return column\n",
    "\n",
    "df.last_loan_taken_year = df.last_loan_taken_year.apply(lambda x: correctYear(x))\n"
   ]
  },
  {
   "cell_type": "code",
   "execution_count": 454,
   "id": "11afe8bb",
   "metadata": {},
   "outputs": [
    {
     "data": {
      "text/plain": [
       "2000    3250\n",
       "1999    2968\n",
       "1998    2851\n",
       "2001    2521\n",
       "1997    2456\n",
       "1996    2274\n",
       "1995    2150\n",
       "1994    2027\n",
       "2002    1927\n",
       "2003    1856\n",
       "2004    1761\n",
       "1993    1514\n",
       "2005    1493\n",
       "2006    1169\n",
       "1992    1063\n",
       "1990    1038\n",
       "1991     980\n",
       "1989     861\n",
       "1988     740\n",
       "2007     712\n",
       "1987     618\n",
       "1986     500\n",
       "1985     461\n",
       "1984     409\n",
       "1983     338\n",
       "1982     224\n",
       "1981     187\n",
       "1980     180\n",
       "1979     165\n",
       "1978     165\n",
       "2008     159\n",
       "1977     115\n",
       "1976      97\n",
       "1975      83\n",
       "1973      66\n",
       "1974      65\n",
       "1972      53\n",
       "1970      48\n",
       "1971      46\n",
       "1969      37\n",
       "1968      20\n",
       "1967      18\n",
       "1966      11\n",
       "1963      10\n",
       "1964       9\n",
       "1965       9\n",
       "1962       5\n",
       "1954       2\n",
       "1961       2\n",
       "1959       1\n",
       "1956       1\n",
       "1946       1\n",
       "1950       1\n",
       "Name: last_loan_taken_year, dtype: int64"
      ]
     },
     "execution_count": 454,
     "metadata": {},
     "output_type": "execute_result"
    }
   ],
   "source": [
    "df.last_loan_taken_year.value_counts()"
   ]
  },
  {
   "cell_type": "code",
   "execution_count": 455,
   "id": "33c64a4b",
   "metadata": {},
   "outputs": [
    {
     "data": {
      "text/plain": [
       "Index(['id', 'member_id', 'loan_amnt', 'funded_amnt', 'funded_amnt_inv',\n",
       "       'term', 'int_rate', 'installment', 'grade', 'sub_grade', 'emp_title',\n",
       "       'emp_length', 'home_ownership', 'annual_inc', 'verification_status',\n",
       "       'loan_status', 'purpose', 'title', 'zip_code', 'addr_state', 'dti',\n",
       "       'inq_last_6mths', 'open_acc', 'pub_rec', 'revol_bal', 'revol_util',\n",
       "       'total_acc', 'out_prncp_inv', 'total_pymnt', 'total_rec_prncp',\n",
       "       'total_rec_int', 'last_pymnt_d', 'last_pymnt_amnt',\n",
       "       'last_credit_pull_d', 'issue_month', 'issue_year',\n",
       "       'delayed_payment_in_past', 'last_loan_taken_month',\n",
       "       'last_loan_taken_year', 'late_fee_received', 'recoveries_happen',\n",
       "       'bankrupt_in_past'],\n",
       "      dtype='object')"
      ]
     },
     "execution_count": 455,
     "metadata": {},
     "output_type": "execute_result"
    }
   ],
   "source": [
    "df.columns"
   ]
  },
  {
   "cell_type": "code",
   "execution_count": 456,
   "id": "9a152ed3",
   "metadata": {},
   "outputs": [],
   "source": [
    "df.drop(columns='funded_amnt_inv', inplace=True)"
   ]
  },
  {
   "cell_type": "code",
   "execution_count": 457,
   "id": "d9b7fa1d",
   "metadata": {},
   "outputs": [
    {
     "data": {
      "text/plain": [
       "Index(['id', 'member_id', 'loan_amnt', 'funded_amnt', 'term', 'int_rate',\n",
       "       'installment', 'grade', 'sub_grade', 'emp_title', 'emp_length',\n",
       "       'home_ownership', 'annual_inc', 'verification_status', 'loan_status',\n",
       "       'purpose', 'title', 'zip_code', 'addr_state', 'dti', 'inq_last_6mths',\n",
       "       'open_acc', 'pub_rec', 'revol_bal', 'revol_util', 'total_acc',\n",
       "       'out_prncp_inv', 'total_pymnt', 'total_rec_prncp', 'total_rec_int',\n",
       "       'last_pymnt_d', 'last_pymnt_amnt', 'last_credit_pull_d', 'issue_month',\n",
       "       'issue_year', 'delayed_payment_in_past', 'last_loan_taken_month',\n",
       "       'last_loan_taken_year', 'late_fee_received', 'recoveries_happen',\n",
       "       'bankrupt_in_past'],\n",
       "      dtype='object')"
      ]
     },
     "execution_count": 457,
     "metadata": {},
     "output_type": "execute_result"
    }
   ],
   "source": [
    "df.columns"
   ]
  },
  {
   "cell_type": "code",
   "execution_count": 458,
   "id": "5af42f6d",
   "metadata": {},
   "outputs": [
    {
     "data": {
      "text/plain": [
       "Fully Paid     32950\n",
       "Charged Off     5627\n",
       "Current         1140\n",
       "Name: loan_status, dtype: int64"
      ]
     },
     "execution_count": 458,
     "metadata": {},
     "output_type": "execute_result"
    }
   ],
   "source": [
    "df.loan_status.value_counts()"
   ]
  },
  {
   "cell_type": "code",
   "execution_count": 459,
   "id": "ad229700",
   "metadata": {},
   "outputs": [
    {
     "data": {
      "text/plain": [
       "0    37601\n",
       "1     2056\n",
       "2       51\n",
       "3        7\n",
       "4        2\n",
       "Name: pub_rec, dtype: int64"
      ]
     },
     "execution_count": 459,
     "metadata": {},
     "output_type": "execute_result"
    }
   ],
   "source": [
    "df.pub_rec.value_counts()"
   ]
  },
  {
   "cell_type": "code",
   "execution_count": 460,
   "id": "4ce96cb3",
   "metadata": {},
   "outputs": [
    {
     "data": {
      "text/plain": [
       "Debt Consolidation                  2184\n",
       "Debt Consolidation Loan             1729\n",
       "Personal Loan                        659\n",
       "Consolidation                        517\n",
       "debt consolidation                   505\n",
       "                                    ... \n",
       "your rate is better than my rate       1\n",
       "Concession Trailer                     1\n",
       "gregs                                  1\n",
       "EZover                                 1\n",
       "JAL Loan                               1\n",
       "Name: title, Length: 19615, dtype: int64"
      ]
     },
     "execution_count": 460,
     "metadata": {},
     "output_type": "execute_result"
    }
   ],
   "source": [
    "df.title.value_counts()"
   ]
  },
  {
   "cell_type": "code",
   "execution_count": 461,
   "id": "f141f0e4",
   "metadata": {},
   "outputs": [
    {
     "data": {
      "text/html": [
       "<div>\n",
       "<style scoped>\n",
       "    .dataframe tbody tr th:only-of-type {\n",
       "        vertical-align: middle;\n",
       "    }\n",
       "\n",
       "    .dataframe tbody tr th {\n",
       "        vertical-align: top;\n",
       "    }\n",
       "\n",
       "    .dataframe thead tr th {\n",
       "        text-align: left;\n",
       "    }\n",
       "\n",
       "    .dataframe thead tr:last-of-type th {\n",
       "        text-align: right;\n",
       "    }\n",
       "</style>\n",
       "<table border=\"1\" class=\"dataframe\">\n",
       "  <thead>\n",
       "    <tr>\n",
       "      <th></th>\n",
       "      <th colspan=\"8\" halign=\"left\">id</th>\n",
       "      <th colspan=\"2\" halign=\"left\">member_id</th>\n",
       "      <th>...</th>\n",
       "      <th colspan=\"2\" halign=\"left\">last_loan_taken_month</th>\n",
       "      <th colspan=\"8\" halign=\"left\">last_loan_taken_year</th>\n",
       "    </tr>\n",
       "    <tr>\n",
       "      <th></th>\n",
       "      <th>count</th>\n",
       "      <th>mean</th>\n",
       "      <th>std</th>\n",
       "      <th>min</th>\n",
       "      <th>25%</th>\n",
       "      <th>50%</th>\n",
       "      <th>75%</th>\n",
       "      <th>max</th>\n",
       "      <th>count</th>\n",
       "      <th>mean</th>\n",
       "      <th>...</th>\n",
       "      <th>75%</th>\n",
       "      <th>max</th>\n",
       "      <th>count</th>\n",
       "      <th>mean</th>\n",
       "      <th>std</th>\n",
       "      <th>min</th>\n",
       "      <th>25%</th>\n",
       "      <th>50%</th>\n",
       "      <th>75%</th>\n",
       "      <th>max</th>\n",
       "    </tr>\n",
       "    <tr>\n",
       "      <th>loan_status</th>\n",
       "      <th></th>\n",
       "      <th></th>\n",
       "      <th></th>\n",
       "      <th></th>\n",
       "      <th></th>\n",
       "      <th></th>\n",
       "      <th></th>\n",
       "      <th></th>\n",
       "      <th></th>\n",
       "      <th></th>\n",
       "      <th></th>\n",
       "      <th></th>\n",
       "      <th></th>\n",
       "      <th></th>\n",
       "      <th></th>\n",
       "      <th></th>\n",
       "      <th></th>\n",
       "      <th></th>\n",
       "      <th></th>\n",
       "      <th></th>\n",
       "      <th></th>\n",
       "    </tr>\n",
       "  </thead>\n",
       "  <tbody>\n",
       "    <tr>\n",
       "      <th>Charged Off</th>\n",
       "      <td>5627.0</td>\n",
       "      <td>697844.014217</td>\n",
       "      <td>216376.676676</td>\n",
       "      <td>61419.0</td>\n",
       "      <td>529724.50</td>\n",
       "      <td>696937.0</td>\n",
       "      <td>854876.0</td>\n",
       "      <td>1077430.0</td>\n",
       "      <td>5627.0</td>\n",
       "      <td>8.677521e+05</td>\n",
       "      <td>...</td>\n",
       "      <td>10.0</td>\n",
       "      <td>12.0</td>\n",
       "      <td>5627.0</td>\n",
       "      <td>1996.947396</td>\n",
       "      <td>6.757051</td>\n",
       "      <td>1962.0</td>\n",
       "      <td>1994.0</td>\n",
       "      <td>1998.0</td>\n",
       "      <td>2001.0</td>\n",
       "      <td>2008.0</td>\n",
       "    </tr>\n",
       "    <tr>\n",
       "      <th>Current</th>\n",
       "      <td>1140.0</td>\n",
       "      <td>911656.866667</td>\n",
       "      <td>104687.450073</td>\n",
       "      <td>682952.0</td>\n",
       "      <td>819501.25</td>\n",
       "      <td>884842.5</td>\n",
       "      <td>1015549.0</td>\n",
       "      <td>1075358.0</td>\n",
       "      <td>1140.0</td>\n",
       "      <td>1.127244e+06</td>\n",
       "      <td>...</td>\n",
       "      <td>10.0</td>\n",
       "      <td>12.0</td>\n",
       "      <td>1140.0</td>\n",
       "      <td>1995.078070</td>\n",
       "      <td>7.049060</td>\n",
       "      <td>1964.0</td>\n",
       "      <td>1991.0</td>\n",
       "      <td>1996.0</td>\n",
       "      <td>2000.0</td>\n",
       "      <td>2008.0</td>\n",
       "    </tr>\n",
       "    <tr>\n",
       "      <th>Fully Paid</th>\n",
       "      <td>32950.0</td>\n",
       "      <td>672712.992261</td>\n",
       "      <td>207806.743790</td>\n",
       "      <td>54734.0</td>\n",
       "      <td>508744.00</td>\n",
       "      <td>651271.5</td>\n",
       "      <td>823113.5</td>\n",
       "      <td>1077501.0</td>\n",
       "      <td>32950.0</td>\n",
       "      <td>8.379351e+05</td>\n",
       "      <td>...</td>\n",
       "      <td>10.0</td>\n",
       "      <td>12.0</td>\n",
       "      <td>32950.0</td>\n",
       "      <td>1996.546313</td>\n",
       "      <td>6.824043</td>\n",
       "      <td>1946.0</td>\n",
       "      <td>1993.0</td>\n",
       "      <td>1998.0</td>\n",
       "      <td>2001.0</td>\n",
       "      <td>2008.0</td>\n",
       "    </tr>\n",
       "  </tbody>\n",
       "</table>\n",
       "<p>3 rows × 200 columns</p>\n",
       "</div>"
      ],
      "text/plain": [
       "                  id                                                     \\\n",
       "               count           mean            std       min        25%   \n",
       "loan_status                                                               \n",
       "Charged Off   5627.0  697844.014217  216376.676676   61419.0  529724.50   \n",
       "Current       1140.0  911656.866667  104687.450073  682952.0  819501.25   \n",
       "Fully Paid   32950.0  672712.992261  207806.743790   54734.0  508744.00   \n",
       "\n",
       "                                            member_id                ...  \\\n",
       "                  50%        75%        max     count          mean  ...   \n",
       "loan_status                                                          ...   \n",
       "Charged Off  696937.0   854876.0  1077430.0    5627.0  8.677521e+05  ...   \n",
       "Current      884842.5  1015549.0  1075358.0    1140.0  1.127244e+06  ...   \n",
       "Fully Paid   651271.5   823113.5  1077501.0   32950.0  8.379351e+05  ...   \n",
       "\n",
       "            last_loan_taken_month       last_loan_taken_year               \\\n",
       "                              75%   max                count         mean   \n",
       "loan_status                                                                 \n",
       "Charged Off                  10.0  12.0               5627.0  1996.947396   \n",
       "Current                      10.0  12.0               1140.0  1995.078070   \n",
       "Fully Paid                   10.0  12.0              32950.0  1996.546313   \n",
       "\n",
       "                                                               \n",
       "                  std     min     25%     50%     75%     max  \n",
       "loan_status                                                    \n",
       "Charged Off  6.757051  1962.0  1994.0  1998.0  2001.0  2008.0  \n",
       "Current      7.049060  1964.0  1991.0  1996.0  2000.0  2008.0  \n",
       "Fully Paid   6.824043  1946.0  1993.0  1998.0  2001.0  2008.0  \n",
       "\n",
       "[3 rows x 200 columns]"
      ]
     },
     "execution_count": 461,
     "metadata": {},
     "output_type": "execute_result"
    }
   ],
   "source": [
    "gb = df.groupby(by = 'loan_status')\n",
    "gb.describe()"
   ]
  },
  {
   "cell_type": "code",
   "execution_count": 462,
   "id": "9923a8a0",
   "metadata": {},
   "outputs": [
    {
     "data": {
      "text/plain": [
       "Index(['id', 'member_id', 'loan_amnt', 'funded_amnt', 'term', 'int_rate',\n",
       "       'installment', 'grade', 'sub_grade', 'emp_title', 'emp_length',\n",
       "       'home_ownership', 'annual_inc', 'verification_status', 'loan_status',\n",
       "       'purpose', 'title', 'zip_code', 'addr_state', 'dti', 'inq_last_6mths',\n",
       "       'open_acc', 'pub_rec', 'revol_bal', 'revol_util', 'total_acc',\n",
       "       'out_prncp_inv', 'total_pymnt', 'total_rec_prncp', 'total_rec_int',\n",
       "       'last_pymnt_d', 'last_pymnt_amnt', 'last_credit_pull_d', 'issue_month',\n",
       "       'issue_year', 'delayed_payment_in_past', 'last_loan_taken_month',\n",
       "       'last_loan_taken_year', 'late_fee_received', 'recoveries_happen',\n",
       "       'bankrupt_in_past'],\n",
       "      dtype='object')"
      ]
     },
     "execution_count": 462,
     "metadata": {},
     "output_type": "execute_result"
    }
   ],
   "source": [
    "df.columns"
   ]
  },
  {
   "cell_type": "code",
   "execution_count": 480,
   "id": "5a34600a",
   "metadata": {},
   "outputs": [
    {
     "ename": "KeyError",
     "evalue": "\"['emp_length'] not in index\"",
     "output_type": "error",
     "traceback": [
      "\u001b[0;31m---------------------------------------------------------------------------\u001b[0m",
      "\u001b[0;31mKeyError\u001b[0m                                  Traceback (most recent call last)",
      "Cell \u001b[0;32mIn[480], line 1\u001b[0m\n\u001b[0;32m----> 1\u001b[0m loan_final_columns_dataset \u001b[38;5;241m=\u001b[39m df[[\u001b[38;5;124m'\u001b[39m\u001b[38;5;124mid\u001b[39m\u001b[38;5;124m'\u001b[39m,\u001b[38;5;124m'\u001b[39m\u001b[38;5;124mmember_id\u001b[39m\u001b[38;5;124m'\u001b[39m,\u001b[38;5;124m'\u001b[39m\u001b[38;5;124mfunded_amnt\u001b[39m\u001b[38;5;124m'\u001b[39m,\u001b[38;5;124m'\u001b[39m\u001b[38;5;124mint_rate\u001b[39m\u001b[38;5;124m'\u001b[39m, \u001b[38;5;124m'\u001b[39m\u001b[38;5;124mterm\u001b[39m\u001b[38;5;124m'\u001b[39m,\u001b[38;5;124m'\u001b[39m\u001b[38;5;124mgrade\u001b[39m\u001b[38;5;124m'\u001b[39m,\u001b[38;5;124m'\u001b[39m\u001b[38;5;124msub_grade\u001b[39m\u001b[38;5;124m'\u001b[39m,\u001b[38;5;124m'\u001b[39m\u001b[38;5;124mpurpose\u001b[39m\u001b[38;5;124m'\u001b[39m,\u001b[38;5;124m'\u001b[39m\u001b[38;5;124memp_length\u001b[39m\u001b[38;5;124m'\u001b[39m,\u001b[38;5;124m'\u001b[39m\u001b[38;5;124mhome_ownership\u001b[39m\u001b[38;5;124m'\u001b[39m,\u001b[38;5;124m'\u001b[39m\u001b[38;5;124mannual_inc\u001b[39m\u001b[38;5;124m'\u001b[39m\n\u001b[1;32m      2\u001b[0m        ,\u001b[38;5;124m'\u001b[39m\u001b[38;5;124mverification_status\u001b[39m\u001b[38;5;124m'\u001b[39m,\u001b[38;5;124m'\u001b[39m\u001b[38;5;124mdti\u001b[39m\u001b[38;5;124m'\u001b[39m,\u001b[38;5;124m'\u001b[39m\u001b[38;5;124minq_last_6mths\u001b[39m\u001b[38;5;124m'\u001b[39m,\u001b[38;5;124m'\u001b[39m\u001b[38;5;124mpub_rec\u001b[39m\u001b[38;5;124m'\u001b[39m,\u001b[38;5;124m'\u001b[39m\u001b[38;5;124mrevol_bal\u001b[39m\u001b[38;5;124m'\u001b[39m,\u001b[38;5;124m'\u001b[39m\u001b[38;5;124mrevol_util\u001b[39m\u001b[38;5;124m'\u001b[39m,\u001b[38;5;124m'\u001b[39m\u001b[38;5;124mtotal_acc\u001b[39m\u001b[38;5;124m'\u001b[39m,\u001b[38;5;124m'\u001b[39m\u001b[38;5;124missue_month\u001b[39m\u001b[38;5;124m'\u001b[39m,\u001b[38;5;124m'\u001b[39m\u001b[38;5;124missue_year\u001b[39m\u001b[38;5;124m'\u001b[39m\n\u001b[1;32m      3\u001b[0m        ,\u001b[38;5;124m'\u001b[39m\u001b[38;5;124mloan_status\u001b[39m\u001b[38;5;124m'\u001b[39m,\u001b[38;5;124m'\u001b[39m\u001b[38;5;124mdelayed_payment_in_past\u001b[39m\u001b[38;5;124m'\u001b[39m,\u001b[38;5;124m'\u001b[39m\u001b[38;5;124mbankrupt_in_past\u001b[39m\u001b[38;5;124m'\u001b[39m]]\n",
      "File \u001b[0;32m~/anaconda3/lib/python3.11/site-packages/pandas/core/frame.py:3813\u001b[0m, in \u001b[0;36mDataFrame.__getitem__\u001b[0;34m(self, key)\u001b[0m\n\u001b[1;32m   3811\u001b[0m     \u001b[38;5;28;01mif\u001b[39;00m is_iterator(key):\n\u001b[1;32m   3812\u001b[0m         key \u001b[38;5;241m=\u001b[39m \u001b[38;5;28mlist\u001b[39m(key)\n\u001b[0;32m-> 3813\u001b[0m     indexer \u001b[38;5;241m=\u001b[39m \u001b[38;5;28mself\u001b[39m\u001b[38;5;241m.\u001b[39mcolumns\u001b[38;5;241m.\u001b[39m_get_indexer_strict(key, \u001b[38;5;124m\"\u001b[39m\u001b[38;5;124mcolumns\u001b[39m\u001b[38;5;124m\"\u001b[39m)[\u001b[38;5;241m1\u001b[39m]\n\u001b[1;32m   3815\u001b[0m \u001b[38;5;66;03m# take() does not accept boolean indexers\u001b[39;00m\n\u001b[1;32m   3816\u001b[0m \u001b[38;5;28;01mif\u001b[39;00m \u001b[38;5;28mgetattr\u001b[39m(indexer, \u001b[38;5;124m\"\u001b[39m\u001b[38;5;124mdtype\u001b[39m\u001b[38;5;124m\"\u001b[39m, \u001b[38;5;28;01mNone\u001b[39;00m) \u001b[38;5;241m==\u001b[39m \u001b[38;5;28mbool\u001b[39m:\n",
      "File \u001b[0;32m~/anaconda3/lib/python3.11/site-packages/pandas/core/indexes/base.py:6070\u001b[0m, in \u001b[0;36mIndex._get_indexer_strict\u001b[0;34m(self, key, axis_name)\u001b[0m\n\u001b[1;32m   6067\u001b[0m \u001b[38;5;28;01melse\u001b[39;00m:\n\u001b[1;32m   6068\u001b[0m     keyarr, indexer, new_indexer \u001b[38;5;241m=\u001b[39m \u001b[38;5;28mself\u001b[39m\u001b[38;5;241m.\u001b[39m_reindex_non_unique(keyarr)\n\u001b[0;32m-> 6070\u001b[0m \u001b[38;5;28mself\u001b[39m\u001b[38;5;241m.\u001b[39m_raise_if_missing(keyarr, indexer, axis_name)\n\u001b[1;32m   6072\u001b[0m keyarr \u001b[38;5;241m=\u001b[39m \u001b[38;5;28mself\u001b[39m\u001b[38;5;241m.\u001b[39mtake(indexer)\n\u001b[1;32m   6073\u001b[0m \u001b[38;5;28;01mif\u001b[39;00m \u001b[38;5;28misinstance\u001b[39m(key, Index):\n\u001b[1;32m   6074\u001b[0m     \u001b[38;5;66;03m# GH 42790 - Preserve name from an Index\u001b[39;00m\n",
      "File \u001b[0;32m~/anaconda3/lib/python3.11/site-packages/pandas/core/indexes/base.py:6133\u001b[0m, in \u001b[0;36mIndex._raise_if_missing\u001b[0;34m(self, key, indexer, axis_name)\u001b[0m\n\u001b[1;32m   6130\u001b[0m     \u001b[38;5;28;01mraise\u001b[39;00m \u001b[38;5;167;01mKeyError\u001b[39;00m(\u001b[38;5;124mf\u001b[39m\u001b[38;5;124m\"\u001b[39m\u001b[38;5;124mNone of [\u001b[39m\u001b[38;5;132;01m{\u001b[39;00mkey\u001b[38;5;132;01m}\u001b[39;00m\u001b[38;5;124m] are in the [\u001b[39m\u001b[38;5;132;01m{\u001b[39;00maxis_name\u001b[38;5;132;01m}\u001b[39;00m\u001b[38;5;124m]\u001b[39m\u001b[38;5;124m\"\u001b[39m)\n\u001b[1;32m   6132\u001b[0m not_found \u001b[38;5;241m=\u001b[39m \u001b[38;5;28mlist\u001b[39m(ensure_index(key)[missing_mask\u001b[38;5;241m.\u001b[39mnonzero()[\u001b[38;5;241m0\u001b[39m]]\u001b[38;5;241m.\u001b[39munique())\n\u001b[0;32m-> 6133\u001b[0m \u001b[38;5;28;01mraise\u001b[39;00m \u001b[38;5;167;01mKeyError\u001b[39;00m(\u001b[38;5;124mf\u001b[39m\u001b[38;5;124m\"\u001b[39m\u001b[38;5;132;01m{\u001b[39;00mnot_found\u001b[38;5;132;01m}\u001b[39;00m\u001b[38;5;124m not in index\u001b[39m\u001b[38;5;124m\"\u001b[39m)\n",
      "\u001b[0;31mKeyError\u001b[0m: \"['emp_length'] not in index\""
     ]
    }
   ],
   "source": [
    "df = df[['id','member_id','funded_amnt','int_rate', 'term','grade','sub_grade','purpose','emp_length','home_ownership','annual_inc'\n",
    "       ,'verification_status','dti','inq_last_6mths','pub_rec','revol_bal','revol_util','total_acc','issue_month','issue_year'\n",
    "       ,'loan_status','delayed_payment_in_past','bankrupt_in_past']]"
   ]
  },
  {
   "cell_type": "code",
   "execution_count": 464,
   "id": "230cd36c",
   "metadata": {},
   "outputs": [
    {
     "data": {
      "text/plain": [
       "(39717, 23)"
      ]
     },
     "execution_count": 464,
     "metadata": {},
     "output_type": "execute_result"
    }
   ],
   "source": [
    "df.shape"
   ]
  },
  {
   "cell_type": "code",
   "execution_count": 165,
   "id": "67786f74",
   "metadata": {},
   "outputs": [
    {
     "data": {
      "text/plain": [
       "count      703.000000\n",
       "mean     25030.085349\n",
       "std       2052.240609\n",
       "min      22575.000000\n",
       "25%      24000.000000\n",
       "50%      25000.000000\n",
       "75%      25000.000000\n",
       "max      35000.000000\n",
       "Name: loan_amnt, dtype: float64"
      ]
     },
     "execution_count": 165,
     "metadata": {},
     "output_type": "execute_result"
    }
   ],
   "source": [
    "df[df.loan_amnt > 22500].loan_amnt.describe()"
   ]
  },
  {
   "cell_type": "code",
   "execution_count": 372,
   "id": "4e545b21",
   "metadata": {},
   "outputs": [
    {
     "data": {
      "text/plain": [
       "68968.92637711811"
      ]
     },
     "execution_count": 372,
     "metadata": {},
     "output_type": "execute_result"
    }
   ],
   "source": [
    "df.annual_inc.mean()"
   ]
  },
  {
   "cell_type": "code",
   "execution_count": 510,
   "id": "9459f3ce",
   "metadata": {},
   "outputs": [
    {
     "name": "stdout",
     "output_type": "stream",
     "text": [
      "Index(['id', 'member_id', 'funded_amnt', 'int_rate', 'annual_inc', 'dti',\n",
      "       'inq_last_6mths', 'pub_rec', 'revol_bal', 'revol_util', 'total_acc',\n",
      "       'issue_month', 'issue_year', 'emp_exp', 'loan_status_numeric'],\n",
      "      dtype='object')\n",
      "id                      600\n",
      "member_id               953\n",
      "funded_amnt            1399\n",
      "int_rate               1123\n",
      "annual_inc             1066\n",
      "dti                     399\n",
      "inq_last_6mths          586\n",
      "pub_rec                2116\n",
      "revol_bal              1669\n",
      "revol_util                0\n",
      "total_acc              1726\n",
      "issue_month               0\n",
      "issue_year             1812\n",
      "emp_exp                   0\n",
      "loan_status_numeric    5627\n",
      "dtype: int64\n"
     ]
    }
   ],
   "source": [
    "float_columns = df.select_dtypes(include=['int64','float64']).columns\n",
    "\n",
    "print(float_columns)\n",
    "# Define a function to identify outliers using the IQR method\n",
    "def identify_outliers(column):\n",
    "    mean = df[column].mean()\n",
    "    sd = df[column].std()\n",
    "    lower_bound = mean - 2 * sd\n",
    "    upper_bound = mean + 2 * sd\n",
    "    outliers = (df[column] < lower_bound) | (df[column] > upper_bound)\n",
    "    return outliers\n",
    "\n",
    "# Identify outliers for all float columns\n",
    "all_outliers = pd.DataFrame()\n",
    "x = pd.DataFrame()\n",
    "for column in float_columns:\n",
    "    outliers = identify_outliers(column)\n",
    "    all_outliers[column] = outliers\n",
    "    \n",
    "\n",
    "# Display or use the information about outliers\n",
    "print(all_outliers.sum())\n"
   ]
  },
  {
   "cell_type": "code",
   "execution_count": 514,
   "id": "7023b84b",
   "metadata": {},
   "outputs": [
    {
     "data": {
      "text/plain": [
       "<Axes: >"
      ]
     },
     "execution_count": 514,
     "metadata": {},
     "output_type": "execute_result"
    },
    {
     "data": {
      "image/png": "[encoded data removed]",
      "text/plain": [
       "<Figure size 640x480 with 1 Axes>"
      ]
     },
     "metadata": {},
     "output_type": "display_data"
    }
   ],
   "source": [
    "df.loan_status_numeric.plot(kind = 'box')"
   ]
  },
  {
   "cell_type": "code",
   "execution_count": 466,
   "id": "a9f68776",
   "metadata": {},
   "outputs": [],
   "source": [
    "df =  df[df.annual_inc < 2000000]\n"
   ]
  },
  {
   "cell_type": "code",
   "execution_count": 468,
   "id": "f37dcbb3",
   "metadata": {},
   "outputs": [],
   "source": [
    "df['emp_exp'] = df['emp_length']\n",
    "df.drop(columns = 'emp_length', inplace=True)\n"
   ]
  },
  {
   "cell_type": "code",
   "execution_count": 469,
   "id": "591dcbf1",
   "metadata": {},
   "outputs": [
    {
     "data": {
      "text/plain": [
       "debt_consolidation    18640\n",
       "credit_card            5130\n",
       "other                  3993\n",
       "home_improvement       2974\n",
       "major_purchase         2187\n",
       "small_business         1828\n",
       "car                    1549\n",
       "wedding                 947\n",
       "medical                 693\n",
       "moving                  583\n",
       "vacation                381\n",
       "house                   381\n",
       "educational             325\n",
       "renewable_energy        103\n",
       "Name: purpose, dtype: int64"
      ]
     },
     "execution_count": 469,
     "metadata": {},
     "output_type": "execute_result"
    }
   ],
   "source": [
    "df.purpose.value_counts()"
   ]
  },
  {
   "cell_type": "code",
   "execution_count": 470,
   "id": "441c0bc4",
   "metadata": {},
   "outputs": [
    {
     "data": {
      "text/plain": [
       "<Axes: >"
      ]
     },
     "execution_count": 470,
     "metadata": {},
     "output_type": "execute_result"
    },
    {
     "data": {
      "image/png": "[encoded data removed]",
      "text/plain": [
       "<Figure size 640x480 with 1 Axes>"
      ]
     },
     "metadata": {},
     "output_type": "display_data"
    }
   ],
   "source": [
    "df.purpose.value_counts().plot(kind = 'bar')"
   ]
  },
  {
   "cell_type": "code",
   "execution_count": 429,
   "id": "9526003e",
   "metadata": {},
   "outputs": [
    {
     "data": {
      "text/plain": [
       "Index(['loan_amnt', 'int_rate', 'term', 'grade', 'sub_grade', 'purpose',\n",
       "       'emp_length', 'home_ownership', 'annual_inc', 'verification_status',\n",
       "       'dti', 'inq_last_6mths', 'pub_rec', 'revol_bal', 'revol_util',\n",
       "       'total_acc', 'loan_status', 'delayed_payment_in_past',\n",
       "       'bankrupt_in_past'],\n",
       "      dtype='object')"
      ]
     },
     "execution_count": 429,
     "metadata": {},
     "output_type": "execute_result"
    }
   ],
   "source": [
    "df.columns"
   ]
  },
  {
   "cell_type": "code",
   "execution_count": 473,
   "id": "470b6ef3",
   "metadata": {},
   "outputs": [
    {
     "data": {
      "image/png": "[encoded data removed]",
      "text/plain": [
       "<Figure size 1000x800 with 2 Axes>"
      ]
     },
     "metadata": {},
     "output_type": "display_data"
    }
   ],
   "source": [
    "df['loan_status_numeric'] = (df['loan_status'] == 'Charged Off').astype(int)\n",
    "\n",
    "corr = df[['funded_amnt','int_rate','annual_inc','dti','revol_bal','revol_util','total_acc','loan_status_numeric']].corr()\n",
    "plt.figure(figsize=(10, 8))\n",
    "sns.heatmap(corr, annot=True, cmap='Blues', fmt=\".2f\", linewidths=.5, color = 'blue')\n",
    "plt.title('Correlation Matrix')\n",
    "plt.show()\n",
    "\n",
    "\n",
    "\n",
    "\n",
    "\n"
   ]
  },
  {
   "cell_type": "code",
   "execution_count": 297,
   "id": "393a0cc1",
   "metadata": {},
   "outputs": [
    {
     "data": {
      "image/png": "[encoded data removed]",
      "text/plain": [
       "<Figure size 1200x800 with 2 Axes>"
      ]
     },
     "metadata": {},
     "output_type": "display_data"
    }
   ],
   "source": []
  },
  {
   "cell_type": "code",
   "execution_count": 474,
   "id": "d5e2dbd9",
   "metadata": {},
   "outputs": [],
   "source": [
    "#making loan range buckets will be better here\n",
    "percentiles = [0, .25, .50, .75, 1.00]\n",
    "\n",
    "# Create categories based on loan amounts percentiles\n",
    "df['funded_amnt_category'] = pd.qcut(df['funded_amnt'], q=percentiles, labels=False)\n",
    "\n",
    "# Rename the categories for better interpretation\n",
    "category_labels = ['0-25%', '25-50%', '50-75%', '75-100%']\n",
    "df['funded_amnt_category'] = pd.cut(df['funded_amnt_category'], bins=len(percentiles)-1, labels=category_labels)\n"
   ]
  },
  {
   "cell_type": "code",
   "execution_count": 475,
   "id": "eb1b43b6",
   "metadata": {},
   "outputs": [],
   "source": [
    "percentiles = [0, .25, .50, .75, 1.00]\n",
    "\n",
    "# Create categories based on loan amounts percentiles\n",
    "df['annual_income_category'] = pd.qcut(df['annual_inc'], q=percentiles, labels=False)\n",
    "\n",
    "# Rename the categories for better interpretation\n",
    "category_labels = ['0-25%', '25-50%', '50-75%', '75-100%']\n",
    "df['annual_income_category'] = pd.cut(df['annual_income_category'], bins=len(percentiles)-1, labels=category_labels)"
   ]
  },
  {
   "cell_type": "code",
   "execution_count": 477,
   "id": "c1681901",
   "metadata": {},
   "outputs": [],
   "source": [
    "percentiles = [0, .25, .50, .75, 1.00]\n",
    "\n",
    "# Create categories based on loan amounts percentiles\n",
    "df['int_rate_category'] = pd.qcut(df['int_rate'], q=percentiles, labels=False)\n",
    "\n",
    "# Rename the categories for better interpretation\n",
    "category_labels = ['0-25%', '25-50%', '50-75%', '75-100%']\n",
    "df['int_rate_category'] = pd.cut(df['int_rate_category'], bins=len(percentiles)-1, labels=category_labels)"
   ]
  },
  {
   "cell_type": "code",
   "execution_count": 478,
   "id": "cc850f0a",
   "metadata": {},
   "outputs": [
    {
     "data": {
      "image/png": "[encoded data removed]",
      "text/plain": [
       "<Figure size 1200x800 with 2 Axes>"
      ]
     },
     "metadata": {},
     "output_type": "display_data"
    }
   ],
   "source": [
    "pivot_table = df.pivot_table(index='grade', columns=['funded_amnt_category'], values='loan_status_numeric', aggfunc='mean')\n",
    "\n",
    "# Visualize the heatmap\n",
    "plt.figure(figsize=(12, 8))\n",
    "sns.heatmap(pivot_table, annot=True, cmap='Blues', fmt=\".2f\", linewidths=.5)\n",
    "plt.show()"
   ]
  },
  {
   "cell_type": "code",
   "execution_count": 481,
   "id": "eb2fa7e5",
   "metadata": {},
   "outputs": [
    {
     "data": {
      "image/png": "[encoded data removed]",
      "text/plain": [
       "<Figure size 640x480 with 3 Axes>"
      ]
     },
     "metadata": {},
     "output_type": "display_data"
    }
   ],
   "source": [
    "\n",
    "# plt.subplot(5, 1, 1)\n",
    "# sns.boxplot(x='loan_status', y='loan_amnt', data=df, palette='Set1')\n",
    "# plt.title('Loan Amount vs. Loan Status')\n",
    "\n",
    "# # Box plot for annual income vs. loan status\n",
    "# plt.subplot(5, 1, 2)\n",
    "# sns.boxplot(x='loan_status', y='annual_inc', data=df, palette='Set2')\n",
    "# plt.title('Annual Income vs. Loan Status')\n",
    "\n",
    "# Box plot for debt-to-income ratio vs. loan status\n",
    "plt.subplot(3, 1, 1)\n",
    "sns.boxplot(x='loan_status', y='dti', data=df, palette='Set1')\n",
    "plt.title('Debt-to-Income Ratio vs. Loan Status')\n",
    "\n",
    "plt.subplot(3, 1, 2)\n",
    "sns.boxplot(x='loan_status', y='int_rate', data=df, palette='Set2')\n",
    "plt.title('Interest Rate vs. Loan Status')\n",
    "\n",
    "\n",
    "plt.subplot(3, 1, 3)\n",
    "sns.boxplot(x='loan_status', y='revol_util', data=df, palette='Set3')\n",
    "plt.title('Revol Util vs. Loan Status')\n",
    "\n",
    "\n",
    "plt.tight_layout()\n",
    "plt.show()\n",
    "\n",
    "\n",
    "\n",
    "\n",
    "\n",
    "\n"
   ]
  },
  {
   "cell_type": "code",
   "execution_count": 482,
   "id": "478effe8",
   "metadata": {},
   "outputs": [
    {
     "data": {
      "image/png": "[encoded data removed]",
      "text/plain": [
       "<Figure size 1200x800 with 2 Axes>"
      ]
     },
     "metadata": {},
     "output_type": "display_data"
    }
   ],
   "source": [
    "pivot_table = df.pivot_table(index='purpose', columns=['funded_amnt_category'], values='loan_status_numeric', aggfunc='mean')\n",
    "\n",
    "# Visualize the heatmap\n",
    "plt.figure(figsize=(12, 8))\n",
    "sns.heatmap(pivot_table, annot=True, cmap='Blues', fmt=\".2f\", linewidths=.5)\n",
    "plt.show()"
   ]
  },
  {
   "cell_type": "code",
   "execution_count": 483,
   "id": "28481f4c",
   "metadata": {},
   "outputs": [
    {
     "data": {
      "image/png": "[encoded data removed]",
      "text/plain": [
       "<Figure size 1200x800 with 2 Axes>"
      ]
     },
     "metadata": {},
     "output_type": "display_data"
    }
   ],
   "source": [
    "pivot_table = df.pivot_table(index='annual_income_category', columns=['funded_amnt_category','int_rate_category'], values='loan_status_numeric', aggfunc='mean')\n",
    "\n",
    "# Visualize the heatmap\n",
    "plt.figure(figsize=(12, 8))\n",
    "sns.heatmap(pivot_table, annot=True, cmap='Blues', fmt=\".2f\", linewidths=.5)\n",
    "plt.show()\n",
    "\n",
    "\n",
    "\n",
    "\n",
    "\n"
   ]
  },
  {
   "cell_type": "code",
   "execution_count": 485,
   "id": "5ac9f84c",
   "metadata": {},
   "outputs": [
    {
     "data": {
      "image/png": "[encoded data removed]",
      "text/plain": [
       "<Figure size 1200x800 with 2 Axes>"
      ]
     },
     "metadata": {},
     "output_type": "display_data"
    }
   ],
   "source": [
    "pivot_table = df.pivot_table(index='purpose', columns=['inq_last_6mths'], values='loan_status_numeric', aggfunc='mean')\n",
    "\n",
    "# Visualize the heatmap\n",
    "plt.figure(figsize=(12, 8))\n",
    "sns.heatmap(pivot_table, annot=True, cmap='Blues', fmt=\".2f\", linewidths=.5)\n",
    "plt.show()"
   ]
  },
  {
   "cell_type": "code",
   "execution_count": 491,
   "id": "eda49967",
   "metadata": {},
   "outputs": [
    {
     "data": {
      "image/png": "[encoded data removed]",
      "text/plain": [
       "<Figure size 1200x800 with 2 Axes>"
      ]
     },
     "metadata": {},
     "output_type": "display_data"
    }
   ],
   "source": [
    "pivot_table = df.pivot_table(index='home_ownership', columns=['verification_status'], values='loan_status_numeric', aggfunc='mean')\n",
    "\n",
    "# Visualize the heatmap\n",
    "plt.figure(figsize=(12, 8))\n",
    "sns.heatmap(pivot_table, annot=True, cmap='Blues', fmt=\".2f\", linewidths=.5)\n",
    "plt.show()"
   ]
  },
  {
   "cell_type": "code",
   "execution_count": 539,
   "id": "48dddf12",
   "metadata": {},
   "outputs": [
    {
     "data": {
      "image/png": "[encoded data removed]",
      "text/plain": [
       "<Figure size 1200x800 with 2 Axes>"
      ]
     },
     "metadata": {},
     "output_type": "display_data"
    }
   ],
   "source": [
    "pivot_table = df.pivot_table(index='grade', columns=['annual_income_category'], values='loan_status_numeric', aggfunc='mean')\n",
    "\n",
    "# Visualize the heatmap\n",
    "plt.figure(figsize=(12, 8))\n",
    "sns.heatmap(pivot_table, annot=True, cmap='Blues', fmt=\".2f\", linewidths=.5)\n",
    "plt.show()"
   ]
  },
  {
   "cell_type": "code",
   "execution_count": null,
   "id": "4827bded",
   "metadata": {},
   "outputs": [],
   "source": []
  },
  {
   "cell_type": "code",
   "execution_count": null,
   "id": "ee896490",
   "metadata": {},
   "outputs": [],
   "source": []
  },
  {
   "cell_type": "code",
   "execution_count": null,
   "id": "95d15337",
   "metadata": {},
   "outputs": [],
   "source": []
  },
  {
   "cell_type": "code",
   "execution_count": null,
   "id": "1fc247fd",
   "metadata": {},
   "outputs": [],
   "source": []
  },
  {
   "cell_type": "code",
   "execution_count": null,
   "id": "017146c9",
   "metadata": {},
   "outputs": [],
   "source": []
  },
  {
   "cell_type": "code",
   "execution_count": null,
   "id": "09a2709f",
   "metadata": {},
   "outputs": [],
   "source": []
  },
  {
   "cell_type": "code",
   "execution_count": null,
   "id": "a4d57f96",
   "metadata": {},
   "outputs": [],
   "source": []
  },
  {
   "cell_type": "code",
   "execution_count": null,
   "id": "de2e2e44",
   "metadata": {},
   "outputs": [],
   "source": []
  },
  {
   "cell_type": "code",
   "execution_count": null,
   "id": "9410c799",
   "metadata": {},
   "outputs": [],
   "source": []
  },
  {
   "cell_type": "code",
   "execution_count": null,
   "id": "cc0e3c0c",
   "metadata": {},
   "outputs": [],
   "source": []
  },
  {
   "cell_type": "code",
   "execution_count": null,
   "id": "45c15cbc",
   "metadata": {},
   "outputs": [],
   "source": []
  },
  {
   "cell_type": "code",
   "execution_count": null,
   "id": "db333ba5",
   "metadata": {},
   "outputs": [],
   "source": []
  },
  {
   "cell_type": "code",
   "execution_count": null,
   "id": "2badc256",
   "metadata": {},
   "outputs": [],
   "source": []
  },
  {
   "cell_type": "code",
   "execution_count": null,
   "id": "140850e5",
   "metadata": {},
   "outputs": [],
   "source": []
  },
  {
   "cell_type": "code",
   "execution_count": null,
   "id": "1956915b",
   "metadata": {},
   "outputs": [],
   "source": []
  },
  {
   "cell_type": "code",
   "execution_count": null,
   "id": "d6309253",
   "metadata": {},
   "outputs": [],
   "source": []
  },
  {
   "cell_type": "code",
   "execution_count": null,
   "id": "5a0b73b4",
   "metadata": {},
   "outputs": [],
   "source": []
  },
  {
   "cell_type": "code",
   "execution_count": null,
   "id": "8f942a2c",
   "metadata": {},
   "outputs": [],
   "source": []
  },
  {
   "cell_type": "code",
   "execution_count": null,
   "id": "a3ce3fc3",
   "metadata": {},
   "outputs": [],
   "source": []
  },
  {
   "cell_type": "code",
   "execution_count": null,
   "id": "fb56f4a2",
   "metadata": {},
   "outputs": [],
   "source": []
  },
  {
   "cell_type": "code",
   "execution_count": null,
   "id": "0d2f2510",
   "metadata": {},
   "outputs": [],
   "source": []
  },
  {
   "cell_type": "code",
   "execution_count": null,
   "id": "71fbf086",
   "metadata": {},
   "outputs": [],
   "source": []
  },
  {
   "cell_type": "code",
   "execution_count": null,
   "id": "5df94401",
   "metadata": {},
   "outputs": [],
   "source": []
  },
  {
   "cell_type": "code",
   "execution_count": null,
   "id": "5210034e",
   "metadata": {},
   "outputs": [],
   "source": []
  },
  {
   "cell_type": "code",
   "execution_count": null,
   "id": "5dd50620",
   "metadata": {},
   "outputs": [],
   "source": []
  },
  {
   "cell_type": "code",
   "execution_count": null,
   "id": "a93c28e2",
   "metadata": {},
   "outputs": [],
   "source": []
  },
  {
   "cell_type": "code",
   "execution_count": null,
   "id": "ab0e4fdb",
   "metadata": {},
   "outputs": [],
   "source": []
  },
  {
   "cell_type": "code",
   "execution_count": null,
   "id": "128ef140",
   "metadata": {},
   "outputs": [],
   "source": []
  },
  {
   "cell_type": "code",
   "execution_count": null,
   "id": "eb99cf9e",
   "metadata": {},
   "outputs": [],
   "source": []
  },
  {
   "cell_type": "code",
   "execution_count": null,
   "id": "85b1b7e5",
   "metadata": {},
   "outputs": [],
   "source": []
  },
  {
   "cell_type": "code",
   "execution_count": null,
   "id": "b0d9fefd",
   "metadata": {},
   "outputs": [],
   "source": []
  },
  {
   "cell_type": "code",
   "execution_count": null,
   "id": "71cc94ad",
   "metadata": {},
   "outputs": [],
   "source": []
  },
  {
   "cell_type": "code",
   "execution_count": null,
   "id": "3521f174",
   "metadata": {},
   "outputs": [],
   "source": []
  },
  {
   "cell_type": "code",
   "execution_count": null,
   "id": "d6967c18",
   "metadata": {},
   "outputs": [],
   "source": []
  },
  {
   "cell_type": "code",
   "execution_count": null,
   "id": "2c2edec5",
   "metadata": {},
   "outputs": [],
   "source": []
  },
  {
   "cell_type": "code",
   "execution_count": null,
   "id": "2bba6861",
   "metadata": {},
   "outputs": [],
   "source": []
  },
  {
   "cell_type": "code",
   "execution_count": null,
   "id": "bee6a3e4",
   "metadata": {},
   "outputs": [],
   "source": []
  },
  {
   "cell_type": "code",
   "execution_count": null,
   "id": "1f173907",
   "metadata": {},
   "outputs": [],
   "source": []
  },
  {
   "cell_type": "code",
   "execution_count": null,
   "id": "81258fd4",
   "metadata": {},
   "outputs": [],
   "source": []
  },
  {
   "cell_type": "code",
   "execution_count": null,
   "id": "c7b6c8e6",
   "metadata": {},
   "outputs": [],
   "source": []
  },
  {
   "cell_type": "code",
   "execution_count": null,
   "id": "309269d9",
   "metadata": {},
   "outputs": [],
   "source": []
  },
  {
   "cell_type": "code",
   "execution_count": null,
   "id": "54d56e00",
   "metadata": {},
   "outputs": [],
   "source": []
  },
  {
   "cell_type": "code",
   "execution_count": null,
   "id": "adcc9c2f",
   "metadata": {},
   "outputs": [],
   "source": []
  },
  {
   "cell_type": "code",
   "execution_count": null,
   "id": "9fa56425",
   "metadata": {},
   "outputs": [],
   "source": []
  },
  {
   "cell_type": "code",
   "execution_count": null,
   "id": "f8e3b002",
   "metadata": {},
   "outputs": [],
   "source": []
  },
  {
   "cell_type": "code",
   "execution_count": null,
   "id": "d6fc5265",
   "metadata": {},
   "outputs": [],
   "source": []
  },
  {
   "cell_type": "code",
   "execution_count": null,
   "id": "233ea977",
   "metadata": {},
   "outputs": [],
   "source": []
  },
  {
   "cell_type": "code",
   "execution_count": null,
   "id": "c2b795c8",
   "metadata": {},
   "outputs": [],
   "source": []
  },
  {
   "cell_type": "code",
   "execution_count": null,
   "id": "6a04db44",
   "metadata": {},
   "outputs": [],
   "source": []
  },
  {
   "cell_type": "code",
   "execution_count": null,
   "id": "68f5822e",
   "metadata": {},
   "outputs": [],
   "source": []
  },
  {
   "cell_type": "code",
   "execution_count": null,
   "id": "3cbe31c0",
   "metadata": {},
   "outputs": [],
   "source": []
  },
  {
   "cell_type": "code",
   "execution_count": null,
   "id": "97c429bd",
   "metadata": {},
   "outputs": [],
   "source": []
  },
  {
   "cell_type": "code",
   "execution_count": null,
   "id": "22564418",
   "metadata": {},
   "outputs": [],
   "source": []
  },
  {
   "cell_type": "code",
   "execution_count": null,
   "id": "aff50c0e",
   "metadata": {},
   "outputs": [],
   "source": []
  },
  {
   "cell_type": "code",
   "execution_count": null,
   "id": "d9a19005",
   "metadata": {},
   "outputs": [],
   "source": []
  },
  {
   "cell_type": "code",
   "execution_count": null,
   "id": "0d87a68a",
   "metadata": {},
   "outputs": [],
   "source": []
  },
  {
   "cell_type": "code",
   "execution_count": null,
   "id": "246d4934",
   "metadata": {},
   "outputs": [],
   "source": []
  },
  {
   "cell_type": "code",
   "execution_count": null,
   "id": "8b7bfeb3",
   "metadata": {},
   "outputs": [],
   "source": []
  },
  {
   "cell_type": "code",
   "execution_count": null,
   "id": "89621de6",
   "metadata": {},
   "outputs": [],
   "source": []
  },
  {
   "cell_type": "code",
   "execution_count": null,
   "id": "65a2698d",
   "metadata": {},
   "outputs": [],
   "source": []
  },
  {
   "cell_type": "code",
   "execution_count": null,
   "id": "976d55fe",
   "metadata": {},
   "outputs": [],
   "source": []
  },
  {
   "cell_type": "code",
   "execution_count": 114,
   "id": "2ed7f0df",
   "metadata": {},
   "outputs": [],
   "source": []
  },
  {
   "cell_type": "code",
   "execution_count": null,
   "id": "c4378063",
   "metadata": {},
   "outputs": [],
   "source": []
  },
  {
   "cell_type": "code",
   "execution_count": null,
   "id": "f9f06423",
   "metadata": {},
   "outputs": [],
   "source": []
  },
  {
   "cell_type": "code",
   "execution_count": null,
   "id": "2dfe6331",
   "metadata": {},
   "outputs": [],
   "source": []
  },
  {
   "cell_type": "code",
   "execution_count": null,
   "id": "cd3228d3",
   "metadata": {},
   "outputs": [],
   "source": []
  },
  {
   "cell_type": "code",
   "execution_count": null,
   "id": "4fba64ae",
   "metadata": {},
   "outputs": [],
   "source": []
  },
  {
   "cell_type": "code",
   "execution_count": null,
   "id": "6f5242ab",
   "metadata": {},
   "outputs": [],
   "source": []
  },
  {
   "cell_type": "code",
   "execution_count": null,
   "id": "1a9cf487",
   "metadata": {},
   "outputs": [],
   "source": []
  },
  {
   "cell_type": "code",
   "execution_count": null,
   "id": "5f8c615b",
   "metadata": {},
   "outputs": [],
   "source": []
  },
  {
   "cell_type": "code",
   "execution_count": null,
   "id": "caa3de3a",
   "metadata": {},
   "outputs": [],
   "source": []
  },
  {
   "cell_type": "code",
   "execution_count": null,
   "id": "d65df188",
   "metadata": {},
   "outputs": [],
   "source": []
  },
  {
   "cell_type": "code",
   "execution_count": null,
   "id": "3c9072d3",
   "metadata": {},
   "outputs": [],
   "source": []
  },
  {
   "cell_type": "code",
   "execution_count": null,
   "id": "17b389a7",
   "metadata": {},
   "outputs": [],
   "source": []
  },
  {
   "cell_type": "code",
   "execution_count": null,
   "id": "e271adda",
   "metadata": {},
   "outputs": [],
   "source": []
  },
  {
   "cell_type": "code",
   "execution_count": null,
   "id": "1662e537",
   "metadata": {},
   "outputs": [],
   "source": []
  },
  {
   "cell_type": "code",
   "execution_count": null,
   "id": "6f4251c8",
   "metadata": {},
   "outputs": [],
   "source": []
  },
  {
   "cell_type": "code",
   "execution_count": null,
   "id": "a0f184ff",
   "metadata": {},
   "outputs": [],
   "source": []
  },
  {
   "cell_type": "code",
   "execution_count": null,
   "id": "6d03009b",
   "metadata": {},
   "outputs": [],
   "source": []
  },
  {
   "cell_type": "code",
   "execution_count": null,
   "id": "671510ac",
   "metadata": {},
   "outputs": [],
   "source": []
  },
  {
   "cell_type": "code",
   "execution_count": null,
   "id": "fa7ea3ae",
   "metadata": {},
   "outputs": [],
   "source": []
  },
  {
   "cell_type": "code",
   "execution_count": null,
   "id": "d681d6c1",
   "metadata": {},
   "outputs": [],
   "source": []
  },
  {
   "cell_type": "code",
   "execution_count": null,
   "id": "df177c65",
   "metadata": {},
   "outputs": [],
   "source": []
  },
  {
   "cell_type": "code",
   "execution_count": null,
   "id": "02b160c1",
   "metadata": {},
   "outputs": [],
   "source": []
  },
  {
   "cell_type": "code",
   "execution_count": null,
   "id": "1edc686f",
   "metadata": {},
   "outputs": [],
   "source": []
  },
  {
   "cell_type": "code",
   "execution_count": null,
   "id": "7e17b36a",
   "metadata": {},
   "outputs": [],
   "source": []
  },
  {
   "cell_type": "code",
   "execution_count": null,
   "id": "8db4ad46",
   "metadata": {},
   "outputs": [],
   "source": []
  },
  {
   "cell_type": "code",
   "execution_count": null,
   "id": "82e9b91a",
   "metadata": {},
   "outputs": [],
   "source": []
  },
  {
   "cell_type": "code",
   "execution_count": null,
   "id": "3359d54b",
   "metadata": {},
   "outputs": [],
   "source": []
  },
  {
   "cell_type": "code",
   "execution_count": null,
   "id": "9fbae264",
   "metadata": {},
   "outputs": [],
   "source": []
  },
  {
   "cell_type": "code",
   "execution_count": null,
   "id": "bfee8ef5",
   "metadata": {},
   "outputs": [],
   "source": []
  },
  {
   "cell_type": "code",
   "execution_count": null,
   "id": "b19e98d3",
   "metadata": {},
   "outputs": [],
   "source": []
  },
  {
   "cell_type": "code",
   "execution_count": null,
   "id": "6ebc1f4c",
   "metadata": {},
   "outputs": [],
   "source": []
  },
  {
   "cell_type": "code",
   "execution_count": null,
   "id": "922e0440",
   "metadata": {},
   "outputs": [],
   "source": []
  },
  {
   "cell_type": "code",
   "execution_count": null,
   "id": "11e8ca60",
   "metadata": {},
   "outputs": [],
   "source": []
  },
  {
   "cell_type": "code",
   "execution_count": null,
   "id": "62600a1b",
   "metadata": {},
   "outputs": [],
   "source": []
  },
  {
   "cell_type": "code",
   "execution_count": null,
   "id": "9db12dfd",
   "metadata": {},
   "outputs": [],
   "source": []
  },
  {
   "cell_type": "code",
   "execution_count": null,
   "id": "90ceeeda",
   "metadata": {},
   "outputs": [],
   "source": []
  },
  {
   "cell_type": "code",
   "execution_count": null,
   "id": "547d1100",
   "metadata": {},
   "outputs": [],
   "source": []
  },
  {
   "cell_type": "code",
   "execution_count": null,
   "id": "db27cc7e",
   "metadata": {},
   "outputs": [],
   "source": []
  },
  {
   "cell_type": "code",
   "execution_count": null,
   "id": "7f200333",
   "metadata": {},
   "outputs": [],
   "source": []
  },
  {
   "cell_type": "code",
   "execution_count": null,
   "id": "841ebdad",
   "metadata": {},
   "outputs": [],
   "source": []
  },
  {
   "cell_type": "code",
   "execution_count": null,
   "id": "04e38abd",
   "metadata": {},
   "outputs": [],
   "source": []
  },
  {
   "cell_type": "code",
   "execution_count": null,
   "id": "fee511ef",
   "metadata": {},
   "outputs": [],
   "source": []
  },
  {
   "cell_type": "code",
   "execution_count": null,
   "id": "bcc2c12f",
   "metadata": {},
   "outputs": [],
   "source": []
  },
  {
   "cell_type": "code",
   "execution_count": null,
   "id": "e8f6b357",
   "metadata": {},
   "outputs": [],
   "source": []
  },
  {
   "cell_type": "code",
   "execution_count": null,
   "id": "dc1583af",
   "metadata": {},
   "outputs": [],
   "source": []
  },
  {
   "cell_type": "code",
   "execution_count": null,
   "id": "a1a59b94",
   "metadata": {},
   "outputs": [],
   "source": []
  },
  {
   "cell_type": "code",
   "execution_count": null,
   "id": "d3226305",
   "metadata": {},
   "outputs": [],
   "source": []
  },
  {
   "cell_type": "code",
   "execution_count": null,
   "id": "9523dd02",
   "metadata": {},
   "outputs": [],
   "source": []
  },
  {
   "cell_type": "code",
   "execution_count": null,
   "id": "060c78a4",
   "metadata": {},
   "outputs": [],
   "source": []
  },
  {
   "cell_type": "code",
   "execution_count": null,
   "id": "12c86aa7",
   "metadata": {},
   "outputs": [],
   "source": []
  },
  {
   "cell_type": "code",
   "execution_count": null,
   "id": "08283c3c",
   "metadata": {},
   "outputs": [],
   "source": []
  },
  {
   "cell_type": "code",
   "execution_count": null,
   "id": "fc42f0f3",
   "metadata": {},
   "outputs": [],
   "source": []
  },
  {
   "cell_type": "code",
   "execution_count": null,
   "id": "44219711",
   "metadata": {},
   "outputs": [],
   "source": []
  },
  {
   "cell_type": "code",
   "execution_count": null,
   "id": "35b70db8",
   "metadata": {},
   "outputs": [],
   "source": []
  },
  {
   "cell_type": "code",
   "execution_count": null,
   "id": "dd707eac",
   "metadata": {},
   "outputs": [],
   "source": []
  },
  {
   "cell_type": "code",
   "execution_count": null,
   "id": "d2e0bc88",
   "metadata": {},
   "outputs": [],
   "source": []
  },
  {
   "cell_type": "code",
   "execution_count": null,
   "id": "79fc35eb",
   "metadata": {},
   "outputs": [],
   "source": []
  },
  {
   "cell_type": "code",
   "execution_count": null,
   "id": "6f5d788d",
   "metadata": {},
   "outputs": [],
   "source": []
  },
  {
   "cell_type": "code",
   "execution_count": null,
   "id": "27749dfe",
   "metadata": {},
   "outputs": [],
   "source": []
  },
  {
   "cell_type": "code",
   "execution_count": null,
   "id": "687ef365",
   "metadata": {},
   "outputs": [],
   "source": []
  },
  {
   "cell_type": "code",
   "execution_count": null,
   "id": "e5464bac",
   "metadata": {},
   "outputs": [],
   "source": []
  },
  {
   "cell_type": "code",
   "execution_count": null,
   "id": "24dc719f",
   "metadata": {},
   "outputs": [],
   "source": []
  },
  {
   "cell_type": "code",
   "execution_count": null,
   "id": "e9c0aa9c",
   "metadata": {},
   "outputs": [],
   "source": []
  },
  {
   "cell_type": "code",
   "execution_count": null,
   "id": "4627eb27",
   "metadata": {},
   "outputs": [],
   "source": []
  },
  {
   "cell_type": "code",
   "execution_count": null,
   "id": "ec9209e1",
   "metadata": {},
   "outputs": [],
   "source": []
  },
  {
   "cell_type": "code",
   "execution_count": null,
   "id": "a56db3ad",
   "metadata": {},
   "outputs": [],
   "source": []
  },
  {
   "cell_type": "code",
   "execution_count": null,
   "id": "ea678844",
   "metadata": {},
   "outputs": [],
   "source": []
  },
  {
   "cell_type": "code",
   "execution_count": null,
   "id": "bdd79dea",
   "metadata": {},
   "outputs": [],
   "source": []
  },
  {
   "cell_type": "code",
   "execution_count": null,
   "id": "02324a4d",
   "metadata": {},
   "outputs": [],
   "source": []
  },
  {
   "cell_type": "code",
   "execution_count": null,
   "id": "06bf3dda",
   "metadata": {},
   "outputs": [],
   "source": []
  },
  {
   "cell_type": "code",
   "execution_count": null,
   "id": "6de105ed",
   "metadata": {},
   "outputs": [],
   "source": []
  },
  {
   "cell_type": "code",
   "execution_count": null,
   "id": "f934c4a5",
   "metadata": {},
   "outputs": [],
   "source": []
  },
  {
   "cell_type": "code",
   "execution_count": null,
   "id": "7e53fa7a",
   "metadata": {},
   "outputs": [],
   "source": []
  }
 ],
 "metadata": {
  "kernelspec": {
   "display_name": "Python 3 (ipykernel)",
   "language": "python",
   "name": "python3"
  },
  "language_info": {
   "codemirror_mode": {
    "name": "ipython",
    "version": 3
   },
   "file_extension": ".py",
   "mimetype": "text/x-python",
   "name": "python",
   "nbconvert_exporter": "python",
   "pygments_lexer": "ipython3",
   "version": "3.11.3"
  }
 },
 "nbformat": 4,
 "nbformat_minor": 5
}
